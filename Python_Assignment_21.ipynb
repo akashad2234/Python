{
 "cells": [
  {
   "cell_type": "code",
   "execution_count": 1,
   "id": "b76bf966",
   "metadata": {},
   "outputs": [
    {
     "name": "stdout",
     "output_type": "stream",
     "text": [
      "1505,1540,1575,1610,1645,1680,1715,1750,1785,1820,1855,1890,1925,1960,1995,2030,2065,2100,2135,2170,2205,2240,2275,2310,2345,2380,2415,2450,2485,2520,2555,2590,2625,2660,2695\n"
     ]
    }
   ],
   "source": [
    "#1.Write a Python program to find those numbers which are divisible by 7 and multiple of 5,between 1500 and 2700 (both included).\n",
    "\n",
    "nl=[]\n",
    "for x in range(1500, 2701):\n",
    "    if (x%7==0) and (x%5==0):\n",
    "        nl.append(str(x))\n",
    "print (','.join(nl))\n"
   ]
  },
  {
   "cell_type": "code",
   "execution_count": 2,
   "id": "f9f8ad2e",
   "metadata": {},
   "outputs": [
    {
     "name": "stdout",
     "output_type": "stream",
     "text": [
      "Input a word to reverse: awesomeLook\n",
      "kooLemosewa\n",
      "\n"
     ]
    }
   ],
   "source": [
    "#Write a Python program that accepts a word from the user and reverse it.\n",
    "word = input(\"Input a word to reverse: \")\n",
    "\n",
    "for char in range(len(word) - 1, -1, -1):\n",
    "    print(word[char], end=\"\")\n",
    "print(\"\\n\")\n"
   ]
  },
  {
   "cell_type": "code",
   "execution_count": 3,
   "id": "c60ee3bf",
   "metadata": {},
   "outputs": [
    {
     "name": "stdout",
     "output_type": "stream",
     "text": [
      "Input a dog's age in human years: 12\n",
      "The dog's age in dog's years is 61\n"
     ]
    }
   ],
   "source": [
    "#3.Write a Python program to calculate a dog's age in dog's years.Note: For the first two years,a dog year is equal to 10.5 \n",
    "#human years. After that, each dog year equals 4 human years.\n",
    "\n",
    "h_age = int(input(\"Input a dog's age in human years: \"))\n",
    "\n",
    "if h_age < 0:\n",
    "    print(\"Age must be positive number.\")\n",
    "    exit()\n",
    "elif h_age <= 2:\n",
    "    d_age = h_age * 10.5\n",
    "else:\n",
    "    d_age = 21 + (h_age - 2)*4\n",
    "\n",
    "print(\"The dog's age in dog's years is\", d_age)\n"
   ]
  },
  {
   "cell_type": "code",
   "execution_count": 4,
   "id": "0081f0f8",
   "metadata": {},
   "outputs": [
    {
     "name": "stdout",
     "output_type": "stream",
     "text": [
      "Input lengths of the triangle sides: \n",
      "x: 6\n",
      "y: 8\n",
      "z: 12\n",
      "Scalene triangle\n"
     ]
    }
   ],
   "source": [
    "#4.Write a Python program to check a triangle is equilateral, isosceles or scalene\n",
    "\n",
    "print(\"Input lengths of the triangle sides: \")\n",
    "x = int(input(\"x: \"))\n",
    "y = int(input(\"y: \"))\n",
    "z = int(input(\"z: \"))\n",
    "\n",
    "if x == y == z:\n",
    "    print(\"Equilateral triangle\")\n",
    "elif x==y or y==z or z==x:\n",
    "    print(\"isosceles triangle\")\n",
    "else:\n",
    "    print(\"Scalene triangle\")"
   ]
  },
  {
   "cell_type": "code",
   "execution_count": 6,
   "id": "1b716be1",
   "metadata": {},
   "outputs": [
    {
     "name": "stdout",
     "output_type": "stream",
     "text": [
      "3\n"
     ]
    }
   ],
   "source": [
    "#5.Write a Python program to detect the number of local variables declared in a function\n",
    "def abc():\n",
    "    x = 1\n",
    "    y = 2\n",
    "    str1= \"device123\"\n",
    "    print(\"Python Exercises\")\n",
    "\n",
    "print(abc.__code__.co_nlocals)"
   ]
  },
  {
   "cell_type": "code",
   "execution_count": 10,
   "id": "681c6a15",
   "metadata": {},
   "outputs": [
    {
     "name": "stdout",
     "output_type": "stream",
     "text": [
      "hello world\n",
      "Multiply of 2 and 3 is:  6\n"
     ]
    }
   ],
   "source": [
    "#6.Write a Python program to execute a string containing Python code\n",
    "mycode = 'print(\"hello world\")'\n",
    "code = \"\"\"\n",
    "def mutiply(x,y):\n",
    "    return x*y\n",
    "\n",
    "print('Multiply of 2 and 3 is: ',mutiply(2,3))\n",
    "\"\"\"\n",
    "exec(mycode)\n",
    "exec(code)"
   ]
  },
  {
   "cell_type": "code",
   "execution_count": 13,
   "id": "793d5456",
   "metadata": {},
   "outputs": [
    {
     "name": "stdout",
     "output_type": "stream",
     "text": [
      "Original list of tuples: [('red', 'pink'), ('white', 'black'), ('orange', 'green')]\n",
      "\n",
      "Convert the said list of tuples to a list of strings:\n",
      "['red pink', 'white black', 'orange green']\n",
      "\n",
      "Original list of tuples: [('Sheridan', 'Gentry'), ('Laila', 'Mckee'), ('Ahsan', 'Rivas'), ('Conna', 'Gonzalez')]\n",
      "\n",
      "Convert the said list of tuples to a list of strings:\n",
      "['Sheridan Gentry', 'Laila Mckee', 'Ahsan Rivas', 'Conna Gonzalez']\n"
     ]
    }
   ],
   "source": [
    "#7.Write a Python program to convert a given list of tuples to a list of strings using map function.\n",
    "def tuples_to_list_string(lst):\n",
    "    result = list(map(' '.join, lst))\n",
    "    return result   \n",
    "colors = [('red', 'pink'), ('white', 'black'), ('orange', 'green')]\n",
    "print(\"Original list of tuples:\",colors)\n",
    "print(\"\\nConvert the said list of tuples to a list of strings:\")\n",
    "print(tuples_to_list_string(colors))\n",
    "names = [('Sheridan','Gentry'), ('Laila','Mckee'), ('Ahsan','Rivas'), ('Conna','Gonzalez')]\n",
    "print(\"\\nOriginal list of tuples:\",names)\n",
    "print(\"\\nConvert the said list of tuples to a list of strings:\")\n",
    "print(tuples_to_list_string(names))"
   ]
  },
  {
   "cell_type": "code",
   "execution_count": 15,
   "id": "413d87c9",
   "metadata": {},
   "outputs": [
    {
     "name": "stdout",
     "output_type": "stream",
     "text": [
      "Original dictionary of lists: {'Science': [88, 89, 62, 95], 'Language': [77, 78, 84, 80]}\n",
      "\n",
      "Split said dictionary of lists into list of dictionaries:\n",
      "[{'Science': 88, 'Language': 77}, {'Science': 89, 'Language': 78}, {'Science': 62, 'Language': 84}, {'Science': 95, 'Language': 80}]\n"
     ]
    }
   ],
   "source": [
    "#8.Write a Python program to split a given dictionary of lists into list of dictionaries using map function.\n",
    "def list_of_dicts(marks):\n",
    "    result = map(dict, zip(*[[(key, val) for val in value] for key, value in marks.items()]))\n",
    "    return list(result)\n",
    "marks = {'Science': [88, 89, 62, 95], 'Language': [77, 78, 84, 80]}\n",
    "print(\"Original dictionary of lists:\",marks)\n",
    "print(\"\\nSplit said dictionary of lists into list of dictionaries:\")\n",
    "print(list_of_dicts(marks))"
   ]
  },
  {
   "cell_type": "code",
   "execution_count": 17,
   "id": "798f61de",
   "metadata": {},
   "outputs": [
    {
     "name": "stdout",
     "output_type": "stream",
     "text": [
      "dreamhouse-lwc dir\n",
      "my_sfdx_project dir\n"
     ]
    }
   ],
   "source": [
    "#9.Write a Python program to scan a specified directory and identify the sub directories and files\n",
    "import os\n",
    "root = 'E:\\\\Apps\\\\'\n",
    "for entry in os.scandir(root):\n",
    "    if entry.is_dir():\n",
    "        typ = 'dir'\n",
    "    elif entry.is_file():\n",
    "        typ = 'file'\n",
    "    elif entry.is_symlink():\n",
    "        typ = 'link'\n",
    "    else:\n",
    "        typ = 'unknown'\n",
    "    print('{name} {typ}'.format(\n",
    "       name=entry.name,\n",
    "       typ=typ,\n",
    "   ))\n"
   ]
  },
  {
   "cell_type": "code",
   "execution_count": 18,
   "id": "fe9c7b23",
   "metadata": {},
   "outputs": [
    {
     "name": "stdout",
     "output_type": "stream",
     "text": [
      "String representing time: 22 January, 2021\n",
      "time.struct_time(tm_year=2021, tm_mon=1, tm_mday=22, tm_hour=0, tm_min=0, tm_sec=0, tm_wday=4, tm_yday=22, tm_isdst=-1)\n",
      "\n",
      "String representing time: 30 Nov 00\n",
      "time.struct_time(tm_year=2000, tm_mon=11, tm_mday=30, tm_hour=0, tm_min=0, tm_sec=0, tm_wday=3, tm_yday=335, tm_isdst=-1)\n",
      "\n",
      "String representing time: 04/11/15 11:55:23\n",
      "time.struct_time(tm_year=2015, tm_mon=4, tm_mday=11, tm_hour=11, tm_min=55, tm_sec=23, tm_wday=5, tm_yday=101, tm_isdst=-1)\n",
      "\n",
      "String representing time: 12-11-2019\n",
      "time.struct_time(tm_year=2019, tm_mon=12, tm_mday=11, tm_hour=0, tm_min=0, tm_sec=0, tm_wday=2, tm_yday=345, tm_isdst=-1)\n",
      "\n",
      "String representing time: 13::55::26\n",
      "time.struct_time(tm_year=1900, tm_mon=1, tm_mday=1, tm_hour=13, tm_min=55, tm_sec=26, tm_wday=0, tm_yday=1, tm_isdst=-1)\n"
     ]
    }
   ],
   "source": [
    "#10.Write a Python program to parse a string representing time and returns the structure time\n",
    "import time\n",
    "time_string = \"22 January, 2021\"\n",
    "print(\"String representing time:\",time_string)\n",
    "result = time.strptime(time_string, \"%d %B, %Y\")\n",
    "print(result)\n",
    "time_string = \"30 Nov 00\"\n",
    "print(\"\\nString representing time:\",time_string)\n",
    "result = time.strptime(time_string, \"%d %b %y\")\n",
    "print(result)\n",
    "time_string = '04/11/15 11:55:23'\n",
    "print(\"\\nString representing time:\",time_string)\n",
    "result = time.strptime(time_string, \"%m/%d/%y %H:%M:%S\")\n",
    "print(result)\n",
    "time_string = '12-11-2019'\n",
    "print(\"\\nString representing time:\",time_string)\n",
    "result = time.strptime(time_string, \"%m-%d-%Y\")\n",
    "print(result)\n",
    "time_string = '13::55::26'\n",
    "print(\"\\nString representing time:\",time_string)\n",
    "result = time.strptime(time_string, \"%H::%M::%S\")\n",
    "print(result)"
   ]
  },
  {
   "cell_type": "code",
   "execution_count": 19,
   "id": "cf340a93",
   "metadata": {},
   "outputs": [
    {
     "name": "stdout",
     "output_type": "stream",
     "text": [
      "Parameters:  {'key1': 'value1', 'key2': 'value2'}\n",
      "Print the url to check the URL has been correctly encoded or not!\n",
      "https://httpbin.org/get?key1=value1&key2=value2\n",
      "\n",
      "Pass a list of items as a value:\n",
      "Parameters:  {'key1': 'value1', 'key2': ['value2', 'value3']}\n",
      "Print the url to check the URL has been correctly encoded or not!\n",
      "https://httpbin.org/get?key1=value1&key2=value2&key2=value3\n"
     ]
    }
   ],
   "source": [
    "#11.Write a Python code to send some sort of data in the URL's query string\n",
    "import requests\n",
    "payload = {'key1': 'value1', 'key2': 'value2'}\n",
    "print(\"Parameters: \",payload)\n",
    "r = requests.get('https://httpbin.org/get', params=payload)\n",
    "print(\"Print the url to check the URL has been correctly encoded or not!\")\n",
    "print(r.url)\n",
    "print(\"\\nPass a list of items as a value:\")\n",
    "payload = {'key1': 'value1', 'key2': ['value2', 'value3']}\n",
    "print(\"Parameters: \",payload)\n",
    "r = requests.get('https://httpbin.org/get', params=payload)\n",
    "print(\"Print the url to check the URL has been correctly encoded or not!\")\n",
    "print(r.url)"
   ]
  },
  {
   "cell_type": "code",
   "execution_count": 21,
   "id": "9e50ade1",
   "metadata": {},
   "outputs": [
    {
     "name": "stdout",
     "output_type": "stream",
     "text": [
      "Status Code 200\n",
      "JSON Response  {'args': {}, 'data': '{\"id\": 1001, \"name\": \"geek\", \"passion\": \"coding\"}', 'files': {}, 'form': {}, 'headers': {'Accept': '*/*', 'Accept-Encoding': 'gzip, deflate', 'Content-Length': '49', 'Content-Type': 'application/json', 'Host': 'httpbin.org', 'User-Agent': 'python-requests/2.27.1', 'X-Amzn-Trace-Id': 'Root=1-61f909d8-7a1cbb816e959ac62b5c9356'}, 'json': {'id': 1001, 'name': 'geek', 'passion': 'coding'}, 'origin': '42.110.144.232', 'url': 'https://httpbin.org/post'}\n"
     ]
    }
   ],
   "source": [
    "#12.Write a Python code to send a request to a web page, and print the information of headers.\n",
    "#Also parse these values and print key-value pairs holding various information\n",
    "\n",
    "import requests\n",
    " \n",
    "url = \"https://httpbin.org/post\"\n",
    " \n",
    "data = {\n",
    "    \"id\": 1001,\n",
    "    \"name\": \"geek\",\n",
    "    \"passion\": \"coding\",\n",
    "}\n",
    " \n",
    "response = requests.post(url, json=data)\n",
    " \n",
    "print(\"Status Code\", response.status_code)\n",
    "print(\"JSON Response \", response.json())"
   ]
  },
  {
   "cell_type": "code",
   "execution_count": 22,
   "id": "1b8e7ae0",
   "metadata": {},
   "outputs": [
    {
     "name": "stdout",
     "output_type": "stream",
     "text": [
      "CSV file as a dictionary:\n",
      "\n",
      "{'id': \"['1', '2', '3']\", 'Column1': '[33, 25, 56]', 'Column2': '[35, 30, 30]', 'Column3': '[21, 40, 55]', 'Column4': '[71, 25, 55]', 'Column5': '[10, 10, 40]'}\n",
      "{'id': \"['1', '2', '3']\", 'Column1': '[33, 25, 56]', 'Column2': '[35, 30, 30]', 'Column3': '[21, 40, 55]', 'Column4': '[71, 25, 55]', 'Column5': '[10, 10, 40]'}\n",
      "{'id': \"['1', '2', '3']\", 'Column1': '[33, 25, 56]', 'Column2': '[35, 30, 30]', 'Column3': '[21, 40, 55]', 'Column4': '[71, 25, 55]', 'Column5': '[10, 10, 40]'}\n",
      "{'id': \"['1', '2', '3']\", 'Column1': '[33, 25, 56]', 'Column2': '[35, 30, 30]', 'Column3': '[21, 40, 55]', 'Column4': '[71, 25, 55]', 'Column5': '[10, 10, 40]'}\n",
      "{'id': \"['1', '2', '3']\", 'Column1': '[33, 25, 56]', 'Column2': '[35, 30, 30]', 'Column3': '[21, 40, 55]', 'Column4': '[71, 25, 55]', 'Column5': '[10, 10, 40]'}\n",
      "{'id': \"['1', '2', '3']\", 'Column1': '[33, 25, 56]', 'Column2': '[35, 30, 30]', 'Column3': '[21, 40, 55]', 'Column4': '[71, 25, 55]', 'Column5': '[10, 10, 40]'}\n"
     ]
    }
   ],
   "source": [
    "#13.Write a Python program to write a Python dictionary to a csv file.\n",
    "#After writing the CSV file read the CSV file and display the content. \n",
    "\n",
    "import csv\n",
    "csv_columns = ['id','Column1', 'Column2', 'Column3', 'Column4', 'Column5']\n",
    "dict_data = {'id':['1', '2', '3'],\n",
    "    'Column1':[33, 25, 56],\n",
    "    'Column2':[35, 30, 30],\n",
    "    'Column3':[21, 40, 55],\n",
    "    'Column4':[71, 25, 55],\n",
    "    'Column5':[10, 10, 40], }\n",
    "csv_file = \"temp.csv\"\n",
    "try:\n",
    "   with open(csv_file, 'w') as csvfile:\n",
    "       writer = csv.DictWriter(csvfile, fieldnames=csv_columns)\n",
    "       writer.writeheader()\n",
    "       for data in dict_data:\n",
    "           writer.writerow(dict_data)\n",
    "except IOError:\n",
    "   print(\"I/O error\")\n",
    "data = csv.DictReader(open(csv_file))\n",
    "print(\"CSV file as a dictionary:\\n\")\n",
    "for row in data:\n",
    "   print(row)\n"
   ]
  },
  {
   "cell_type": "code",
   "execution_count": 24,
   "id": "08bb58e3",
   "metadata": {},
   "outputs": [
    {
     "name": "stdout",
     "output_type": "stream",
     "text": [
      "10,Administrartion,200,1800,,\n",
      "\"20,Marketing,201,1800\",Marketing,114,1700,,\n",
      "\"30,Purchasing,114,1700\",HR,121,1500,,\n",
      "\"40,Human, Resources,203,2400\",IT,103,1400,,\n",
      "\"50,Shipping,121,1500\",Sales,204,2700,,\n",
      "\n",
      "Total no. of rows: 6\n",
      "Field names are:\n",
      "ï»¿department_id,department_name,manager_id,location_id,,\n"
     ]
    }
   ],
   "source": [
    "#14.Write a Python program that reads each row of a given csv file and skip the header of the file. \n",
    "#Also print the number of rows and the field names\n",
    "\n",
    "import csv\n",
    "fields = []\n",
    "rows = []\n",
    "with open('departments.csv', newline='') as csvfile:\n",
    " data = csv.reader(csvfile, delimiter=' ', quotechar=',')\n",
    " # Following command skips the first row of the CSV file.\n",
    " fields = next(data)\n",
    " for row in data:\n",
    "   print(', '.join(row))\n",
    "print(\"\\nTotal no. of rows: %d\"%(data.line_num))\n",
    "print('Field names are:')\n",
    "print(', '.join(field for field in fields))"
   ]
  },
  {
   "cell_type": "code",
   "execution_count": 25,
   "id": "30dc1a4a",
   "metadata": {},
   "outputs": [
    {
     "name": "stdout",
     "output_type": "stream",
     "text": [
      "True\n",
      "False\n"
     ]
    }
   ],
   "source": [
    "#Write a Python program to check that a string contains only a certain set of characters (in this case a-z, A-Z and 0-9)\n",
    "import re\n",
    "def is_allowed_specific_char(string):\n",
    "    charRe = re.compile(r'[^a-zA-Z0-9]')\n",
    "    string = charRe.search(string)\n",
    "    return not bool(string)\n",
    "\n",
    "print(is_allowed_specific_char(\"ABCDEFabcdef123450\")) \n",
    "print(is_allowed_specific_char(\"*&%@#!}{\"))\n"
   ]
  }
 ],
 "metadata": {
  "kernelspec": {
   "display_name": "Python 3 (ipykernel)",
   "language": "python",
   "name": "python3"
  },
  "language_info": {
   "codemirror_mode": {
    "name": "ipython",
    "version": 3
   },
   "file_extension": ".py",
   "mimetype": "text/x-python",
   "name": "python",
   "nbconvert_exporter": "python",
   "pygments_lexer": "ipython3",
   "version": "3.10.1"
  }
 },
 "nbformat": 4,
 "nbformat_minor": 5
}
