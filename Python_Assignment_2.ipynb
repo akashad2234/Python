{
 "cells": [
  {
   "cell_type": "code",
   "execution_count": 2,
   "id": "ccef2cf9",
   "metadata": {},
   "outputs": [
    {
     "name": "stdout",
     "output_type": "stream",
     "text": [
      "Enter number:9\n",
      "21\n"
     ]
    }
   ],
   "source": [
    "#1.\tPython Program for n-th Fibonacci number\n",
    "\n",
    "def Fibonacci(n):\n",
    "    if n<0:\n",
    "        print(\"Fibbonacci can't be computed\")\n",
    "    elif n==1:\n",
    "        return 0\n",
    "    elif n==2:\n",
    "        return 1\n",
    "    else:\n",
    "        return Fibonacci(n-1)+Fibonacci(n-2)\n",
    "# main\n",
    "n=int(input(\"Enter number:\"))\n",
    "print(Fibonacci(n))"
   ]
  },
  {
   "cell_type": "code",
   "execution_count": 4,
   "id": "cb6d391e",
   "metadata": {},
   "outputs": [
    {
     "name": "stdout",
     "output_type": "stream",
     "text": [
      "Enter the number: 34\n",
      "Yes\n"
     ]
    }
   ],
   "source": [
    "#2.\tPython Program for How to check if a given number is Fibonacci number?\n",
    "n=int(input(\"Enter the number: \"))\n",
    "c=0\n",
    "a=1\n",
    "b=1\n",
    "if n==0 or n==1:\n",
    "    print(\"Yes\")\n",
    "else:\n",
    "    while c<n:\n",
    "        c=a+b\n",
    "        b=a\n",
    "        a=c\n",
    "    if c==n:\n",
    "        print(\"Yes\")\n",
    "    else:\n",
    "        print(\"No\")"
   ]
  },
  {
   "cell_type": "code",
   "execution_count": 7,
   "id": "158251e1",
   "metadata": {},
   "outputs": [
    {
     "name": "stdout",
     "output_type": "stream",
     "text": [
      "Multiple no. :5\n",
      "Number :4\n",
      "Position of n'th multiple of k inFibonacci Series is:  30\n"
     ]
    }
   ],
   "source": [
    "#3.\tPython Program for n\\’th multiple of a number in Fibonacci Series\n",
    "def find(k, n):\n",
    "    f1 = 0\n",
    "    f2 = 1\n",
    "    i =2;\n",
    "    while i!=0:\n",
    "        f3 = f1 + f2;\n",
    "        f1 = f2;\n",
    "        f2 = f3;\n",
    "        if f2%k == 0:\n",
    "            return n*i\n",
    "        i+=1\n",
    "    return\n",
    "n = int(input(\"Multiple no. :\"))\n",
    "k = int(input(\"Number :\"));\n",
    "print(\"Position of n\\'th multiple of k in\"\"Fibonacci Series is: \", find(k,n))"
   ]
  },
  {
   "cell_type": "code",
   "execution_count": 8,
   "id": "170cb190",
   "metadata": {},
   "outputs": [
    {
     "name": "stdout",
     "output_type": "stream",
     "text": [
      "Please enter a character: p\n",
      "The ASCII value of 'p' is  112\n"
     ]
    }
   ],
   "source": [
    "#4.\tProgram to print ASCII Value of a character\n",
    "\n",
    "K = input(\"Please enter a character: \")    \n",
    "    \n",
    "print (\"The ASCII value of '\" + K + \"' is \", ord(K)) "
   ]
  },
  {
   "cell_type": "code",
   "execution_count": 9,
   "id": "ffe3b6a0",
   "metadata": {},
   "outputs": [
    {
     "name": "stdout",
     "output_type": "stream",
     "text": [
      "Enter value of N: 2\n",
      "Sum of squares =  5\n"
     ]
    }
   ],
   "source": [
    "#5.\tPython Program for Sum of squares of first n natural numbers\n",
    "N = int(input(\"Enter value of N: \"))\n",
    "\n",
    "sumVal = 0\n",
    "for i in range(1, N+1):\n",
    "    sumVal += (i*i)\n",
    "\n",
    "print(\"Sum of squares = \", sumVal)"
   ]
  },
  {
   "cell_type": "code",
   "execution_count": 10,
   "id": "16a55a74",
   "metadata": {},
   "outputs": [
    {
     "name": "stdout",
     "output_type": "stream",
     "text": [
      "Enter value of n: 2\n",
      "9\n"
     ]
    }
   ],
   "source": [
    "#6.\tPython Program for cube sum of first n natural numbers\n",
    "def sumOfSeries(n):\n",
    "    sum = 0\n",
    "    for i in range(1, n+1):\n",
    "        sum +=i*i*i\n",
    "    return sum\n",
    "n = int(input(\"Enter value of n: \"))\n",
    "print(sumOfSeries(n))"
   ]
  },
  {
   "cell_type": "code",
   "execution_count": 13,
   "id": "98f80e11",
   "metadata": {},
   "outputs": [
    {
     "name": "stdout",
     "output_type": "stream",
     "text": [
      "Enter the size of the array: 4\n",
      "Enter array elements: \n",
      "3\n",
      "5\n",
      "6\n",
      "5\n",
      "Sum: 19\n"
     ]
    }
   ],
   "source": [
    "#7.\tPython Program to find sum of array\n",
    "lst = []\n",
    "num = int(input(\"Enter the size of the array: \"))\n",
    "print(\"Enter array elements: \")\n",
    "for n in range(num):\n",
    "    numbers = int(input())\n",
    "    lst.append(numbers)\n",
    "print(\"Sum:\", sum(lst))\n"
   ]
  },
  {
   "cell_type": "code",
   "execution_count": 22,
   "id": "c7ccafaf",
   "metadata": {},
   "outputs": [
    {
     "name": "stdout",
     "output_type": "stream",
     "text": [
      "Enter the number of elements in the array: 3\n",
      "Enter elements of the array: \n",
      "15\n",
      "45\n",
      "78\n",
      "Largest in given array is 78\n"
     ]
    }
   ],
   "source": [
    "#8.\tPython Program to find largest element in an array\n",
    "def FindLargestElement(arr,n):\n",
    "    maxVal = arr[0]\n",
    "\n",
    "    for i in range(1, n):\n",
    "        if arr[i] > maxVal:\n",
    "            maxVal = arr[i]\n",
    "    return maxVal\n",
    "\n",
    "n = int(input(\"Enter the number of elements in the array: \"))\n",
    "arr = []\n",
    "print(\"Enter elements of the array: \")\n",
    "for i in range(n):\n",
    "    numbers = int(input())\n",
    "    arr.append(numbers)\n",
    "maxVal = FindLargestElement(arr,n)\n",
    "print (\"Largest in given array is\",maxVal)"
   ]
  },
  {
   "cell_type": "markdown",
   "id": "c1f5d88f",
   "metadata": {},
   "source": []
  },
  {
   "cell_type": "code",
   "execution_count": 18,
   "id": "bd8fc80c",
   "metadata": {},
   "outputs": [
    {
     "name": "stdout",
     "output_type": "stream",
     "text": [
      "Array after left rotation is:  [3, 4, 5, 6, 7, 1, 2]\n"
     ]
    }
   ],
   "source": [
    "#9.\tPython Program for array rotation\n",
    "def rotateArray(a,d):\n",
    "    temp = []\n",
    "    n=len(a)\n",
    "    for i in range(d,n):\n",
    "        temp.append(a[i])\n",
    "    i = 0\n",
    "    for i in range (0,d):\n",
    "        temp.append(a[i])\n",
    "    a=temp.copy()\n",
    "    return a\n",
    " \n",
    "arr = [1, 2, 3, 4, 5, 6, 7]\n",
    "print(\"Array after left rotation is: \", end=' ')\n",
    "print(rotateArray(arr, 2))"
   ]
  },
  {
   "cell_type": "code",
   "execution_count": 19,
   "id": "8d44def6",
   "metadata": {},
   "outputs": [
    {
     "name": "stdout",
     "output_type": "stream",
     "text": [
      "The list is :\n",
      "[34, 42, 56, 78, 9, 0, 23]\n",
      "The left_rotate method is being called\n",
      "The list after rotation is : \n",
      "78\n",
      "9\n",
      "0\n",
      "23\n",
      "34\n",
      "42\n",
      "56\n"
     ]
    }
   ],
   "source": [
    "#10.Python Program for Reversal algorithm for array rotation\n",
    "def reverse_list(my_list, begin, end):\n",
    "    while (begin < end):\n",
    "        temp = my_list[begin]\n",
    "        my_list[begin] = my_list[end]\n",
    "        my_list[end] = temp\n",
    "        begin += 1\n",
    "        end = end-1\n",
    "def left_rotate(my_list, to_rotate):\n",
    "    n = len(my_list)\n",
    "    reverse_list(my_list, 0, to_rotate-1)\n",
    "    reverse_list(my_list, to_rotate, n-1)\n",
    "    reverse_list(my_list, 0, n-1)\n",
    "def print_it(my_list):\n",
    "    for i in range(0, len(my_list)):\n",
    "        print(my_list[i])\n",
    "my_list = [34, 42, 56, 78, 9, 0, 23]\n",
    "print(\"The list is :\")\n",
    "print(my_list)\n",
    "print(\"The left_rotate method is being called\")\n",
    "left_rotate(my_list, 3)\n",
    "print(\"The list after rotation is : \")\n",
    "print_it(my_list)"
   ]
  },
  {
   "cell_type": "code",
   "execution_count": 25,
   "id": "bb47a2d7",
   "metadata": {},
   "outputs": [
    {
     "name": "stdout",
     "output_type": "stream",
     "text": [
      "15 16 50 36 15 40 "
     ]
    }
   ],
   "source": [
    "#11.Python Program to Split the array and add the first part to the end\n",
    "\n",
    "def SplitArray(arr, n, k):\n",
    "    for i in range(0, k):\n",
    "        x = arr[0]\n",
    "        for j in range(0, n-1):\n",
    "            arr[j] = arr[j + 1]\n",
    "\n",
    "        arr[n-1] = x\n",
    "arr = [15, 40, 15, 16, 50, 36]\n",
    "n = len(arr)\n",
    "position = 2\n",
    "SplitArray(arr, n, position)\n",
    "for i in range(0, n):\n",
    "    print(arr[i], end = ' ')"
   ]
  }
 ],
 "metadata": {
  "kernelspec": {
   "display_name": "Python 3 (ipykernel)",
   "language": "python",
   "name": "python3"
  },
  "language_info": {
   "codemirror_mode": {
    "name": "ipython",
    "version": 3
   },
   "file_extension": ".py",
   "mimetype": "text/x-python",
   "name": "python",
   "nbconvert_exporter": "python",
   "pygments_lexer": "ipython3",
   "version": "3.10.1"
  }
 },
 "nbformat": 4,
 "nbformat_minor": 5
}
