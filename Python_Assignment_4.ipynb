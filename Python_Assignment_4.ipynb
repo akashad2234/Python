{
 "cells": [
  {
   "cell_type": "code",
   "execution_count": 4,
   "id": "cfe9fa6e",
   "metadata": {},
   "outputs": [
    {
     "name": "stdout",
     "output_type": "stream",
     "text": [
      "Smallest element is: 4\n"
     ]
    }
   ],
   "source": [
    "#1.Python program to find smallest number in a list\n",
    "\n",
    "list1 = [10, 20, 4, 45, 99]\n",
    "\n",
    "print(\"Smallest element is:\", min(list1))"
   ]
  },
  {
   "cell_type": "code",
   "execution_count": 5,
   "id": "fcfa6927",
   "metadata": {},
   "outputs": [
    {
     "name": "stdout",
     "output_type": "stream",
     "text": [
      "Smallest element is: 99\n"
     ]
    }
   ],
   "source": [
    "#2.Python program to find largest number in a list\n",
    "\n",
    "list1 = [10, 20, 4, 45, 99]\n",
    "\n",
    "print(\"Smallest element is:\", max(list1))"
   ]
  },
  {
   "cell_type": "code",
   "execution_count": 24,
   "id": "7b39aa3a",
   "metadata": {},
   "outputs": [
    {
     "name": "stdout",
     "output_type": "stream",
     "text": [
      "Enter size of list 5\n",
      "Enter element of list 12\n",
      "Enter element of list 25\n",
      "Enter element of list 35\n",
      "Enter element of list 7\n",
      "Enter element of list 9\n",
      "second largest in  [7, 9, 12, 25, 35] is 25\n"
     ]
    }
   ],
   "source": [
    "#3.Python program to find second largest number in a list\n",
    "def second_largest(list):\n",
    "    list.sort()\n",
    "    return list[-2]\n",
    "\n",
    "li=[]\n",
    "n=int(input(\"Enter size of list \"))\n",
    "for i in range(0,n):\n",
    "    e=int(input(\"Enter element of list \"))\n",
    "    li.append(e)\n",
    "\n",
    "print(\"second largest in \",li,\"is\",second_largest(li))"
   ]
  },
  {
   "cell_type": "code",
   "execution_count": 35,
   "id": "61e2d525",
   "metadata": {},
   "outputs": [
    {
     "name": "stdout",
     "output_type": "stream",
     "text": [
      "[85, 41, 10, 7]\n"
     ]
    }
   ],
   "source": [
    "#4.Python program to find N largest elements from a list\n",
    "\n",
    "def Nmaxelements(list1, N):\n",
    "    final_list = []\n",
    "  \n",
    "    for i in range(0, N): \n",
    "        max1 = 0\n",
    "          \n",
    "        for j in range(len(list1)):     \n",
    "            if list1[j] > max1:\n",
    "                max1 = list1[j];\n",
    "                  \n",
    "        list1.remove(max1);\n",
    "        final_list.append(max1)\n",
    "          \n",
    "    print(final_list)\n",
    "    \n",
    "list1 = [2, 6, 41, 85, 0, 3, 7, 6, 10]\n",
    "N = 4\n",
    "  \n",
    "\n",
    "Nmaxelements(list1, N)"
   ]
  },
  {
   "cell_type": "code",
   "execution_count": 36,
   "id": "569b6075",
   "metadata": {},
   "outputs": [
    {
     "name": "stdout",
     "output_type": "stream",
     "text": [
      "Enter size of list 4\n",
      "Enter element of list 2\n",
      "Enter element of list 5\n",
      "Enter element of list 8\n",
      "Enter element of list 9\n",
      "Even numbers in  [2, 5, 8, 9] is [2, 8]\n"
     ]
    }
   ],
   "source": [
    "#5.Python program to print even numbers in a list\n",
    "\n",
    "def even(list):\n",
    "    new_list=[]\n",
    "    for i in list:\n",
    "        if i%2==0:               \n",
    "            new_list.append(i)\n",
    "    return new_list\n",
    "\n",
    "li=[]\n",
    "n=int(input(\"Enter size of list \"))\n",
    "for i in range(0,n):\n",
    "    e=int(input(\"Enter element of list \"))\n",
    "    li.append(e)\n",
    "\n",
    "print(\"Even numbers in \",li,\"is\",even(li))\n"
   ]
  },
  {
   "cell_type": "code",
   "execution_count": 37,
   "id": "0dfdaa29",
   "metadata": {},
   "outputs": [
    {
     "name": "stdout",
     "output_type": "stream",
     "text": [
      "Enter size of list 5\n",
      "Enter element of list 12\n",
      "Enter element of list 7\n",
      "Enter element of list 8\n",
      "Enter element of list 13\n",
      "Enter element of list 15\n",
      "Odd numbers in  [12, 7, 8, 13, 15] is [7, 13, 15]\n"
     ]
    }
   ],
   "source": [
    "#6.Python program to print odd numbers in a List\n",
    "def odd(list):\n",
    "    new_list=[]\n",
    "    for i in list:\n",
    "        if i%2!=0:               \n",
    "            new_list.append(i)\n",
    "    return new_list\n",
    "\n",
    "#input\n",
    "li=[]\n",
    "n=int(input(\"Enter size of list \"))\n",
    "for i in range(0,n):\n",
    "    e=int(input(\"Enter element of list \"))\n",
    "    li.append(e)\n",
    "\n",
    "print(\"Odd numbers in \",li,\"is\",odd(li))"
   ]
  },
  {
   "cell_type": "code",
   "execution_count": 40,
   "id": "17cf9398",
   "metadata": {},
   "outputs": [
    {
     "name": "stdout",
     "output_type": "stream",
     "text": [
      "Enter lower limit 2\n",
      "Enter upper limit 20\n",
      "Even numbers in the range are\n",
      "2 4 6 8 10 12 14 16 18 "
     ]
    }
   ],
   "source": [
    "#7.\tPython program to print all even numbers in a range\n",
    "ll=int(input(\"Enter lower limit \"))\n",
    "ul=int(input(\"Enter upper limit \"))\n",
    "\n",
    "print(\"Even numbers in the range are\")\n",
    "\n",
    "for i in range(ll,ul):\n",
    "    if i%2==0:\n",
    "        print(i,end=\" \")"
   ]
  },
  {
   "cell_type": "code",
   "execution_count": 41,
   "id": "44004114",
   "metadata": {},
   "outputs": [
    {
     "name": "stdout",
     "output_type": "stream",
     "text": [
      "Enter lower limit 2\n",
      "Enter upper limit 20\n",
      "Even numbers in the range are\n",
      "3 5 7 9 11 13 15 17 19 "
     ]
    }
   ],
   "source": [
    "#8.Python program to print all odd numbers in a range\n",
    "ll=int(input(\"Enter lower limit \"))\n",
    "ul=int(input(\"Enter upper limit \"))\n",
    "\n",
    "print(\"Even numbers in the range are\")\n",
    "\n",
    "for i in range(ll,ul):\n",
    "    if i%2!=0:\n",
    "        print(i,end=\" \")"
   ]
  },
  {
   "cell_type": "code",
   "execution_count": 42,
   "id": "7fb7d532",
   "metadata": {},
   "outputs": [
    {
     "name": "stdout",
     "output_type": "stream",
     "text": [
      "Enter size of list 5\n",
      "Enter element of list 1\n",
      "Enter element of list -2\n",
      "Enter element of list -3\n",
      "Enter element of list 4\n",
      "Enter element of list 5\n",
      "Positive numbers in [1, -2, -3, 4, 5] are: \n",
      "1 4 5 "
     ]
    }
   ],
   "source": [
    "#9.Python program to print positive numbers in a list\n",
    "li=[]\n",
    "n=int(input(\"Enter size of list \"))\n",
    "for i in range(0,n):\n",
    "    e=int(input(\"Enter element of list \"))\n",
    "    li.append(e)\n",
    "\n",
    "print(\"Positive numbers in\",li,\"are: \")\n",
    "  \n",
    "for i in li:   \n",
    "    \n",
    "    if i >= 0:\n",
    "        print(i, end = \" \")"
   ]
  },
  {
   "cell_type": "code",
   "execution_count": 44,
   "id": "6a3fc7e8",
   "metadata": {},
   "outputs": [
    {
     "name": "stdout",
     "output_type": "stream",
     "text": [
      "Enter size of list 5\n",
      "Enter element of list -2\n",
      "Enter element of list -3\n",
      "Enter element of list 1\n",
      "Enter element of list 4\n",
      "Enter element of list 8\n",
      "Negative numbers in [-2, -3, 1, 4, 8] are: \n",
      "-2 -3 "
     ]
    }
   ],
   "source": [
    "#10.Python program to print negative numbers in a list\n",
    "li=[]\n",
    "n=int(input(\"Enter size of list \"))\n",
    "for i in range(0,n):\n",
    "    e=int(input(\"Enter element of list \"))\n",
    "    li.append(e)\n",
    "\n",
    "print(\"Negative numbers in\",li,\"are: \")\n",
    "  \n",
    "for i in li:   \n",
    "    \n",
    "    if i < 0:\n",
    "        print(i, end = \" \")"
   ]
  },
  {
   "cell_type": "code",
   "execution_count": 45,
   "id": "b5ba1fb6",
   "metadata": {},
   "outputs": [
    {
     "name": "stdout",
     "output_type": "stream",
     "text": [
      "Enter lower limit -3\n",
      "Enter upper limit 4\n",
      "Even numbers in the range are\n",
      "0 1 2 3 "
     ]
    }
   ],
   "source": [
    "#11.Python program to print all positive numbers in a range\n",
    "ll=int(input(\"Enter lower limit \"))\n",
    "ul=int(input(\"Enter upper limit \"))\n",
    "\n",
    "print(\"Even numbers in the range are\")\n",
    "\n",
    "for i in range(ll,ul):\n",
    "    if i>=0:\n",
    "        print(i,end=\" \")"
   ]
  }
 ],
 "metadata": {
  "kernelspec": {
   "display_name": "Python 3 (ipykernel)",
   "language": "python",
   "name": "python3"
  },
  "language_info": {
   "codemirror_mode": {
    "name": "ipython",
    "version": 3
   },
   "file_extension": ".py",
   "mimetype": "text/x-python",
   "name": "python",
   "nbconvert_exporter": "python",
   "pygments_lexer": "ipython3",
   "version": "3.10.1"
  }
 },
 "nbformat": 4,
 "nbformat_minor": 5
}
