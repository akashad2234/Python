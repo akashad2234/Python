{
 "cells": [
  {
   "cell_type": "code",
   "execution_count": 2,
   "id": "8e7b27b3",
   "metadata": {},
   "outputs": [
    {
     "name": "stdout",
     "output_type": "stream",
     "text": [
      "The Result after Topological Sort:\n",
      "[1, 2, 3, 4, 5, 6, 7, 8]\n"
     ]
    }
   ],
   "source": [
    "#1.\tPython Program for Topological Sorting\n",
    "from collections import defaultdict\n",
    "class Graph:\n",
    "    def __init__(self, directed=False):\n",
    "        self.graph = defaultdict(list)\n",
    "        self.directed = directed\n",
    "\n",
    "    def Edge(self, frm, to):\n",
    "        self.graph[frm].append(to)\n",
    "\n",
    "        if self.directed is False:\n",
    "            self.graph[to].append(frm)\n",
    "        else:\n",
    "            self.graph[to] = self.graph[to]\n",
    "\n",
    "    def visit(self, s, visited, sortlist):\n",
    "        visited[s] = True\n",
    "\n",
    "        for i in self.graph[s]:\n",
    "            if not visited[i]:\n",
    "                self.visit(i, visited, sortlist)\n",
    "\n",
    "        sortlist.insert(0, s)\n",
    "\n",
    "    def topological_Sort(self):\n",
    "        visited = {i: False for i in self.graph}\n",
    "\n",
    "        sortlist = []\n",
    "       \n",
    "        for v in self.graph:\n",
    "            if not visited[v]:\n",
    "                self.visit(v, visited, sortlist)\n",
    "\n",
    "        print(sortlist)\n",
    "\n",
    "if __name__ == '__main__':\n",
    " \n",
    "    g = Graph(directed=True)\n",
    "\n",
    "    g.Edge(1, 2)\n",
    "    g.Edge(2, 3)\n",
    "    g.Edge(3, 4)\n",
    "    g.Edge(4, 5)\n",
    "    g.Edge(5, 6)\n",
    "    g.Edge(6, 7)\n",
    "    g.Edge(7, 8)\n",
    "    \n",
    "    print(\"The Result after Topological Sort:\")\n",
    "    g.topological_Sort()"
   ]
  },
  {
   "cell_type": "code",
   "execution_count": 4,
   "id": "8bd6d64e",
   "metadata": {},
   "outputs": [
    {
     "name": "stdout",
     "output_type": "stream",
     "text": [
      "The original array is:  [354, 954, 411, 9]\n",
      "The sorted array is:  [9, 354, 411, 954]\n"
     ]
    }
   ],
   "source": [
    "#2.\tPython Program for Radix Sort\n",
    "def counting_Sort(arr, p):\n",
    "    s = len(arr)\n",
    "    result = [0] * s\n",
    "    c = [0] * 10\n",
    "    \n",
    "    for i in range(0, s):\n",
    "        index = arr[i] // p\n",
    "        c[index % 10] += 1\n",
    "        \n",
    "    for i in range(1, 10):\n",
    "        c[i] += c[i - 1]\n",
    "\n",
    "    \n",
    "    i = s - 1\n",
    "    while i >= 0:\n",
    "        index = arr[i] // p  \n",
    "        result[c[index % 10] - 1] = arr[i]\n",
    "        c[index % 10] -= 1\n",
    "        i -= 1\n",
    "        \n",
    "    for i in range(0, s):\n",
    "        arr[i] = result[i]\n",
    "\n",
    "\n",
    "def radix_Sort(arr):\n",
    "    maximum = max(arr)\n",
    "\n",
    "    p = 1\n",
    "    while maximum // p > 0:\n",
    "        counting_Sort(arr, p)\n",
    "        p *= 10\n",
    "\n",
    "#driver code\n",
    "array = [354, 954, 411, 9]\n",
    "print(\"The original array is: \", array)\n",
    "radix_Sort(array)\n",
    "print(\"The sorted array is: \", array)"
   ]
  },
  {
   "cell_type": "code",
   "execution_count": 5,
   "id": "721f97ae",
   "metadata": {},
   "outputs": [
    {
     "name": "stdout",
     "output_type": "stream",
     "text": [
      "Enter the array numbers: 5 4 3 98 76\n",
      "The Sorted array is: [3, 4, 5, 76, 98]\n"
     ]
    }
   ],
   "source": [
    "#3.\tPython Program for Binary Insertion Sort\n",
    "def binary_insertionsort(array):\n",
    "    for i in range(1, len(array)):\n",
    "        temp = array[i]\n",
    "        pos = binary_search(array, temp, 0, i) + 1\n",
    " \n",
    "        for k in range(i, pos, -1):\n",
    "            array[k] = array[k - 1]\n",
    " \n",
    "        array[pos] = temp\n",
    "\n",
    "def binary_search(array, key, strt, end):\n",
    "    if end - strt <= 1:\n",
    "        if key < array[strt]:\n",
    "            return strt - 1\n",
    "        else:\n",
    "            return strt\n",
    " \n",
    "    middle = (strt + end)//2\n",
    "    if array[middle] < key:\n",
    "        return binary_search(array, key, middle, end)\n",
    "    elif array[middle] > key:\n",
    "        return binary_search(array, key, strt, middle)\n",
    "    else:\n",
    "        return middle\n",
    " \n",
    " #driver code\n",
    "array = input('Enter the array numbers: ').split()\n",
    "array = [int(a) for a in array]\n",
    "binary_insertionsort(array)\n",
    "print('The Sorted array is: ', end='')\n",
    "print(array)"
   ]
  },
  {
   "cell_type": "code",
   "execution_count": 7,
   "id": "330d1fd6",
   "metadata": {},
   "outputs": [
    {
     "name": "stdout",
     "output_type": "stream",
     "text": [
      "The original array is: [2, 10, 20, 5, 3, 4]\n",
      "Sorted array is [2, 3, 4, 5, 10, 20]\n"
     ]
    }
   ],
   "source": [
    "#4.\tPython Program for Bitonic Sort\n",
    "def c_swap(a, b, c, d):\n",
    "    if (d == 1 and a[b] > a[c]) or (d == 0 and a[b] < a[c]):\n",
    "        a[b], a[c] = a[c], a[b]\n",
    "\n",
    "def merge(a, b, cnt, d):\n",
    "    if cnt > 1:\n",
    "        k = int(cnt / 2)\n",
    "        for i in range(b, b + k):\n",
    "            c_swap(a, i, i + k, d)\n",
    "        merge(a, b, k, d)\n",
    "        merge(a, b + k, k, d)\n",
    "\n",
    "def bitonic_sort(a, b, cnt, d):\n",
    "    if cnt > 1:\n",
    "        k = int(cnt / 2)\n",
    "        bitonic_sort(a, b, k, 1)\n",
    "        bitonic_sort(a, b + k, k, 0)\n",
    "        merge(a, b, cnt, d)\n",
    "\n",
    "def sort(a, B, u):\n",
    "    bitonic_sort(a, 0, B, u)\n",
    "\n",
    "# driver code   \n",
    "a = [2, 10, 20, 5, 3, 4]\n",
    "n=len(a)\n",
    "print(\"The original array is:\", a)    \n",
    "u = 1\n",
    "  \n",
    "sort(a, n, u)\n",
    "print(\"Sorted array is\", a)"
   ]
  },
  {
   "cell_type": "code",
   "execution_count": 8,
   "id": "eaf383e2",
   "metadata": {},
   "outputs": [
    {
     "name": "stdout",
     "output_type": "stream",
     "text": [
      "The sorted array is:   [3, 1, 2, 5, 4]\n"
     ]
    }
   ],
   "source": [
    "#5.\tPython Program for Comb Sort\n",
    "def comb_sort(number):\n",
    "    dist = len(number)\n",
    "    swap = True\n",
    "    while dist > 1 or swap:\n",
    "        dist = max(1, int(dist / 1.25)) \n",
    "        swap = False\n",
    "        for a in range(len(number) - dist):\n",
    "            b = a+dist\n",
    "            if number[a] > number[b]:\n",
    "                number[a], number[b] = number[b], number[a]\n",
    "                swap = True\n",
    "array = [3, 1, 2, 5, 4]\n",
    "print(\"The sorted array is:  \", array)"
   ]
  },
  {
   "cell_type": "code",
   "execution_count": 9,
   "id": "593209f2",
   "metadata": {},
   "outputs": [
    {
     "name": "stdout",
     "output_type": "stream",
     "text": [
      "The Sorted order is :  2 3 4 6 7 8 9 "
     ]
    }
   ],
   "source": [
    "#6.\tPython Program for Pigeonhole Sort\n",
    "def pigeonhole_sort(a):\n",
    "    minimum = min(a)\n",
    "    maximum = max(a)\n",
    "    s = maximum - minimum + 1\n",
    "    h = [0] * s #holes\n",
    "    for x in a:\n",
    "        assert type(x) is int, \"integers only please\"\n",
    "        h[x - minimum] += 1\n",
    "    i = 0\n",
    "    for c in range(s):\n",
    "        while h[c] > 0:\n",
    "            h[c] -= 1\n",
    "            a[i] = c + minimum\n",
    "            i += 1\n",
    "\n",
    "array = [9, 7, 2, 3, 4, 8, 6]\n",
    "print(\"The Sorted order is : \", end = ' ')\n",
    "pigeonhole_sort(array)      \n",
    "for i in range(0, len(array)):\n",
    "    print(array[i], end = ' ')"
   ]
  },
  {
   "cell_type": "code",
   "execution_count": 11,
   "id": "717b8601",
   "metadata": {},
   "outputs": [
    {
     "name": "stdout",
     "output_type": "stream",
     "text": [
      "Sorted array is:\n",
      "0\n",
      "1\n",
      "2\n",
      "2\n",
      "4\n",
      "5\n",
      "8\n"
     ]
    }
   ],
   "source": [
    "#7.\tPython Program for Cocktail Sort\n",
    "def cocktailSort(a):\n",
    "    n = len(a)\n",
    "    swapped = True\n",
    "    start = 0\n",
    "    end = n-1\n",
    "    while (swapped==True):\n",
    "  \n",
    "        \n",
    "        swapped = False\n",
    "  \n",
    "       \n",
    "        for i in range (start, end):\n",
    "            if (a[i] > a[i+1]) :\n",
    "                a[i], a[i+1]= a[i+1], a[i]\n",
    "                swapped=True\n",
    "  \n",
    "        if (swapped==False):\n",
    "            break\n",
    "  \n",
    "        \n",
    "        swapped = False\n",
    "  \n",
    "        \n",
    "        end = end-1\n",
    "  \n",
    "        \n",
    "        for i in range(end-1, start-1,-1):\n",
    "            if (a[i] > a[i+1]):\n",
    "                a[i], a[i+1] = a[i+1], a[i]\n",
    "                swapped = True\n",
    "  \n",
    "        \n",
    "        start = start+1\n",
    "\n",
    "a = [5, 1, 4, 2, 8, 0, 2]\n",
    "cocktailSort(a)\n",
    "print(\"Sorted array is:\")\n",
    "for i in range(len(a)):\n",
    "    print (\"%d\" %a[i]),"
   ]
  },
  {
   "cell_type": "code",
   "execution_count": 13,
   "id": "36ed690d",
   "metadata": {},
   "outputs": [
    {
     "name": "stdout",
     "output_type": "stream",
     "text": [
      "Enter the numbers:  9 8 6 5 4 3 2 1\n",
      "The sorted array is: [1, 2, 3, 4, 5, 6, 8, 9]\n"
     ]
    }
   ],
   "source": [
    "#8.\tPython Program for Gnome Sort\n",
    "def gnome_sort(array):\n",
    "    for position in range(1, len(array)):\n",
    "        while (position != 0 and array[position] < array[position - 1]):\n",
    "            array[position], array[position - 1] = array[position - 1], array[position]\n",
    "            position = position - 1 \n",
    "\n",
    "array = input('Enter the numbers: ').split()\n",
    "array = [int(a) for a in array]\n",
    "gnome_sort(array)\n",
    "print('The sorted array is: ', end='')\n",
    "print(array)"
   ]
  },
  {
   "cell_type": "code",
   "execution_count": 14,
   "id": "0f368ee7",
   "metadata": {},
   "outputs": [
    {
     "name": "stdout",
     "output_type": "stream",
     "text": [
      "The original array is:  [5, 7, 3, 1, 4, 6, 2]\n",
      "The sorted array is:  [1, 2, 3, 4, 5, 6, 7]\n"
     ]
    }
   ],
   "source": [
    "#9.\tPython Program for Odd-Even Sort / Brick Sort\n",
    "def brick_sort(array, a):\n",
    "    \n",
    "    Sorted = 0\n",
    "    while Sorted == 0:\n",
    "        Sorted = 1\n",
    "        temp = 0\n",
    "        for i in range(1, a-1, 2):\n",
    "            if array[i] > array[i+1]:\n",
    "                array[i], array[i+1] = array[i+1], array[i]\n",
    "                Sorted = 0\n",
    "                  \n",
    "        for i in range(0, a-1, 2):\n",
    "            if array[i] > array[i+1]:\n",
    "                array[i], array[i+1] = array[i+1], array[i]\n",
    "                Sorted = 0\n",
    "    return\n",
    "  \n",
    "array = [5, 7, 3, 1, 4, 6, 2]\n",
    "print(\"The original array is: \", array)\n",
    "a = len(array)\n",
    "  \n",
    "brick_sort(array, a);\n",
    "print(\"The sorted array is: \" ,array)"
   ]
  },
  {
   "cell_type": "code",
   "execution_count": 17,
   "id": "da42c7bd",
   "metadata": {},
   "outputs": [
    {
     "name": "stdout",
     "output_type": "stream",
     "text": [
      "The original array is:  [9, 8, 7, 6, 5, 4, 3, 2, 1]\n",
      "The Sorted array is : [1, 2, 3, 4, 5, 6, 7, 8, 9]\n"
     ]
    }
   ],
   "source": [
    "#10.Python Program for BogoSort or Permutation Sort\n",
    "import random\n",
    "\n",
    "def bogo_sort(array):\n",
    "    a = len(array)\n",
    "    while (sort(array)== False):\n",
    "        permutation(array)\n",
    "\n",
    "def sort(array):\n",
    "    a = len(array)\n",
    "    for i in range(0, a-1):\n",
    "        if (array[i] > array[i+1] ):\n",
    "            return False\n",
    "    return True\n",
    "\n",
    "def permutation(array):\n",
    "    a = len(array)\n",
    "    for i in range (0,a):\n",
    "        p = random.randint(0,a-1)\n",
    "        array[i], array[p] = array[p], array[i]\n",
    "\n",
    "array = [9,8,7,6,5,4,3,2,1]\n",
    "print(\"The original array is: \", array)\n",
    "bogo_sort(array)\n",
    "print(\"The Sorted array is :\", array)"
   ]
  }
 ],
 "metadata": {
  "kernelspec": {
   "display_name": "Python 3 (ipykernel)",
   "language": "python",
   "name": "python3"
  },
  "language_info": {
   "codemirror_mode": {
    "name": "ipython",
    "version": 3
   },
   "file_extension": ".py",
   "mimetype": "text/x-python",
   "name": "python",
   "nbconvert_exporter": "python",
   "pygments_lexer": "ipython3",
   "version": "3.10.1"
  }
 },
 "nbformat": 4,
 "nbformat_minor": 5
}
