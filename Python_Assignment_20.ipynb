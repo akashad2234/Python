{
 "cells": [
  {
   "cell_type": "code",
   "execution_count": 1,
   "id": "fc6e935f",
   "metadata": {},
   "outputs": [
    {
     "data": {
      "text/plain": [
       "'Hello, I am Romy \\nI am a content writer at GfG \\nNice to meet you \\nHello, hii all fine'"
      ]
     },
     "execution_count": 1,
     "metadata": {},
     "output_type": "execute_result"
    }
   ],
   "source": [
    "#1.\tPython Program to obtain the line number in which given word is present\n",
    "df = open(\"inueron.txt\")\n",
    " \n",
    "read = df.read()\n",
    " \n",
    "df.seek(0)\n",
    "read"
   ]
  },
  {
   "cell_type": "code",
   "execution_count": 2,
   "id": "30059d4a",
   "metadata": {},
   "outputs": [
    {
     "name": "stdout",
     "output_type": "stream",
     "text": [
      "This is the number of lines in the file\n",
      "1\n"
     ]
    }
   ],
   "source": [
    "#2.\tCount number of lines in a text file in Python\n",
    "file = open(\"gfg.txt\",\"r\")\n",
    "Counter = 0\n",
    "  \n",
    "Content = file.read()\n",
    "CoList = Content.split(\"\\n\")\n",
    "  \n",
    "for i in CoList:\n",
    "    if i:\n",
    "        Counter += 1\n",
    "          \n",
    "print(\"This is the number of lines in the file\")\n",
    "print(Counter)"
   ]
  },
  {
   "cell_type": "code",
   "execution_count": 9,
   "id": "e82a6f4a",
   "metadata": {},
   "outputs": [
    {
     "name": "stdout",
     "output_type": "stream",
     "text": [
      "It has survived not only five centuries, but also the leap into electronic typesetting, remaining essentially unchanged.\n",
      "\n",
      "It was popularised in the 1960s with the release of Letraset sheets containing TextGenerator passages, \n",
      "\n",
      "and more recently with desktop publishing software like Albus Potter including versions of TextGenerator.\n"
     ]
    }
   ],
   "source": [
    "#3.\tPython Program to remove lines starting with any prefix\n",
    "file1 = open('removeLines.txt','r')\n",
    "  \n",
    "\n",
    "file2 = open('removeLinesUpdated.txt','w')\n",
    "  \n",
    "\n",
    "for line in file1.readlines():\n",
    "    \n",
    "     \n",
    "    if not (line.startswith('TextGenerator')):\n",
    "        \n",
    "        \n",
    "        print(line)\n",
    "          \n",
    "        \n",
    "        file2.write(line)\n",
    "\n",
    "file2.close()\n",
    "file1.close()"
   ]
  },
  {
   "cell_type": "code",
   "execution_count": 14,
   "id": "9ad5ade7",
   "metadata": {},
   "outputs": [
    {
     "name": "stdout",
     "output_type": "stream",
     "text": [
      "Lorem ipsum dolor sit amet, consectetur adipiscing elit.\n",
      "\n",
      "Phasellus est neque, mollis vel massa vel, condimentum facilisis ipsum. Mauris vitae mollis magna.\n",
      "\n",
      "Aliquam laoreet vitae nisi quis rutrum. Sed ut ligula nec enim consequat egestas vel a sapien. Pellentesque sit amet euismod felis. Pellentesque in nibh ultricies, convallis sapien id, sagittis odio. Vivamus placerat ex sed ligula porttitor dignissim.\n",
      "\n",
      "Class aptent taciti sociosqu ad litora torquent per conubia nostra, per inceptos himenaeos. Morbi posuere eget odio ut venenatis. Nam lobortis bibendum maximus. Donec venenatis sapien sed varius accumsan.\n"
     ]
    }
   ],
   "source": [
    "#4.\tPython Program to Eliminate repeated lines from a file\n",
    "outputFile = open('Lorem_output.txt', \"w\")\n",
    "  \n",
    "inputFile = open('Lorem_input.txt', \"r\")\n",
    "  \n",
    "lines_seen_so_far = set()\n",
    "  \n",
    "for line in inputFile:\n",
    "  \n",
    "    if line not in lines_seen_so_far:\n",
    "  \n",
    "        outputFile.write(line)\n",
    "  \n",
    "        lines_seen_so_far.add(line)  \n",
    "        print(line)\n",
    "\n",
    "inputFile.close()\n",
    "outputFile.close()"
   ]
  },
  {
   "cell_type": "code",
   "execution_count": 13,
   "id": "e08e09db",
   "metadata": {},
   "outputs": [
    {
     "name": "stdout",
     "output_type": "stream",
     "text": [
      "{'Teek': '10', 'teeky': 'True'}\n",
      "{'TeeksforTeeks': 'Education', 'teektod': '101.0', '3': 'tft'}\n",
      "{'superteek': '5'}\n"
     ]
    }
   ],
   "source": [
    "#5.\tPython Program to read List of Dictionaries from File\n",
    "\n",
    "def parse(d):\n",
    "    dictionary = dict()\n",
    "    pairs = d.strip('{}').split(', ')\n",
    "    for i in pairs:\n",
    "        pair = i.split(': ')\n",
    "        dictionary[pair[0].strip('\\'\\'\\\"\\\"')] = pair[1].strip('\\'\\'\\\"\\\"')\n",
    "    return dictionary\n",
    "try:\n",
    "    geeky_file = open('geeky_file.txt', 'rt')\n",
    "    lines = geeky_file.read().split('\\n')\n",
    "    for l in lines:\n",
    "        if l != '':\n",
    "            dictionary = parse(l)\n",
    "            print(dictionary)\n",
    "    geeky_file.close()\n",
    "except:\n",
    "    print(\"Something unexpected occurred!\")"
   ]
  },
  {
   "cell_type": "code",
   "execution_count": 9,
   "id": "77f2e785",
   "metadata": {},
   "outputs": [
    {
     "name": "stdout",
     "output_type": "stream",
     "text": [
      "Enter the name of first file FileAppend1.txt\n",
      "Enter the name of second file FileAppend2.txt\n",
      "content of first file before appending - Inueronis best tutorial.\n",
      "content of second file before appending - is best tutorial.\n",
      "content of first file after appending - Inueronis best tutorial.is best tutorial.\n",
      "content of second file after appending - is best tutorial.\n"
     ]
    }
   ],
   "source": [
    "#6.\tPython – Append content of one text file to another\n",
    "firstfile = input(\"Enter the name of first file \")\n",
    "secondfile = input(\"Enter the name of second file \")\n",
    " \n",
    "f1 = open(firstfile, 'r')\n",
    "f2 = open(secondfile, 'r')\n",
    " \n",
    "print('content of first file before appending -', f1.read())\n",
    "print('content of second file before appending -', f2.read())\n",
    " \n",
    "f1.close()\n",
    "f2.close()\n",
    " \n",
    "f1 = open(firstfile, 'a+')\n",
    "f2 = open(secondfile, 'r')\n",
    " \n",
    "f1.write(f2.read())\n",
    " \n",
    "f1.seek(0)\n",
    "f2.seek(0)\n",
    " \n",
    "print('content of first file after appending -', f1.read())\n",
    "print('content of second file after appending -', f2.read())\n",
    " \n",
    "f1.close()\n",
    "f2.close()"
   ]
  },
  {
   "cell_type": "code",
   "execution_count": 12,
   "id": "8e137bad",
   "metadata": {},
   "outputs": [
    {
     "name": "stdout",
     "output_type": "stream",
     "text": [
      "        World\n",
      "        Language\n"
     ]
    }
   ],
   "source": [
    "#7.\tPython program to copy odd lines of one file to other\n",
    "fn = open('bcd.txt', 'r')\n",
    "  \n",
    "fn1 = open('nfile.txt', 'w')\n",
    "  \n",
    "cont = fn.readlines()\n",
    "type(cont)\n",
    "for i in range(0, len(cont)):\n",
    "    if(i % 2!= 0):\n",
    "        fn1.write(cont[i])\n",
    "    else:\n",
    "        pass\n",
    "\n",
    "fn1.close()\n",
    "  \n",
    "fn1 = open('nfile.txt', 'r')\n",
    "  \n",
    "cont1 = fn1.read()\n",
    "  \n",
    "print(cont1)\n",
    "  \n",
    "fn.close()\n",
    "fn1.close()"
   ]
  },
  {
   "cell_type": "code",
   "execution_count": 17,
   "id": "fe787e09",
   "metadata": {},
   "outputs": [
    {
     "name": "stdout",
     "output_type": "stream",
     "text": [
      "This is content from File1.\n",
      "This is content from File2.\n"
     ]
    }
   ],
   "source": [
    "#8.\tPython Program to merge two files into a third file\n",
    "data = data2 = \"\"\n",
    "  \n",
    "# Reading data from file1\n",
    "with open('fileMer1.txt') as fp:\n",
    "    data = fp.read()\n",
    "\n",
    "with open('fileMer2.txt') as fp:\n",
    "    data2 = fp.read()\n",
    "\n",
    "data += \"\\n\"\n",
    "data += data2\n",
    "  \n",
    "with open ('file3.txt', 'w') as fp:\n",
    "    fp.write(data)\n",
    "    print(data)"
   ]
  },
  {
   "cell_type": "code",
   "execution_count": 23,
   "id": "32b180ea",
   "metadata": {},
   "outputs": [
    {
     "name": "stdout",
     "output_type": "stream",
     "text": [
      "[' This is a freek\\n', 'FreeksforFreeks to Welcome FreeksforFreeks is a computer science portal', '    User choice = 0']\n"
     ]
    }
   ],
   "source": [
    "#9.\tPython program to Reverse a single line of a text file\n",
    "f = open('TFT.txt', 'r')\n",
    "  \n",
    "\n",
    "lines = f.readlines()\n",
    "      \n",
    "f.close()\n",
    "  \n",
    "choice = 1\n",
    "  \n",
    "line = lines[choice].split()\n",
    "  \n",
    "Reversed = \" \".join(line[::-1])\n",
    "  \n",
    "\n",
    "lines.pop(choice)\n",
    "lines.insert(choice, Reversed)\n",
    "  \n",
    "u = open('TFT.txt', 'w')\n",
    "  \n",
    "\n",
    "u.writelines(lines)\n",
    "print(lines)\n",
    "u.close()"
   ]
  },
  {
   "cell_type": "code",
   "execution_count": 21,
   "id": "5627493c",
   "metadata": {},
   "outputs": [
    {
     "name": "stdout",
     "output_type": "stream",
     "text": [
      "!skeeg rof       \n",
      "skeeG olleH\n"
     ]
    }
   ],
   "source": [
    "#10.Python program to reverse the content of a file and store it in another file\n",
    "f1 = open(\"output1.txt\", \"w\")\n",
    "  \n",
    "\n",
    "with open(\"fileRev.txt\", \"r\") as myfile:\n",
    "    data = myfile.read()\n",
    "\n",
    "data_1 = data[::-1]\n",
    "  \n",
    "\n",
    "f1.write(data_1)\n",
    "print(data_1)\n",
    "f1.close()"
   ]
  },
  {
   "cell_type": "code",
   "execution_count": 25,
   "id": "047d8345",
   "metadata": {},
   "outputs": [
    {
     "name": "stdout",
     "output_type": "stream",
     "text": [
      "5\n",
      "4\n",
      "3\n",
      "2\n",
      "1\n"
     ]
    }
   ],
   "source": [
    "#11.\tPython Program to Reverse the Content of a File using Stack\n",
    "class Stack:\n",
    "      \n",
    "    def __init__(self):\n",
    "          \n",
    "        self._arr = []\n",
    "          \n",
    "    def push(self, val):\n",
    "        self._arr.append(val)\n",
    "   \n",
    "    def is_empty(self):\n",
    "          \n",
    "        return len(self._arr) == 0\n",
    "  \n",
    "    def pop(self):\n",
    "          \n",
    "        if self.is_empty():\n",
    "            print(\"Stack is empty\")\n",
    "            return\n",
    "          \n",
    "        return self._arr.pop()\n",
    "\n",
    "def reverse_file(filename):\n",
    "       \n",
    "    S = Stack()\n",
    "    original = open(filename)\n",
    "      \n",
    "    for line in original:\n",
    "        S.push(line.rstrip(\"\\n\"))\n",
    "      \n",
    "    original.close()\n",
    "       \n",
    "       \n",
    "    output = open(filename, 'w')\n",
    "      \n",
    "    while not S.is_empty():\n",
    "        output.write(S.pop()+\"\\n\")\n",
    "      \n",
    "    output.close()\n",
    "  \n",
    "  \n",
    "filename = \"fileStack.txt\"\n",
    "  \n",
    "reverse_file(filename)\n",
    "   \n",
    "with open(filename) as file:\n",
    "        for f in file.readlines():\n",
    "            print(f, end =\"\")"
   ]
  }
 ],
 "metadata": {
  "kernelspec": {
   "display_name": "Python 3 (ipykernel)",
   "language": "python",
   "name": "python3"
  },
  "language_info": {
   "codemirror_mode": {
    "name": "ipython",
    "version": 3
   },
   "file_extension": ".py",
   "mimetype": "text/x-python",
   "name": "python",
   "nbconvert_exporter": "python",
   "pygments_lexer": "ipython3",
   "version": "3.10.1"
  }
 },
 "nbformat": 4,
 "nbformat_minor": 5
}
