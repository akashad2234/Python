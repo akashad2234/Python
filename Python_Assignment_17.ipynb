{
 "cells": [
  {
   "cell_type": "code",
   "execution_count": 1,
   "id": "c3b3f8ba",
   "metadata": {},
   "outputs": [
    {
     "name": "stdout",
     "output_type": "stream",
     "text": [
      "The current times:  4 : 5\n",
      "The given times: 6 : 7\n",
      "The difference:  2 : 2 \n",
      "\n"
     ]
    }
   ],
   "source": [
    "#1.\tPython program to find difference between current time and given time\n",
    "def time_difference(h1, m1, h2, m2):\n",
    "    print(\"The current times: \", h1, \":\", m1)\n",
    "    t1 = h1 * 60 + m1\n",
    "    print(\"The given times:\", h2, \":\", m2)\n",
    "    t2 = h2 * 60 + m2\n",
    "    if(t1 == t2):\n",
    "        print(\"The difference: Both are Same !\")\n",
    "        return\n",
    "    else:\n",
    "        difference = t2 - t1\n",
    "    h = (int(difference/60)) % 24\n",
    "    m = difference % 60\n",
    "    print(\"The difference: \", h, \":\", m, \"\\n\")\n",
    "time_difference(4, 5, 6, 7)"
   ]
  },
  {
   "cell_type": "code",
   "execution_count": null,
   "id": "3119066a",
   "metadata": {},
   "outputs": [
    {
     "name": "stdout",
     "output_type": "stream",
     "text": [
      "Press ENTER to count lap timer.\n",
      "Press CTRL+C to stop\n",
      "1\n",
      "Lap Numer 1\n",
      "Total Time taken: 2.01\n",
      "Lap Time: 2.01\n",
      "********************\n",
      "2\n",
      "Lap Numer 2\n",
      "Total Time taken: 3.63\n",
      "Lap Time: 1.62\n",
      "********************\n"
     ]
    }
   ],
   "source": [
    "#2.\tPython Program to Create a Lap Timer\n",
    "import time\n",
    "start=time.time()\n",
    "last=start\n",
    "num=1\n",
    "\n",
    "print(\"Press ENTER to count lap timer.\\nPress CTRL+C to stop\")\n",
    "try:\n",
    "    while True:\n",
    "        input()\n",
    "        lap=round((time.time() - last), 2)\n",
    "        total=round((time.time() - start), 2)\n",
    "        print(\"Lap Numer \"+str(num))\n",
    "        print(\"Total Time taken: \"+str(total))\n",
    "        print(\"Lap Time: \"+str(lap))\n",
    "        print(\"*\"*20)\n",
    "        last=time.time()\n",
    "        num+=1\n",
    "\n",
    "except KeyboardInterrupt:\n",
    "    print(\"Process Stopped\")"
   ]
  },
  {
   "cell_type": "code",
   "execution_count": 2,
   "id": "9c8aab05",
   "metadata": {},
   "outputs": [
    {
     "name": "stdout",
     "output_type": "stream",
     "text": [
      "The date string is :\n",
      "24/03/2021\n",
      "The timestamp is :\n",
      "1616524200.0\n"
     ]
    }
   ],
   "source": [
    "#3.\tConvert date string to timestamp in Python\n",
    "import time\n",
    "import datetime\n",
    "\n",
    "my_string = \"24/03/2021\"\n",
    "print(\"The date string is :\")\n",
    "print(my_string)\n",
    "print(\"The timestamp is :\")\n",
    "print(time.mktime(datetime.datetime.strptime(my_string, \"%d/%m/%Y\").timetuple()))"
   ]
  },
  {
   "cell_type": "code",
   "execution_count": 3,
   "id": "3a07653b",
   "metadata": {},
   "outputs": [
    {
     "name": "stdout",
     "output_type": "stream",
     "text": [
      "date_time: 2006-02-25 05:30:00\n",
      "type of dt: <class 'datetime.datetime'>\n"
     ]
    }
   ],
   "source": [
    "#4.\tHow to convert timestamp string to datetime object in Python?\n",
    "from datetime import datetime\n",
    "\n",
    "\n",
    "timestamp = 1545730073\n",
    "dt_obj = datetime.fromtimestamp(1140825600)\n",
    "\n",
    "print(\"date_time:\",dt_obj)\n",
    "print(\"type of dt:\",type(dt_obj))"
   ]
  },
  {
   "cell_type": "code",
   "execution_count": 4,
   "id": "c37ed20f",
   "metadata": {},
   "outputs": [
    {
     "name": "stdout",
     "output_type": "stream",
     "text": [
      "Monday 52\n",
      "Tuesday 53\n",
      "Wednesday 52\n",
      "Thursday 52\n",
      "Friday 52\n",
      "Saturday 52\n",
      "Sunday 52\n"
     ]
    }
   ],
   "source": [
    "#5.\tFind number of times every day occurs in a Year\n",
    "import datetime\n",
    "import calendar\n",
    "  \n",
    "def day_occur_time(year):\n",
    "     \n",
    "    \n",
    "    days = [ \"Monday\", \"Tuesday\", \"Wednesday\", \n",
    "           \"Thursday\",  \"Friday\", \"Saturday\",\n",
    "           \"Sunday\" ]\n",
    "     \n",
    "    L = [52 for i in range(7)]\n",
    "     \n",
    "    \n",
    "    pos = -1\n",
    "    day = datetime.datetime(year, month = 1, day = 1).strftime(\"%A\")\n",
    "    for i in range(7):\n",
    "        if day == days[i]:\n",
    "            pos = i\n",
    "             \n",
    "    \n",
    "    if calendar.isleap(year):\n",
    "        L[pos] += 1\n",
    "        L[(pos+1)%7] += 1\n",
    "         \n",
    "    else:\n",
    "        L[pos] += 1\n",
    "         \n",
    "     \n",
    "    \n",
    "    for i in range(7):\n",
    "        print(days[i], L[i])\n",
    "\n",
    "year = 2019\n",
    "day_occur_time(year)"
   ]
  },
  {
   "cell_type": "code",
   "execution_count": 5,
   "id": "5f0d3230",
   "metadata": {},
   "outputs": [
    {
     "name": "stdout",
     "output_type": "stream",
     "text": [
      "valid string\n",
      "invalid string\n",
      "invalid string\n"
     ]
    }
   ],
   "source": [
    "#6.\tPython Program to Check if String Contain Only Defined Characters using Regex\n",
    "# import module for regular expression\n",
    "import re\n",
    "#Function to match string with regrex\n",
    "def match(str,pattern):\n",
    "    if re.search(pattern,str):\n",
    "        print(\"valid string\")\n",
    "    else:\n",
    "        print(\"invalid string\")\n",
    "\n",
    "pattern = re.compile('[A-Z]+$')\n",
    "match('ABCDE',pattern)\n",
    "match('12ABCda',pattern)\n",
    "match('12345',pattern)"
   ]
  },
  {
   "cell_type": "code",
   "execution_count": 7,
   "id": "9a1b33be",
   "metadata": {},
   "outputs": [
    {
     "name": "stdout",
     "output_type": "stream",
     "text": [
      "Uppercase_count: 1\n",
      "lowercase_count: 4\n",
      "special_character_count: 1\n",
      "number_count: 3\n"
     ]
    }
   ],
   "source": [
    "#7.\tPython program to Count Uppercase, Lowercase, special character and numeric values using Regex\n",
    "import re\n",
    "string= 'Study@123'\n",
    "#list of each character set\n",
    "upper= re.findall(r\"[A-Z]\", string)\n",
    "lower = re.findall(r\"[a-z]\", string)\n",
    "special = re.findall(r\"[,@$%#*.!?]\", string)\n",
    "number = re.findall(r\"[0-9]\", string)\n",
    "\n",
    "# Count for each character set\n",
    "print(\"Uppercase_count:\", len(upper))\n",
    "print(\"lowercase_count:\", len(lower))\n",
    "print(\"special_character_count:\", len(special))\n",
    "print(\"number_count:\", len(number))"
   ]
  },
  {
   "cell_type": "code",
   "execution_count": 9,
   "id": "dfdacedf",
   "metadata": {},
   "outputs": [
    {
     "name": "stdout",
     "output_type": "stream",
     "text": [
      "max_value : 1\n"
     ]
    }
   ],
   "source": [
    "#8.\tPython Program to find the most occurring number in a string using Regex\n",
    "import re\n",
    "import collections\n",
    "\n",
    "string='ABC12ED13we14'\n",
    "\n",
    "number = re.findall(r\"[0-9]\", string)\n",
    "\n",
    "counter = collections.Counter(number)\n",
    "max_count = 0\n",
    "max_value = None\n",
    "for key in list(counter.keys()):\n",
    "    if(counter[key]>max_count):\n",
    "        max_count = counter[key]\n",
    "        max_value = int(key)\n",
    "print(\"max_value :\",max_value)"
   ]
  },
  {
   "cell_type": "code",
   "execution_count": 10,
   "id": "dfe76ab2",
   "metadata": {},
   "outputs": [
    {
     "name": "stdout",
     "output_type": "stream",
     "text": [
      "Max_value: 123\n"
     ]
    }
   ],
   "source": [
    "#9.\tPython Regex to extract maximum numeric value from a string\n",
    "import re\n",
    "#input\n",
    "string='ab12cd123ef23'\n",
    "#seperate number from string\n",
    "number = re.findall('\\d+', string)\n",
    "#convert it into integer\n",
    "number = map(int, number)\n",
    "print(\"Max_value:\",max(number))"
   ]
  },
  {
   "cell_type": "code",
   "execution_count": 17,
   "id": "e2e51da7",
   "metadata": {},
   "outputs": [
    {
     "name": "stdout",
     "output_type": "stream",
     "text": [
      "Hello World Of Python\n"
     ]
    }
   ],
   "source": [
    "#10.Python Program to put spaces between words starting with capital letters using Regex\n",
    "\n",
    "import re\n",
    "string='HelloWorldOfPython'\n",
    "words = re.findall('[A-Z][a-z]*', string)\n",
    "print(' '.join((words)))\n"
   ]
  }
 ],
 "metadata": {
  "kernelspec": {
   "display_name": "Python 3 (ipykernel)",
   "language": "python",
   "name": "python3"
  },
  "language_info": {
   "codemirror_mode": {
    "name": "ipython",
    "version": 3
   },
   "file_extension": ".py",
   "mimetype": "text/x-python",
   "name": "python",
   "nbconvert_exporter": "python",
   "pygments_lexer": "ipython3",
   "version": "3.10.1"
  }
 },
 "nbformat": 4,
 "nbformat_minor": 5
}
