{
 "cells": [
  {
   "cell_type": "code",
   "execution_count": 1,
   "id": "4b168382",
   "metadata": {},
   "outputs": [
    {
     "name": "stdout",
     "output_type": "stream",
     "text": [
      "The least frequent character is c\n"
     ]
    }
   ],
   "source": [
    "#1.Python – Least Frequent Character in String\n",
    "string = \"aabbcddeeff\"\n",
    "\n",
    "dict ={}\n",
    "\n",
    "for character in string:\n",
    "    if character in dict:\n",
    "        dict[character]+=1\n",
    "    else:\n",
    "        dict[character]=1\n",
    "        \n",
    "print(\"The least frequent character is\", str(min(dict, key = dict.get)))"
   ]
  },
  {
   "cell_type": "code",
   "execution_count": 4,
   "id": "77900498",
   "metadata": {},
   "outputs": [
    {
     "name": "stdout",
     "output_type": "stream",
     "text": [
      "The max frequent character is b\n"
     ]
    }
   ],
   "source": [
    "#2.Python | Maximum frequency character in String\n",
    "string = \"aabbbcddeeffgh\"\n",
    "\n",
    "dict ={}\n",
    "\n",
    "for character in string:\n",
    "    if character in dict:\n",
    "        dict[character]+=1\n",
    "    else:\n",
    "        dict[character]=1\n",
    "        \n",
    "print(\"The max frequent character is\", str(max(dict, key = dict.get)))"
   ]
  },
  {
   "cell_type": "code",
   "execution_count": 6,
   "id": "d975f713",
   "metadata": {},
   "outputs": [
    {
     "name": "stdout",
     "output_type": "stream",
     "text": [
      "String is not accepted.\n"
     ]
    }
   ],
   "source": [
    "#3.Python | Program to check if a string contains any special character\n",
    "\n",
    "# import required package\n",
    "import re\n",
    "\n",
    "def run(string):\n",
    "\n",
    "\n",
    "    regex = re.compile('[@_!#$%^&*()<>?/\\|}{~:]')\n",
    "    if(regex.search(string) == None):\n",
    "        print(\"String is accepted\")\n",
    "    else:\n",
    "        print(\"String is not accepted.\")\n",
    "\n",
    "if __name__ == '__main__' :\n",
    "    string = \"Inueron$For$Wrld\"\n",
    "    run(string)\n"
   ]
  },
  {
   "cell_type": "code",
   "execution_count": 7,
   "id": "0c6a8026",
   "metadata": {},
   "outputs": [
    {
     "name": "stdout",
     "output_type": "stream",
     "text": [
      "EsHM\n",
      "?Li0\n",
      "CkmH\n",
      "sQ51\n",
      "mRgl\n",
      "uu2g\n",
      "rFsf\n",
      "Kxsp\n",
      " Ns \n",
      "HfsP\n",
      "d:sY\n",
      "fLs \n",
      "9Os2\n",
      "4vsv\n",
      "Sqso\n",
      "YHsp\n",
      "5bsF\n",
      "3Ks.\n",
      "pqsZ\n",
      "!!sY\n",
      ".psW\n",
      "5ysX\n",
      "iDsO\n",
      "G7sf\n",
      "3Os3\n",
      "mcs,\n",
      "BNsw\n",
      "x sA\n",
      "SHsY\n",
      "m;sA\n",
      "8msi\n",
      "p9sc\n",
      "xrs1\n",
      ":xsm\n",
      "6Yso\n",
      "0Ms.\n",
      "c s8\n",
      "tBsU\n",
      "tOsP\n",
      "tHso\n",
      "tHsl\n",
      "txs3\n",
      "tasR\n",
      "tTsE\n",
      "thsF\n",
      "tWsV\n",
      "t0sx\n",
      "tXsj\n",
      "t5sx\n",
      "tjsa\n",
      "tUs:\n",
      "t;s0\n",
      "t:sZ\n",
      "t;s;\n",
      "tks3\n",
      "tVsM\n",
      "tesQ\n",
      "tesm\n",
      "tesc\n",
      "tesj\n",
      "tesm\n",
      "tesQ\n",
      "tesS\n",
      "tes6\n",
      "tesQ\n",
      "tesx\n",
      "tesA\n",
      "tesB\n",
      "tesp\n",
      "tes0\n",
      "teso\n",
      "tesy\n",
      "tesa\n",
      "tes7\n",
      "tes?\n",
      "tes4\n",
      "tesk\n",
      "tesa\n",
      "tesx\n",
      "teso\n",
      "tes!\n",
      "tesj\n",
      "tesY\n",
      "tesr\n",
      "tesi\n",
      "tesy\n",
      "teso\n",
      "tesK\n",
      "tesS\n",
      "tesb\n",
      "tes1\n",
      "tesv\n",
      "tese\n",
      "tesO\n",
      "tesz\n",
      "tesV\n",
      "tesI\n",
      "tesj\n",
      "tes:\n",
      "tesb\n",
      "tesq\n",
      "tesY\n",
      "tesH\n",
      "tesl\n",
      "tes:\n",
      "tesJ\n",
      "tesa\n",
      "teso\n",
      "tes0\n",
      "tesm\n",
      "tes4\n",
      "tesS\n",
      "tesp\n",
      "teso\n",
      "tesM\n",
      "tesc\n",
      "tesJ\n",
      "tesq\n",
      "tesZ\n",
      "tesj\n",
      "tesf\n",
      "tesH\n",
      "tesy\n",
      "tesb\n",
      "tesf\n",
      "tesq\n",
      "tes \n",
      "tesK\n",
      "tesk\n",
      "tes!\n",
      "tes;\n",
      "tes.\n",
      "tesk\n",
      "tesX\n",
      "tesr\n",
      "tesJ\n",
      "tesL\n",
      "tes:\n",
      "tesf\n",
      "tesc\n",
      "tes2\n",
      "tes4\n",
      "tesM\n",
      "tesj\n",
      "tesn\n",
      "tesW\n",
      "tesm\n",
      "tesO\n",
      "tesV\n",
      "tesm\n",
      "tesu\n",
      "tesz\n",
      "tesK\n",
      "tes?\n",
      "tesR\n",
      "tesg\n",
      "tes:\n",
      "tesI\n",
      "tesG\n",
      "tesS\n",
      "tes2\n",
      "tes \n",
      "tesF\n",
      "tesy\n",
      "tesw\n",
      "tesX\n",
      "tesB\n",
      "tes6\n",
      "tesd\n",
      "tesJ\n",
      "tesD\n",
      "tes:\n",
      "tesl\n",
      "tesh\n",
      "tes2\n",
      "tesY\n",
      "tesX\n",
      "tesT\n",
      "tesz\n",
      "tes3\n",
      "tes1\n",
      "tesC\n",
      "tesJ\n",
      "tes3\n",
      "tesr\n",
      "tes \n",
      "tesJ\n",
      "tesx\n",
      "test\n",
      "Target matched after  189  iterations\n"
     ]
    }
   ],
   "source": [
    "#4.Generating random strings until a given string is generated\n",
    "# generate random strings\n",
    "import string\n",
    "import random\n",
    "import time\n",
    "  \n",
    "# all possible characters including lowercase, uppercase and punctuations\n",
    "possibleChar = string.ascii_lowercase + string.digits + string.ascii_uppercase + ' ., !?;:'\n",
    "  \n",
    "t = \"test\"\n",
    "  \n",
    "attemptThis = ''.join(random.choice(possibleChar) for i in range(len(t)))\n",
    "attemptNext = ''\n",
    "  \n",
    "done= False\n",
    "iteration = 0\n",
    "  \n",
    "while done == False:\n",
    "    print(attemptThis)\n",
    "      \n",
    "    attemptNext = ''\n",
    "    done = True\n",
    "      \n",
    "    for i in range(len(t)):\n",
    "        if attemptThis[i] != t[i]:\n",
    "            done = False\n",
    "            attemptNext += random.choice(possibleChar)\n",
    "        else:\n",
    "            attemptNext += t[i]\n",
    "              \n",
    "    iteration = iteration + 1\n",
    "    attemptThis = attemptNext\n",
    "    time.sleep(0.1)\n",
    "\n",
    "print(\"Target matched after \",iteration,\" iterations\")"
   ]
  },
  {
   "cell_type": "code",
   "execution_count": 8,
   "id": "1f7e1e5c",
   "metadata": {},
   "outputs": [
    {
     "name": "stdout",
     "output_type": "stream",
     "text": [
      "Python\n",
      "good\n"
     ]
    }
   ],
   "source": [
    "#5.Find words which are greater than given length k\n",
    "def word_k(k, s):    \n",
    "    # split the string where space comes\n",
    "    word = s.split(\" \")\n",
    "    # iterate the loop for every word\n",
    "    for x in word:\n",
    "        # if length of current word\n",
    "        if len(x)>k:\n",
    "          # greater than k then\n",
    "          print(x)\n",
    "k = 3\n",
    "s =\"Python is good\"\n",
    "word_k(k, s)"
   ]
  },
  {
   "cell_type": "code",
   "execution_count": 9,
   "id": "57952718",
   "metadata": {},
   "outputs": [
    {
     "name": "stdout",
     "output_type": "stream",
     "text": [
      "original:  Programmers\n",
      "After removing:  Prgrammers\n"
     ]
    }
   ],
   "source": [
    "#6.Python program for removing i-th character from a string\n",
    "string=\"Programmers\"\n",
    "i=3\n",
    "print(\"original: \",string)\n",
    "# initialise new string and replace\n",
    "new_s= string.replace(string[i-1],\"\")\n",
    "# after removal of character\n",
    "print(\"After removing: \",new_s) "
   ]
  },
  {
   "cell_type": "code",
   "execution_count": 10,
   "id": "0305b7b0",
   "metadata": {},
   "outputs": [
    {
     "name": "stdout",
     "output_type": "stream",
     "text": [
      "After Splitting:  ['Welcome', 'to', 'study', 'tonight']\n",
      "After joining:  Welcome-to-study-tonight\n"
     ]
    }
   ],
   "source": [
    "#7.Python program to split and join a string\n",
    "def split_string(string):\n",
    "    list_string = string.split(' ')\n",
    "    return list_string\n",
    "\n",
    "def join_string(list_string):\n",
    "    string = '-'.join(list_string)\n",
    "    return string\n",
    "\n",
    "string = 'Welcome to study tonight'\n",
    "list_string = split_string(string)\n",
    "print(\"After Splitting: \",list_string)\n",
    "\n",
    "res_string = join_string(list_string)\n",
    "print(\"After joining: \",res_string)"
   ]
  },
  {
   "cell_type": "code",
   "execution_count": 17,
   "id": "523a7c5c",
   "metadata": {},
   "outputs": [
    {
     "name": "stdout",
     "output_type": "stream",
     "text": [
      "Yes\n"
     ]
    }
   ],
   "source": [
    "#8.\tPython | Check if a given string is binary string or not\n",
    "def check(string) :\n",
    " \n",
    "    p = set(string)\n",
    " \n",
    "    s = {'0', '1'}\n",
    " \n",
    "    if s == p or p == {'0'} or p == {'1'}:\n",
    "        print(\"Yes\")\n",
    "    else :\n",
    "        print(\"No\")\n",
    "        \n",
    "if __name__ == \"__main__\" :\n",
    "    \n",
    "     string = \"101010000111\"\n",
    " \n",
    "     check(string)"
   ]
  },
  {
   "cell_type": "code",
   "execution_count": 29,
   "id": "20b6a63e",
   "metadata": {},
   "outputs": [
    {
     "name": "stdout",
     "output_type": "stream",
     "text": [
      "['Learning', 'from']\n"
     ]
    }
   ],
   "source": [
    "#9.Python program to find uncommon words from two Strings\n",
    "def UncommonWords(A, B):\n",
    "    \n",
    "     count = {}\n",
    "      \n",
    "     for word in A.split():\n",
    "        count[word] = count.get(word, 0) + 1\n",
    "      \n",
    "     for word in B.split():\n",
    "        count[word] = count.get(word, 0) + 1\n",
    "  \n",
    "     return [word for word in count if count[word] == 1]\n",
    "  \n",
    "A = \"Inueron for DA\"\n",
    "B = \"Learning from Inueron for DA\"\n",
    "  \n",
    "print(UncommonWords(A, B))"
   ]
  },
  {
   "cell_type": "code",
   "execution_count": 30,
   "id": "08c5ee38",
   "metadata": {},
   "outputs": [
    {
     "name": "stdout",
     "output_type": "stream",
     "text": [
      "The original string is : James is good in Science , Science is James favourite subject. \n",
      "The string after replacing : James is good in Science , it is his favourite subject. \n"
     ]
    }
   ],
   "source": [
    "#10.Python – Replace duplicate Occurrence in String\n",
    "test_string = 'James is good in Science , Science is James favourite subject. '\n",
    "  \n",
    "print(\"The original string is : \" + str(test_string))\n",
    "  \n",
    "repl_dict = {'James' :  'his', 'Science' : 'it' }\n",
    "  \n",
    "\n",
    "test_list = test_string.split(' ')\n",
    "res = ' '.join([repl_dict.get(val) if val in repl_dict.keys() and test_list.index(val) != index \n",
    "                                   else val for index, val in enumerate(test_list)])\n",
    "print(\"The string after replacing : \" + str(res))"
   ]
  }
 ],
 "metadata": {
  "kernelspec": {
   "display_name": "Python 3 (ipykernel)",
   "language": "python",
   "name": "python3"
  },
  "language_info": {
   "codemirror_mode": {
    "name": "ipython",
    "version": 3
   },
   "file_extension": ".py",
   "mimetype": "text/x-python",
   "name": "python",
   "nbconvert_exporter": "python",
   "pygments_lexer": "ipython3",
   "version": "3.10.1"
  }
 },
 "nbformat": 4,
 "nbformat_minor": 5
}
