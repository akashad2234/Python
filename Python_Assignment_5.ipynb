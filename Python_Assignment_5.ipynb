{
 "cells": [
  {
   "cell_type": "code",
   "execution_count": 1,
   "id": "7c2b313f",
   "metadata": {},
   "outputs": [
    {
     "name": "stdout",
     "output_type": "stream",
     "text": [
      "Enter lower limit -3\n",
      "Enter upper limit 5\n",
      "Even numbers in the range are\n",
      "-3 -2 -1 "
     ]
    }
   ],
   "source": [
    "#1.Python program to print all negative numbers in a range\n",
    "ll=int(input(\"Enter lower limit \"))\n",
    "ul=int(input(\"Enter upper limit \"))\n",
    "\n",
    "print(\"Even numbers in the range are\")\n",
    "\n",
    "for i in range(ll,ul):\n",
    "      if i<0:\n",
    "        print(i,end=\" \")"
   ]
  },
  {
   "cell_type": "code",
   "execution_count": 2,
   "id": "6fb328b4",
   "metadata": {},
   "outputs": [
    {
     "name": "stdout",
     "output_type": "stream",
     "text": [
      "Original list :  [2, 3, 4, 5, 6, 7, 8, 9, 10, 20, 80, 99]\n",
      "List after removing values at index 2, 3 and 4 :  [2, 3, 7, 8, 9, 10, 20, 80, 99]\n"
     ]
    }
   ],
   "source": [
    "#2.Remove multiple elements from a list in Python\n",
    "l1 = [2, 3, 4, 5, 6, 7, 8, 9, 10, 20, 80, 99]\n",
    "print(\"Original list : \",l1)\n",
    "\n",
    "del l1[2:5]\n",
    "\n",
    "print(\"List after removing values at index 2, 3 and 4 : \",l1)"
   ]
  },
  {
   "cell_type": "code",
   "execution_count": 3,
   "id": "dd7ad8b9",
   "metadata": {},
   "outputs": [
    {
     "name": "stdout",
     "output_type": "stream",
     "text": [
      "The original list is : [5, 6, [], 3, [], [], 9]\n",
      "List after empty list removal : [5, 6, 3, 9]\n"
     ]
    }
   ],
   "source": [
    "#3.write a Python program to Remove empty List from List\n",
    "\n",
    "test_list = [5, 6, [], 3, [], [], 9]\n",
    "  \n",
    "print(\"The original list is : \" + str(test_list))\n",
    "\n",
    "res = [ele for ele in test_list if ele != []]\n",
    "  \n",
    "print (\"List after empty list removal : \" + str(res))"
   ]
  },
  {
   "cell_type": "code",
   "execution_count": 4,
   "id": "7d4b6e4b",
   "metadata": {},
   "outputs": [
    {
     "name": "stdout",
     "output_type": "stream",
     "text": [
      "Enter size of list 4\n",
      "Enter element of list 12\n",
      "Enter element of list 7\n",
      "Enter element of list 8\n",
      "Enter element of list 13\n",
      "Original list:  [12, 7, 8, 13]\n",
      "After cloning:  [12, 7, 8, 13]\n"
     ]
    }
   ],
   "source": [
    "#4.write a Python program to Cloning or Copying a list\n",
    "li=[]\n",
    "n=int(input(\"Enter size of list \"))\n",
    "for i in range(0,n):\n",
    "    e=int(input(\"Enter element of list \"))\n",
    "    li.append(e)\n",
    "print(\"Original list: \",li)\n",
    "\n",
    "#cloning\n",
    "list_copy = li[:]\n",
    "print(\"After cloning: \",list_copy)"
   ]
  },
  {
   "cell_type": "code",
   "execution_count": 5,
   "id": "0ef60498",
   "metadata": {},
   "outputs": [
    {
     "name": "stdout",
     "output_type": "stream",
     "text": [
      "Enter size of list 4\n",
      "Enter element of list 1\n",
      "Enter element of list 2\n",
      "Enter element of list 2\n",
      "Enter element of list 5\n",
      "Enter element to be checked list: 2\n",
      "2  has occurred  2 times\n"
     ]
    }
   ],
   "source": [
    "#5.write a Python program to Count occurrences of an element in a list\n",
    "\n",
    "def count_occurrence(list, n):\n",
    "    \n",
    "    count=0\n",
    "    for i in list:\n",
    "        if(i==n):\n",
    "            count=count+1\n",
    "    return count\n",
    "\n",
    "li=[]\n",
    "n=int(input(\"Enter size of list \"))\n",
    "for i in range(0,n):\n",
    "    e=int(input(\"Enter element of list \"))\n",
    "    li.append(e)\n",
    "\n",
    "x=int(input(\"Enter element to be checked list: \"))\n",
    "\n",
    "print(x,\" has occurred \",count_occurrence(li, x),\"times\")"
   ]
  },
  {
   "cell_type": "code",
   "execution_count": 7,
   "id": "d75eaf57",
   "metadata": {},
   "outputs": [
    {
     "name": "stdout",
     "output_type": "stream",
     "text": [
      "[('Nueron', '1', '2'), ('3', '4', '5', '6')]\n"
     ]
    }
   ],
   "source": [
    "#6.write a Python program to Remove empty tuples from a list\n",
    "def removet(li):\n",
    "    li=[ num for num in li if num]\n",
    "    return li\n",
    "li=[ (), ('Nueron', '1', '2'), (), ('3', '4', '5', '6') ]\n",
    "print(removet(li))"
   ]
  },
  {
   "cell_type": "code",
   "execution_count": 8,
   "id": "364a53f9",
   "metadata": {},
   "outputs": [
    {
     "name": "stdout",
     "output_type": "stream",
     "text": [
      "Duplicate integeres:  [10, 30, -10, -20]\n"
     ]
    }
   ],
   "source": [
    "#7.write a Python program to Program to print duplicates from a list of integers\n",
    "def duplicate(li):\n",
    "    n=len(li)\n",
    "    dup=[]\n",
    "    for i in range(n):\n",
    "        k = i + 1\n",
    "        for j in range(k,n):\n",
    "            if li[i] == li[j] and li[i] not in dup:\n",
    "                dup.append(li[i])\n",
    "    return dup\n",
    "\n",
    "#test\n",
    "li=[ 10, 20, 30, -10, -20, 10, 80, -10, -20, 30]\n",
    "print(\"Duplicate integeres: \",duplicate(li))"
   ]
  },
  {
   "cell_type": "code",
   "execution_count": 9,
   "id": "f5e63741",
   "metadata": {},
   "outputs": [
    {
     "name": "stdout",
     "output_type": "stream",
     "text": [
      "[10, 30, 60, 100, 150]\n"
     ]
    }
   ],
   "source": [
    "#8.write a Python program to find Cumulative sum of a list\n",
    "list=[10,20,30,40,50]\n",
    "new_list=[]\n",
    "j=0\n",
    "for i in range(0,len(list)):\n",
    "    j+=list[i]\n",
    "    new_list.append(j)\n",
    "     \n",
    "print(new_list)"
   ]
  },
  {
   "cell_type": "code",
   "execution_count": 10,
   "id": "6755c439",
   "metadata": {},
   "outputs": [
    {
     "name": "stdout",
     "output_type": "stream",
     "text": [
      "The original list is : [12, 67, 98, 34]\n",
      "List Integer Summation : [3, 13, 17, 7]\n"
     ]
    }
   ],
   "source": [
    "#9.write a Python program to Sum of number digits in List\n",
    "\n",
    "test_list = [12, 67, 98, 34]\n",
    " \n",
    "print(\"The original list is : \" + str(test_list))\n",
    " \n",
    "res = []\n",
    "for ele in test_list:\n",
    "    sum = 0\n",
    "    for digit in str(ele):\n",
    "        sum += int(digit)\n",
    "    res.append(sum)\n",
    "     \n",
    "print (\"List Integer Summation : \" + str(res))"
   ]
  },
  {
   "cell_type": "code",
   "execution_count": 25,
   "id": "96f36efb",
   "metadata": {},
   "outputs": [
    {
     "name": "stdout",
     "output_type": "stream",
     "text": [
      "[[1, 2, 3, 4], [5, 6, 7, 8], [9]]\n"
     ]
    }
   ],
   "source": [
    "#10.write a Python program to Break a list into chunks of size N \n",
    "\n",
    "l = [1, 2, 3, 4, 5, 6, 7, 8, 9] \n",
    "n = 4\n",
    "   \n",
    "x = [l[i:i + n] for i in range(0, len(l), n)] \n",
    "print(x)"
   ]
  },
  {
   "cell_type": "code",
   "execution_count": 28,
   "id": "8dd1bbe2",
   "metadata": {},
   "outputs": [
    {
     "name": "stdout",
     "output_type": "stream",
     "text": [
      "The first list is : ['m', 'o', 'p', 'l', 'k', 'v', 'c', 'e', 'r']\n",
      "The second list is : [1, 0, 0, 2, 2, 1, 1, 0, 0]\n",
      "The first list is being sorted based on second list : ['e', 'o', 'p', 'r', 'c', 'm', 'v', 'k', 'l']\n"
     ]
    }
   ],
   "source": [
    "#11.write a Python program to Sort the values of first list using second list\n",
    "def list_sort(my_list_1, my_list_2):\n",
    "    zipped_list_pairs = zip(my_list_2, my_list_1)\n",
    "    my_result = [x for _, x in sorted(zipped_list_pairs)]\n",
    "    return my_result\n",
    "my_list_1 = ['m', 'o', 'p', 'l', 'k', 'v', 'c', 'e', 'r']\n",
    "my_list_2 = [ 1, 0,0, 2, 2, 1, 1, 0,0]\n",
    "print(\"The first list is :\",my_list_1)\n",
    "print(\"The second list is :\",my_list_2)\n",
    "print(\"The first list is being sorted based on second list :\",list_sort(my_list_1, my_list_2))"
   ]
  }
 ],
 "metadata": {
  "kernelspec": {
   "display_name": "Python 3 (ipykernel)",
   "language": "python",
   "name": "python3"
  },
  "language_info": {
   "codemirror_mode": {
    "name": "ipython",
    "version": 3
   },
   "file_extension": ".py",
   "mimetype": "text/x-python",
   "name": "python",
   "nbconvert_exporter": "python",
   "pygments_lexer": "ipython3",
   "version": "3.10.1"
  }
 },
 "nbformat": 4,
 "nbformat_minor": 5
}
