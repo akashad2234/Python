{
 "cells": [
  {
   "cell_type": "code",
   "execution_count": 3,
   "id": "bd1f5947",
   "metadata": {},
   "outputs": [
    {
     "name": "stdout",
     "output_type": "stream",
     "text": [
      "The dictionary before performing remove is : {'Arushi': 22, 'Anuradha': 21, 'Mani': 21, 'Haritha': 21}\n",
      "The dictionary after remove is : {'Arushi': 22, 'Anuradha': 21, 'Haritha': 21}\n"
     ]
    }
   ],
   "source": [
    "#1.\tPython | Ways to remove a key from dictionary\n",
    "test_dict = {\"Arushi\" : 22, \"Anuradha\" : 21, \"Mani\" : 21, \"Haritha\" : 21}\n",
    "  \n",
    "print (\"The dictionary before performing remove is : \" + str(test_dict))\n",
    "  \n",
    "del test_dict['Mani']\n",
    "  \n",
    "print (\"The dictionary after remove is : \" + str(test_dict))\n",
    "\n"
   ]
  },
  {
   "cell_type": "code",
   "execution_count": 30,
   "id": "7a7642af",
   "metadata": {},
   "outputs": [
    {
     "name": "stdout",
     "output_type": "stream",
     "text": [
      "The list sorted by age is : \n",
      "[{'name': 'Rob', 'age': 20}, {'name': 'John', 'age': 24}, {'name': 'Mark', 'age': 34}, {'name': 'Will', 'age': 56}]\n",
      "The list sorted by age and name is : \n",
      "[{'name': 'Rob', 'age': 20}, {'name': 'John', 'age': 24}, {'name': 'Mark', 'age': 34}, {'name': 'Will', 'age': 56}]\n",
      "The list sorted by age in descending order is : \n",
      "[{'name': 'Will', 'age': 56}, {'name': 'Mark', 'age': 34}, {'name': 'John', 'age': 24}, {'name': 'Rob', 'age': 20}]\n"
     ]
    }
   ],
   "source": [
    "#2.\tWays to sort list of dictionaries by values in Python – Using itemgetter\n",
    "from operator import itemgetter\n",
    "\n",
    "my_list = [{ \"name\" : \"Will\", \"age\" : 56},\n",
    "          { \"name\" : \"Rob\", \"age\" : 20 },\n",
    "          { \"name\" : \"Mark\" , \"age\" : 34 },\n",
    "          { \"name\" : \"John\" , \"age\" : 24 }]\n",
    "\n",
    "print(\"The list sorted by age is : \")\n",
    "print(sorted(my_list, key=itemgetter('age')))\n",
    "\n",
    "print(\"The list sorted by age and name is : \")\n",
    "print(sorted(my_list, key=itemgetter('age', 'name')))\n",
    "\n",
    "print(\"The list sorted by age in descending order is : \")\n",
    "print(sorted(my_list, key=itemgetter('age'),reverse = True))"
   ]
  },
  {
   "cell_type": "code",
   "execution_count": 31,
   "id": "e493ae11",
   "metadata": {},
   "outputs": [
    {
     "name": "stdout",
     "output_type": "stream",
     "text": [
      "[{'name': 'John', 'salary': 10000}, {'name': 'Aslan', 'salary': 10000}, {'name': 'Harry', 'salary': 15000}, {'name': 'Emma', 'salary': 30000}]\n"
     ]
    }
   ],
   "source": [
    "#3.\tWays to sort list of dictionaries by values in Python – Using lambda function\n",
    "dicts = [\n",
    "   {\"name\" : \"John\", \"salary\" : 10000},\n",
    "   {\"name\" : \"Emma\", \"salary\" : 30000},\n",
    "   {\"name\" : \"Harry\", \"salary\" : 15000},\n",
    "   {\"name\" : \"Aslan\", \"salary\" : 10000}\n",
    "]\n",
    "\n",
    "print(sorted(dicts, key = lambda item: item['salary']))"
   ]
  },
  {
   "cell_type": "code",
   "execution_count": 36,
   "id": "0521b536",
   "metadata": {},
   "outputs": [
    {
     "name": "stdout",
     "output_type": "stream",
     "text": [
      "None\n",
      "{'d': 6, 'c': 4, 'a': 10, 'b': 8}\n"
     ]
    }
   ],
   "source": [
    "#4.\tPython | Merging two Dictionaries\n",
    "def Merge(dict1, dict2):\n",
    "    return(dict2.update(dict1))\n",
    "     \n",
    "dict1 = {'a': 10, 'b': 8}\n",
    "dict2 = {'d': 6, 'c': 4}\n",
    " \n",
    "\n",
    "print(Merge(dict1, dict2))\n",
    " \n",
    "print(dict2)"
   ]
  },
  {
   "cell_type": "code",
   "execution_count": 37,
   "id": "fb9a8aaa",
   "metadata": {},
   "outputs": [
    {
     "name": "stdout",
     "output_type": "stream",
     "text": [
      "The flattened dictionary is: \n",
      "{1: 'Jan', 2: 'Feb', 3: 'March', 4: 'Apr', 5: 'May', 6: 'June'}\n"
     ]
    }
   ],
   "source": [
    "#5.\tPython – Convert key-values list to flat dictionary\n",
    "from itertools import product\n",
    "\n",
    "my_dict = {'month_num' : [1, 2, 3, 4, 5, 6], 'name_of_month' : ['Jan', 'Feb', 'March', 'Apr', 'May', 'June']}\n",
    "\n",
    "my_result = dict(zip(my_dict['month_num'], my_dict['name_of_month']))\n",
    "\n",
    "print(\"The flattened dictionary is: \")\n",
    "print(my_result)"
   ]
  },
  {
   "cell_type": "code",
   "execution_count": 38,
   "id": "d771deec",
   "metadata": {},
   "outputs": [
    {
     "name": "stdout",
     "output_type": "stream",
     "text": [
      "Resultant Dictionary : OrderedDict([('manjeet', '3'), ('akshat', '1'), ('nikhil', '2')])\n"
     ]
    }
   ],
   "source": [
    "#6.\tPython – Insertion at the beginning in OrderedDict\n",
    "from collections import OrderedDict\n",
    " \n",
    "iniordered_dict = OrderedDict([('akshat', '1'), ('nikhil', '2')])\n",
    " \n",
    "iniordered_dict.update({'manjeet':'3'})\n",
    "iniordered_dict.move_to_end('manjeet', last = False)\n",
    " \n",
    "print (\"Resultant Dictionary : \"+str(iniordered_dict))"
   ]
  },
  {
   "cell_type": "code",
   "execution_count": 39,
   "id": "b1903d37",
   "metadata": {},
   "outputs": [
    {
     "name": "stdout",
     "output_type": "stream",
     "text": [
      "False\n"
     ]
    }
   ],
   "source": [
    "#7.\tPython | Check order of character in string using OrderedDict( )\n",
    "from collections import OrderedDict \n",
    "def checkOrder(string, pattern): \n",
    "    dic = OrderedDict.fromkeys(string) \n",
    "    ptr = 0\n",
    "    for key,value in dic.items(): \n",
    "        if (key == pattern[ptr]): \n",
    "            ptr = ptr + 1\n",
    "        if (ptr == (len(pattern))): \n",
    "            return 'True'\n",
    "    return 'False'\n",
    "\n",
    "string = 'Study tonight'\n",
    "pattern = 'stu'\n",
    "print (checkOrder(string,pattern))"
   ]
  },
  {
   "cell_type": "code",
   "execution_count": 45,
   "id": "fc467a6b",
   "metadata": {},
   "outputs": [
    {
     "name": "stdout",
     "output_type": "stream",
     "text": [
      "john\n"
     ]
    }
   ],
   "source": [
    "#8.\tDictionary and counter in Python to find winner of election\n",
    "from collections import Counter\n",
    " \n",
    "def winner(input):\n",
    " \n",
    "   \n",
    "    votes = Counter(input)\n",
    "     \n",
    "    \n",
    "    dict = {}\n",
    " \n",
    "    for value in votes.values():\n",
    " \n",
    "        \n",
    "        dict[value] = []\n",
    " \n",
    "    for (key,value) in votes.items():\n",
    "        dict[value].append(key)\n",
    " \n",
    "\n",
    "    maxVote = sorted(dict.keys(),reverse=True)[0]\n",
    " \n",
    "   \n",
    "    if len(dict[maxVote])>1:\n",
    "        print (sorted(dict[maxVote])[0])\n",
    "    else:\n",
    "        print (dict[maxVote][0])\n",
    "\n",
    "if __name__ == \"__main__\":\n",
    "    input =['john','johnny','jackie','johnny',\n",
    "            'john','jackie','jamie','jamie',\n",
    "            'john','johnny','jamie','johnny',\n",
    "            'john']\n",
    "    winner(input)"
   ]
  },
  {
   "cell_type": "code",
   "execution_count": 46,
   "id": "24db0468",
   "metadata": {},
   "outputs": [
    {
     "name": "stdout",
     "output_type": "stream",
     "text": [
      "The ordered key and value are : \n",
      "['January', 'Feb', 'March', 'April', 'May', 'June', 1, 2, 3, 4, 5, 6]\n"
     ]
    }
   ],
   "source": [
    "#9.\tPython – Append Dictionary Keys and Values ( In order ) in dictionary\n",
    "my_dict = {\"January\" : 1, \"Feb\" : 2, \"March\" : 3, 'April':4, 'May' : 5, 'June' :6}\n",
    "\n",
    "\n",
    "my_result = list(my_dict.keys()) + list(my_dict.values())\n",
    "\n",
    "print(\"The ordered key and value are : \")\n",
    "print(my_result)"
   ]
  },
  {
   "cell_type": "code",
   "execution_count": 78,
   "id": "368b4fa2",
   "metadata": {},
   "outputs": [
    {
     "name": "stdout",
     "output_type": "stream",
     "text": [
      "{'key1': 'value1', 'key2': 'value2', 'key3': 'value3', 'key5': 'value5'}\n"
     ]
    }
   ],
   "source": [
    "#10.Python | Sort Python Dictionaries by Key or Value\n",
    "dict1 = {'key5': 'value5', 'key3': 'value3', 'key1': 'value1', 'key2': 'value2'}\n",
    "sorted_values = sorted(dict1.values()) # Sort the values\n",
    "sorted_dict = {}\n",
    "\n",
    "for i in sorted_values:\n",
    "    for k in dict1.keys():\n",
    "        if dict1[k] == i:\n",
    "            sorted_dict[k] = dict1[k]\n",
    "            break\n",
    "\n",
    "print(sorted_dict)"
   ]
  }
 ],
 "metadata": {
  "kernelspec": {
   "display_name": "Python 3 (ipykernel)",
   "language": "python",
   "name": "python3"
  },
  "language_info": {
   "codemirror_mode": {
    "name": "ipython",
    "version": 3
   },
   "file_extension": ".py",
   "mimetype": "text/x-python",
   "name": "python",
   "nbconvert_exporter": "python",
   "pygments_lexer": "ipython3",
   "version": "3.10.1"
  }
 },
 "nbformat": 4,
 "nbformat_minor": 5
}
