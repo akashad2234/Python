{
 "cells": [
  {
   "cell_type": "code",
   "execution_count": 1,
   "id": "3905d990",
   "metadata": {},
   "outputs": [
    {
     "name": "stdout",
     "output_type": "stream",
     "text": [
      "Valid Email\n",
      "Valid Email\n",
      "Invalid Email\n"
     ]
    }
   ],
   "source": [
    "#1.\tPython Program to Check if email address valid or not\n",
    "import re\n",
    " \n",
    "regex = r'\\b[A-Za-z0-9._%+-]+@[A-Za-z0-9.-]+\\.[A-Z|a-z]{2,}\\b'\n",
    " \n",
    "\n",
    "def check(email):\n",
    " \n",
    "    \n",
    "    if(re.fullmatch(regex, email)):\n",
    "        print(\"Valid Email\")\n",
    " \n",
    "    else:\n",
    "        print(\"Invalid Email\")\n",
    " \n",
    " \n",
    "if __name__ == '__main__':\n",
    " \n",
    "    email = \"ankitrai326@gmail.com\"\n",
    " \n",
    "    check(email)\n",
    " \n",
    "    email = \"my.ownsite@our-earth.org\"\n",
    "    check(email)\n",
    " \n",
    "    email = \"ankitrai326.com\"\n",
    "    check(email)"
   ]
  },
  {
   "cell_type": "code",
   "execution_count": 3,
   "id": "68b2313c",
   "metadata": {},
   "outputs": [
    {
     "name": "stdout",
     "output_type": "stream",
     "text": [
      "The file ending with .xml is: geeks.xml\n"
     ]
    }
   ],
   "source": [
    "#2.\tPython program to find files having a particular extension using RegEx\n",
    "import re\n",
    "  \n",
    "filenames = [\"gfg.html\", \"geeks.xml\",\"computer.txt\", \"geeksforgeeks.jpg\"]\n",
    "  \n",
    "for file in filenames:\n",
    "    match = re.search(\"\\.xml$\", file)\n",
    "  \n",
    "    # if match is found\n",
    "    if match:\n",
    "        print(\"The file ending with .xml is:\",file)"
   ]
  },
  {
   "cell_type": "code",
   "execution_count": 25,
   "id": "26ed4c62",
   "metadata": {},
   "outputs": [],
   "source": [
    "#3.\tPython program to extract IP address from file\n",
    "import re\n",
    " \n",
    "\n",
    "with open('C:/Users/user/Desktop/New Text Document.txt') as fh:\n",
    "    fstring = fh.readlines()\n",
    " \n",
    " \n",
    "pattern = re.compile(r'(\\d{1,3}\\.\\d{1,3}\\.\\d{1,3}\\.\\d{1,3})')\n",
    " \n",
    "\n",
    "lst=[]\n",
    " \n",
    "\n",
    "for line in fstring:\n",
    "    lst.append(pattern.search(line)[0])\n",
    " \n",
    " \n",
    "print(lst)"
   ]
  },
  {
   "cell_type": "code",
   "execution_count": 24,
   "id": "19b5b25a",
   "metadata": {},
   "outputs": [
    {
     "name": "stdout",
     "output_type": "stream",
     "text": [
      "Valid Password\n"
     ]
    }
   ],
   "source": [
    "#4.\tPython program to check the validity of a Password\n",
    "import re\n",
    "password = \"R@m@_f0rtu9e$\"\n",
    "flag = 0\n",
    "while True:  \n",
    "    if (len(password)<8):\n",
    "        flag = -1\n",
    "        break\n",
    "    elif not re.search(\"[a-z]\", password):\n",
    "        flag = -1\n",
    "        break\n",
    "    elif not re.search(\"[A-Z]\", password):\n",
    "        flag = -1\n",
    "        break\n",
    "    elif not re.search(\"[0-9]\", password):\n",
    "        flag = -1\n",
    "        break\n",
    "    elif not re.search(\"[_@$]\", password):\n",
    "        flag = -1\n",
    "        break\n",
    "    elif re.search(\"\\s\", password):\n",
    "        flag = -1\n",
    "        break\n",
    "    else:\n",
    "        flag = 0\n",
    "        print(\"Valid Password\")\n",
    "        break\n",
    "\n",
    "if flag ==-1:\n",
    "    print(\"Not a Valid Password\")"
   ]
  },
  {
   "cell_type": "code",
   "execution_count": 28,
   "id": "ee5995ca",
   "metadata": {},
   "outputs": [
    {
     "name": "stdout",
     "output_type": "stream",
     "text": [
      "Strong Password!\n",
      "Weak password: Same string pattern repetition\n",
      "Weak Password: Same character repeats three or more times in a row\n",
      "Weak password: Same string pattern repetition\n",
      "Strong Password!\n",
      "Password cannot be a newline or space!\n"
     ]
    }
   ],
   "source": [
    "#5.\tCategorize Password as Strong or Weak using Regex in Python\n",
    "import re\n",
    " \n",
    "def password(v):\n",
    "   \n",
    "    \n",
    "    if v == \"\\n\" or v == \" \":\n",
    "        return \"Password cannot be a newline or space!\"\n",
    "   \n",
    "   \n",
    "    if 9 <= len(v) <= 20:\n",
    "   \n",
    "        \n",
    "        if re.search(r'(.)\\1\\1', v):\n",
    "            return \"Weak Password: Same character repeats three or more times in a row\"\n",
    "   \n",
    "        if re.search(r'(..)(.*?)\\1', v):\n",
    "            return \"Weak password: Same string pattern repetition\"\n",
    "   \n",
    "        else:\n",
    "            return \"Strong Password!\"\n",
    "   \n",
    "    else:\n",
    "        return \"Password length must be 9-20 characters!\"\n",
    "\n",
    "def main():\n",
    "   \n",
    "    # Driver code\n",
    "    print(password(\"Qggf!@ghf3\"))\n",
    "    print(password(\"Gggksforgeeks\"))\n",
    "    print(password(\"aaabnil1gu\"))\n",
    "    print(password(\"Aasd!feasn\"))\n",
    "    print(password(\"772*hd897\"))\n",
    "    print(password(\" \"))\n",
    "   \n",
    "   \n",
    "if __name__ == '__main__':\n",
    "    main()"
   ]
  },
  {
   "cell_type": "code",
   "execution_count": 43,
   "id": "4ff4e414",
   "metadata": {},
   "outputs": [
    {
     "name": "stdout",
     "output_type": "stream",
     "text": [
      "Guess\n",
      "4\n",
      "Guess\n"
     ]
    }
   ],
   "source": [
    "#6.\tPython program to read file word by word\n",
    "with open('GFG.txt','r') as file:\n",
    "   \n",
    "    for line in file:\n",
    "   \n",
    "        for word in line.split():\n",
    "   \n",
    "            print(word)"
   ]
  },
  {
   "cell_type": "code",
   "execution_count": 44,
   "id": "feea9a7f",
   "metadata": {},
   "outputs": [
    {
     "name": "stdout",
     "output_type": "stream",
     "text": [
      "H\n",
      "e\n",
      "l\n",
      "l\n",
      "o\n",
      " \n",
      "I\n",
      "n\n",
      "u\n",
      "e\n",
      "r\n",
      "o\n",
      "n\n",
      " \n",
      "w\n",
      "h\n",
      "a\n",
      "t\n",
      "'\n",
      "s\n",
      " \n",
      "u\n",
      "p\n",
      " \n",
      "!\n"
     ]
    }
   ],
   "source": [
    "#7.\tPython program to read character by character from a file\n",
    "file = open('file.txt', 'r')\n",
    " \n",
    "while 1:\n",
    "     \n",
    "    # read by character\n",
    "    char = file.read(1)         \n",
    "    if not char:\n",
    "        break\n",
    "         \n",
    "    print(char)\n",
    "\n",
    "file.close()"
   ]
  },
  {
   "cell_type": "code",
   "execution_count": 46,
   "id": "a442831f",
   "metadata": {},
   "outputs": [
    {
     "name": "stdout",
     "output_type": "stream",
     "text": [
      "Number of words in text file:  24\n",
      "Number of lines in text file:  4\n",
      "Number of characters in text file:  90\n",
      "Number of spaces in text file:  20\n"
     ]
    }
   ],
   "source": [
    "#8.\tPython – Get number of characters, words, spaces and lines in a file\n",
    "def counter(fname):\n",
    "  \n",
    "    num_words = 0\n",
    "      \n",
    "    num_lines = 0\n",
    "      \n",
    "    num_charc = 0\n",
    "      \n",
    "    \n",
    "    num_spaces = 0\n",
    "      \n",
    "    \n",
    "    with open(fname, 'r') as f:\n",
    "          \n",
    "        \n",
    "        for line in f:\n",
    "              \n",
    "            \n",
    "            num_lines += 1\n",
    "              \n",
    "\n",
    "            word = 'Y'\n",
    "              \n",
    "           \n",
    "            for letter in line:\n",
    "                  \n",
    "               \n",
    "                if (letter != ' ' and word == 'Y'):\n",
    "                      \n",
    "                   \n",
    "                    num_words += 1\n",
    "                      \n",
    "                    \n",
    "                    word = 'N'\n",
    "                      \n",
    "               \n",
    "                elif (letter == ' '):\n",
    "                      \n",
    "                    \n",
    "                    num_spaces += 1\n",
    "                      \n",
    "                    \n",
    "                    word = 'Y'\n",
    "                      \n",
    "                \n",
    "                for i in letter:\n",
    "                      \n",
    "                    \n",
    "                    if(i !=\" \" and i !=\"\\n\"):\n",
    "                          \n",
    "                        \n",
    "                        num_charc += 1\n",
    "                          \n",
    "    print(\"Number of words in text file: \", num_words)\n",
    "      \n",
    "    print(\"Number of lines in text file: \", num_lines)\n",
    "      \n",
    "    print('Number of characters in text file: ', num_charc)\n",
    "      \n",
    "    print('Number of spaces in text file: ', num_spaces)\n",
    "      \n",
    "if __name__ == '__main__': \n",
    "    fname = 'File1.txt'\n",
    "    try: \n",
    "        counter(fname) \n",
    "    except: \n",
    "        print('File not found')"
   ]
  },
  {
   "cell_type": "code",
   "execution_count": 47,
   "id": "c12f2503",
   "metadata": {},
   "outputs": [
    {
     "name": "stdout",
     "output_type": "stream",
     "text": [
      "The count of coin:h is 7\n",
      "The count of coin:t is 3\n"
     ]
    }
   ],
   "source": [
    "#9.\tPython program to Count the Number of occurrences of a key-value pair in a text file\n",
    "f = open(\"fileOccurence.txt\", \"r\")\n",
    "d = dict()\n",
    "  \n",
    "for res in f:\n",
    "   \n",
    "    res = res.strip()\n",
    "  \n",
    "    \n",
    "    res = res.lower()\n",
    "  \n",
    "    lines = res.split()\n",
    "  \n",
    "    for line in lines:\n",
    "  \n",
    "        if line in d:\n",
    "  \n",
    "            \n",
    "            d[line] = d[line]+1\n",
    "        else:\n",
    "  \n",
    "           \n",
    "            d[line] = 1\n",
    "\n",
    "f.close()\n",
    "  \n",
    "for key in list(d.keys()):\n",
    "    print(\"The count of {} is {}\".format(key,d[key]))"
   ]
  },
  {
   "cell_type": "code",
   "execution_count": 48,
   "id": "bde53a12",
   "metadata": {},
   "outputs": [
    {
     "name": "stdout",
     "output_type": "stream",
     "text": [
      "how\n",
      "are\n",
      "you\n"
     ]
    }
   ],
   "source": [
    "#10.\tPython | Finding ‘n’ Character Words in a Text File\n",
    "count = 1\n",
    "chrw = \"\"\n",
    "  \n",
    "file = open('textfile.txt', 'r')\n",
    "while 1:\n",
    "    sp = file.read(1)\n",
    "  \n",
    "    if count<= 3:\n",
    "        chrw = chrw + sp\n",
    "  \n",
    "    if count>3:\n",
    "        if sp ==\" \":\n",
    "            count = 0\n",
    "            if len(chrw)>0:\n",
    "                print(chrw)\n",
    "                chrw =\"\"\n",
    "        elif sp !=\" \":\n",
    "            chrw =\"\"\n",
    "    count = count + 1\n",
    "  \n",
    "    if not sp:\n",
    "        break\n",
    "\n",
    "file.close() "
   ]
  }
 ],
 "metadata": {
  "kernelspec": {
   "display_name": "Python 3 (ipykernel)",
   "language": "python",
   "name": "python3"
  },
  "language_info": {
   "codemirror_mode": {
    "name": "ipython",
    "version": 3
   },
   "file_extension": ".py",
   "mimetype": "text/x-python",
   "name": "python",
   "nbconvert_exporter": "python",
   "pygments_lexer": "ipython3",
   "version": "3.10.1"
  }
 },
 "nbformat": 4,
 "nbformat_minor": 5
}
