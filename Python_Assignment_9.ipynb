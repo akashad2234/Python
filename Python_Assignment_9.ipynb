{
 "cells": [
  {
   "cell_type": "code",
   "execution_count": 2,
   "id": "f46ab603",
   "metadata": {},
   "outputs": [
    {
     "name": "stdout",
     "output_type": "stream",
     "text": [
      "String after multiple replace:Stud has k k in k\n"
     ]
    }
   ],
   "source": [
    "#1.\tPython – Replace multiple words with K\n",
    "test_string = 'Stud has best tutorials in python'\n",
    "  \n",
    "word_list = [\"best\", 'tutorials', 'python']\n",
    "replace_word = 'k'\n",
    "replaced_string = ' '.join([replace_word if i in word_list else i for i in test_string.split()])\n",
    "\n",
    "print(\"String after multiple replace:\"+str(replaced_string))"
   ]
  },
  {
   "cell_type": "code",
   "execution_count": 27,
   "id": "24fc471d",
   "metadata": {},
   "outputs": [
    {
     "name": "stdout",
     "output_type": "stream",
     "text": [
      "ABC\n",
      "ACB\n",
      "BAC\n",
      "BCA\n",
      "CAB\n",
      "CBA\n"
     ]
    }
   ],
   "source": [
    "#2.Python | Permutation of a given string using inbuilt function\n",
    "from itertools import permutations\n",
    "  \n",
    "def allPermutations(str):\n",
    "       \n",
    "     \n",
    "     permList = permutations(str)\n",
    "  \n",
    "     for perm in list(permList):\n",
    "        print (''.join(perm))\n",
    "        \n",
    "if __name__ == \"__main__\":\n",
    "    str = 'ABC'\n",
    "    allPermutations(str)"
   ]
  },
  {
   "cell_type": "code",
   "execution_count": 10,
   "id": "58e1f4fd",
   "metadata": {},
   "outputs": [
    {
     "name": "stdout",
     "output_type": "stream",
     "text": [
      "Urls:  ['https://auth.geeksforgeeks.org/user/Chinmoy%20Lenka/articles', 'https://www.geeksforgeeks.org/']\n"
     ]
    }
   ],
   "source": [
    "#3.\tPython | Check for URL in a String\n",
    "import re\n",
    "  \n",
    "def Find(string):\n",
    "  \n",
    "    \n",
    "    regex = r\"(?i)\\b((?:https?://|www\\d{0,3}[.]|[a-z0-9.\\-]+[.][a-z]{2,4}/)(?:[^\\s()<>]+|\\(([^\\s()<>]+|(\\([^\\s()<>]+\\)))*\\))+(?:\\(([^\\s()<>]+|(\\([^\\s()<>]+\\)))*\\)|[^\\s`!()\\[\\]{};:'\\\".,<>?«»“”‘’]))\"\n",
    "    url = re.findall(regex,string)      \n",
    "    return [x[0] for x in url]\n",
    "      \n",
    "string = 'My Profile: https://auth.geeksforgeeks.org/user/Chinmoy%20Lenka/articles in the portal of https://www.geeksforgeeks.org/'\n",
    "print(\"Urls: \", Find(string))"
   ]
  },
  {
   "cell_type": "code",
   "execution_count": 13,
   "id": "9101b24d",
   "metadata": {},
   "outputs": [
    {
     "name": "stdout",
     "output_type": "stream",
     "text": [
      "120\n"
     ]
    }
   ],
   "source": [
    "#4.Execute a String of Code in Python\n",
    "def exec_code():\n",
    "    LOC = \"\"\"\n",
    "def factorial(num):\n",
    "    fact=1\n",
    "    for i in range(1,num+1):\n",
    "        fact = fact*i\n",
    "    return fact\n",
    "print(factorial(5))\n",
    "\"\"\"\n",
    "    exec(LOC)\n",
    "     \n",
    "exec_code()"
   ]
  },
  {
   "cell_type": "code",
   "execution_count": 19,
   "id": "fd1efc7a",
   "metadata": {},
   "outputs": [
    {
     "name": "stdout",
     "output_type": "stream",
     "text": [
      "Left Rotation :  ynightStud\n",
      "Right Rotation :  ightStudyn\n"
     ]
    }
   ],
   "source": [
    "#5.String slicing in Python to rotate a string\n",
    "def rotate_string(s,d): \n",
    "  \n",
    "    Lfirst = s[0 : d] \n",
    "    Lsecond = s[d :] \n",
    "    Rfirst = s[0 : len(s)-d] \n",
    "    Rsecond = s[len(s)-d : ] \n",
    "  \n",
    "    print (\"Left Rotation : \", (Lsecond + Lfirst) )\n",
    "    print (\"Right Rotation : \", (Rsecond + Rfirst)) \n",
    "\n",
    "string = 'Studynight'\n",
    "d=4\n",
    "rotate_string(string,d)"
   ]
  },
  {
   "cell_type": "code",
   "execution_count": 3,
   "id": "46901617",
   "metadata": {},
   "outputs": [
    {
     "name": "stdout",
     "output_type": "stream",
     "text": [
      "true\n"
     ]
    }
   ],
   "source": [
    "#6.String slicing in Python to check if a string can become empty by recursive deletion\n",
    "def checkEmpty(input, pattern): \n",
    "        \n",
    "    if len(input)== 0 and len(pattern)== 0: \n",
    "         return 'true'\n",
    "    \n",
    "     \n",
    "    if len(pattern)== 0: \n",
    "         return 'true'\n",
    "    \n",
    "    while (len(input) != 0): \n",
    "  \n",
    "        index = input.find(pattern) \n",
    "  \n",
    "        if (index ==(-1)): \n",
    "            return 'false'\n",
    "  \n",
    "        input = input[0:index] + input[index + len(pattern):]              \n",
    "  \n",
    "    return 'true'\n",
    "\n",
    "if __name__ == \"__main__\": \n",
    "    input ='JEEJEEKSKS'\n",
    "    pattern ='JEEKS'\n",
    "    print (checkEmpty(input, pattern))"
   ]
  },
  {
   "cell_type": "code",
   "execution_count": 55,
   "id": "bd0a41e3",
   "metadata": {},
   "outputs": [
    {
     "name": "stdout",
     "output_type": "stream",
     "text": [
      "Duplicate characters in a given string: \n",
      "r\n",
      "e\n",
      "t\n",
      "s\n",
      "i\n"
     ]
    }
   ],
   "source": [
    "#7.\tPython Counter| Find all duplicate characters in string\n",
    "string = \"Great responsibility\";  \n",
    "   \n",
    "print(\"Duplicate characters in a given string: \");  \n",
    "for i in range(0, len(string)):  \n",
    "    count = 1;  \n",
    "    for j in range(i+1, len(string)):  \n",
    "        if(string[i] == string[j] and string[i] != ' '):  \n",
    "            count = count + 1;  \n",
    "            \n",
    "            string = string[:j] + '0' + string[j+1:];  \n",
    "   \n",
    "    if(count > 1 and string[i] != '0'):  \n",
    "        print(string[i]); "
   ]
  },
  {
   "cell_type": "code",
   "execution_count": 14,
   "id": "0df45a19",
   "metadata": {},
   "outputs": [
    {
     "name": "stdout",
     "output_type": "stream",
     "text": [
      "The original string is : seekofgod\n",
      "The string after swap : accdofgod\n"
     ]
    }
   ],
   "source": [
    "#8.\tPython – Replace all occurrences of a substring in a string\n",
    "test_str = \"seekofgod\"\n",
    "  \n",
    "\n",
    "print(\"The original string is : \" + test_str)\n",
    "  \n",
    "\n",
    "temp = str.maketrans(\"seek\", \"abcd\")\n",
    "test_str = test_str.translate(temp)\n",
    "  \n",
    "print(\"The string after swap : \" + str(test_str)) "
   ]
  },
  {
   "cell_type": "code",
   "execution_count": 16,
   "id": "46f09b70",
   "metadata": {},
   "outputs": [
    {
     "name": "stdout",
     "output_type": "stream",
     "text": [
      "The unique values list is :  [1, 2, 3, 4, 5, 6, 7, 8, 10, 12]\n"
     ]
    }
   ],
   "source": [
    "#9.\tPython – Extract Unique values dictionary values\n",
    "dict1 = {'A' : [1, 3, 5, 4],\n",
    "             'B' : [4, 6, 8, 10],\n",
    "             'C' : [6, 12, 4 ,8],\n",
    "             'D' : [5, 7, 2]}\n",
    "  \n",
    "res = list(sorted({ele for val in dict1.values() for ele in val}))\n",
    "  \n",
    "print(\"The unique values list is : \" , res)"
   ]
  },
  {
   "cell_type": "code",
   "execution_count": 17,
   "id": "65e2ad51",
   "metadata": {},
   "outputs": [
    {
     "name": "stdout",
     "output_type": "stream",
     "text": [
      "Sum : 600\n"
     ]
    }
   ],
   "source": [
    "#10.Python program to find the sum of all items in a dictionary\n",
    "def returnSum(myDict):\n",
    "     \n",
    "    list = []\n",
    "    for i in myDict:\n",
    "        list.append(myDict[i])\n",
    "    final = sum(list)\n",
    "     \n",
    "    return final\n",
    " \n",
    "dict = {'a': 100, 'b':200, 'c':300}\n",
    "print(\"Sum :\", returnSum(dict))"
   ]
  }
 ],
 "metadata": {
  "kernelspec": {
   "display_name": "Python 3 (ipykernel)",
   "language": "python",
   "name": "python3"
  },
  "language_info": {
   "codemirror_mode": {
    "name": "ipython",
    "version": 3
   },
   "file_extension": ".py",
   "mimetype": "text/x-python",
   "name": "python",
   "nbconvert_exporter": "python",
   "pygments_lexer": "ipython3",
   "version": "3.10.1"
  }
 },
 "nbformat": 4,
 "nbformat_minor": 5
}
