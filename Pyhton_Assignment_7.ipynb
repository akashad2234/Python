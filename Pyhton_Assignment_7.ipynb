{
 "cells": [
  {
   "cell_type": "code",
   "execution_count": 1,
   "id": "f92216aa",
   "metadata": {},
   "outputs": [
    {
     "name": "stdout",
     "output_type": "stream",
     "text": [
      "programmer python a am I\n"
     ]
    }
   ],
   "source": [
    "#1.Reverse words in a given String in Python\n",
    "\n",
    "string = \"I am a python programmer\"\n",
    "words = string.split()\n",
    "words = list(reversed(words))\n",
    "print(\" \".join(words))"
   ]
  },
  {
   "cell_type": "code",
   "execution_count": 2,
   "id": "17f4c228",
   "metadata": {},
   "outputs": [
    {
     "name": "stdout",
     "output_type": "stream",
     "text": [
      "The original string is : GeeksForGeeks\n",
      "The string after removal of i'th character : GeksForGeeks\n"
     ]
    }
   ],
   "source": [
    "#2.Ways to remove i’th character from string in Python\n",
    "test_str = \"GeeksForGeeks\"\n",
    "  \n",
    "\n",
    "print (\"The original string is : \" + test_str)\n",
    "  \n",
    "\n",
    "new_str = \"\"\n",
    "  \n",
    "for i in range(len(test_str)):\n",
    "    if i != 2:\n",
    "        new_str = new_str + test_str[i]\n",
    "\n",
    "print (\"The string after removal of i'th character : \" + new_str)"
   ]
  },
  {
   "cell_type": "code",
   "execution_count": 3,
   "id": "378ea2b3",
   "metadata": {},
   "outputs": [
    {
     "name": "stdout",
     "output_type": "stream",
     "text": [
      "YES\n"
     ]
    }
   ],
   "source": [
    "#3.Python | Check if a Substring is Present in a Given String\n",
    "def check(string, sub_str):\n",
    "    if (string.find(sub_str) == -1):\n",
    "        print(\"NO\")\n",
    "    else:\n",
    "        print(\"YES\")\n",
    "            \n",
    "string = \"geeks for geeks\"\n",
    "sub_str =\"geek\"\n",
    "check(string, sub_str)"
   ]
  },
  {
   "cell_type": "code",
   "execution_count": 6,
   "id": "c0ffb72d",
   "metadata": {},
   "outputs": [
    {
     "name": "stdout",
     "output_type": "stream",
     "text": [
      "This tutorial for Python tutorial\n",
      "Words in the string are :\n",
      "{'This': 1, 'tutorial': 2, 'for': 1, 'Python': 1}\n"
     ]
    }
   ],
   "source": [
    "#4.Python – Words Frequency in String Shorthands\n",
    "string=\"This tutorial for Python tutorial\"\n",
    "print(string) \n",
    "\n",
    "word= {key: string.count(key) for key in string.split()}\n",
    "\n",
    "print(\"Words in the string are :\")\n",
    "print(word)"
   ]
  },
  {
   "cell_type": "code",
   "execution_count": 7,
   "id": "0053dd6e",
   "metadata": {},
   "outputs": [
    {
     "name": "stdout",
     "output_type": "stream",
     "text": [
      "Snake case:  program_tutorial\n",
      "Pascal case:  ProgramTutorial\n"
     ]
    }
   ],
   "source": [
    "#5.Python – Convert Snake case to Pascal case\n",
    "string= \"program_tutorial\"\n",
    "print(\"Snake case: \",string)\n",
    "pascal= string.replace('_',' ').title()\n",
    "pascal= pascal.replace(' ','')\n",
    "print(\"Pascal case: \",pascal)"
   ]
  },
  {
   "cell_type": "code",
   "execution_count": 12,
   "id": "49f5b572",
   "metadata": {},
   "outputs": [
    {
     "name": "stdout",
     "output_type": "stream",
     "text": [
      "5\n",
      "5\n",
      "5\n",
      "5\n"
     ]
    }
   ],
   "source": [
    "#6.Find length of a string in python (4 ways)\n",
    "\n",
    "#1.\n",
    "str = \"geeks\"\n",
    "print(len(str))\n",
    "#2.\n",
    "def findLen(str):\n",
    "    counter = 0    \n",
    "    for i in str:\n",
    "        counter += 1\n",
    "    return counter\n",
    "  \n",
    "str = \"geeks\"\n",
    "print(findLen(str))\n",
    "#3.\n",
    "def findLen(str):\n",
    "    counter = 0\n",
    "    while str[counter:]:\n",
    "        counter += 1\n",
    "    return counter\n",
    "  \n",
    "str = \"geeks\"\n",
    "print(findLen(str))\n",
    "#4.\n",
    "def findLen(str):\n",
    "    if not str:\n",
    "        return 0\n",
    "    else:\n",
    "        some_random_str = 'py'\n",
    "        return ((some_random_str).join(str)).count(some_random_str) + 1\n",
    "str = \"geeks\"\n",
    "print(findLen(str))"
   ]
  },
  {
   "cell_type": "code",
   "execution_count": 14,
   "id": "da5b3089",
   "metadata": {},
   "outputs": [
    {
     "name": "stdout",
     "output_type": "stream",
     "text": [
      "am\n",
      "Aakash\n",
      "\n"
     ]
    }
   ],
   "source": [
    "#7.Python program to print even length words in a string\n",
    "def printWords(s):\n",
    "\n",
    "    s = s.split(' ') \n",
    "      \n",
    "    for word in s: \n",
    "        if len(word)%2==0:\n",
    "            print(word) \n",
    "  \n",
    "  \n",
    "s = \"i am Aakash \" \n",
    "printWords(s) "
   ]
  },
  {
   "cell_type": "code",
   "execution_count": 15,
   "id": "2d9b0067",
   "metadata": {},
   "outputs": [
    {
     "name": "stdout",
     "output_type": "stream",
     "text": [
      "AeBIdeffoBUw\n",
      "Accepted\n"
     ]
    }
   ],
   "source": [
    "#8.Python program to accept the strings which contains all vowels\n",
    "def CheckString(s):\n",
    "    s = s.lower()\n",
    "    vowels = set(\"aeiou\")\n",
    "    for char in s:\n",
    "        if char in vowels:\n",
    "            vowels.remove(char)\n",
    "    if len(vowels) == 0:\n",
    "        print(\"Accepted\")\n",
    "    else:\n",
    "        print(\"Not accepted\")\n",
    "\n",
    "\n",
    "s1= \"AeBIdeffoBUw\"\n",
    "print(s1)\n",
    "CheckString(s1)\n"
   ]
  },
  {
   "cell_type": "code",
   "execution_count": 17,
   "id": "104515cc",
   "metadata": {},
   "outputs": [
    {
     "name": "stdout",
     "output_type": "stream",
     "text": [
      "Given String Tutorials Point\n",
      "Search character strings aeio\n",
      "Count of matching characters are :  3\n"
     ]
    }
   ],
   "source": [
    "#9.Python | Count the Number of matching characters in a pair of string\n",
    "strA = 'Tutorials Point'\n",
    "uniq_strA = set(strA)\n",
    "print(\"Given String\",strA)\n",
    "strB = 'aeio'\n",
    "uniq_strB = set(strB)\n",
    "print(\"Search character strings\",strB)\n",
    "common_chars = uniq_strA & uniq_strB\n",
    "print(\"Count of matching characters are : \",len(common_chars))"
   ]
  },
  {
   "cell_type": "code",
   "execution_count": 30,
   "id": "751fd56e",
   "metadata": {},
   "outputs": [
    {
     "name": "stdout",
     "output_type": "stream",
     "text": [
      "Enter a string :-aakash\n",
      "aksh\n"
     ]
    }
   ],
   "source": [
    "#10.Remove all duplicates from a given string in Python\n",
    "\n",
    "string = input(\"Enter a string :-\")\n",
    "new_str = \"\"\n",
    "for i in string:\n",
    "    if i not in new_str :\n",
    "        new_str += i\n",
    "print(new_str)  "
   ]
  }
 ],
 "metadata": {
  "kernelspec": {
   "display_name": "Python 3 (ipykernel)",
   "language": "python",
   "name": "python3"
  },
  "language_info": {
   "codemirror_mode": {
    "name": "ipython",
    "version": 3
   },
   "file_extension": ".py",
   "mimetype": "text/x-python",
   "name": "python",
   "nbconvert_exporter": "python",
   "pygments_lexer": "ipython3",
   "version": "3.10.1"
  }
 },
 "nbformat": 4,
 "nbformat_minor": 5
}
