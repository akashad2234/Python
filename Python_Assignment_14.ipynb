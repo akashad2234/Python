{
 "cells": [
  {
   "cell_type": "code",
   "execution_count": 1,
   "id": "f283207e",
   "metadata": {},
   "outputs": [
    {
     "name": "stdout",
     "output_type": "stream",
     "text": [
      "The Original array is:  [9, 1, 7, 3, 5]\n",
      "The Sorted array is : [1, 3, 5, 7, 9]\n"
     ]
    }
   ],
   "source": [
    "#1.\tPython Program for Recursive Insertion Sort\n",
    "def insertion_sort(arr, Len):\n",
    "\n",
    "    if Len <= 1:\n",
    "        return\n",
    "    insertion_sort(arr, Len - 1)\n",
    "    end = arr[Len - 1]\n",
    "    \n",
    "    i = Len - 2\n",
    "    while(i>=0 and arr[i] > end):\n",
    "\n",
    "        arr[i+1] = arr[i]\n",
    "        i = i - 1\n",
    "\n",
    "    arr[i + 1] = end\n",
    "\n",
    "array = [9, 1, 7, 3, 5]\n",
    "print(\"The Original array is: \", array)\n",
    "\n",
    "insertion_sort(array, len(array))\n",
    "print(\"The Sorted array is :\", array)"
   ]
  },
  {
   "cell_type": "code",
   "execution_count": 9,
   "id": "cf5c170f",
   "metadata": {},
   "outputs": [
    {
     "name": "stdout",
     "output_type": "stream",
     "text": [
      "Sorted array is:\n",
      "1\n",
      "5\n",
      "7\n",
      "8\n",
      "9\n",
      "10\n"
     ]
    }
   ],
   "source": [
    "#2.\tPython Program for QuickSort\n",
    "def partition(arr, low, high):\n",
    "    i = (low-1)         \n",
    "    pivot = arr[high]    \n",
    " \n",
    "    for j in range(low, high):\n",
    " \n",
    "        \n",
    "        if arr[j] <= pivot:\n",
    " \n",
    "            i = i+1\n",
    "            arr[i], arr[j] = arr[j], arr[i]\n",
    " \n",
    "    arr[i+1], arr[high] = arr[high], arr[i+1]\n",
    "    return (i+1)\n",
    "\n",
    "\n",
    "def quickSort(arr, low, high):\n",
    "    if len(arr) == 1:\n",
    "        return arr\n",
    "    if low < high:\n",
    "        \n",
    "        pi = partition(arr, low, high)\n",
    " \n",
    "        quickSort(arr, low, pi-1)\n",
    "        quickSort(arr, pi+1, high)\n",
    " \n",
    " \n",
    "arr = [10, 7, 8, 9, 1, 5]\n",
    "n = len(arr)\n",
    "quickSort(arr, 0, n-1)\n",
    "print(\"Sorted array is:\")\n",
    "for i in range(n):\n",
    "    print(\"%d\" % arr[i])"
   ]
  },
  {
   "cell_type": "code",
   "execution_count": 12,
   "id": "305324ac",
   "metadata": {},
   "outputs": [
    {
     "name": "stdout",
     "output_type": "stream",
     "text": [
      "Orignal Array: [9, 0, 8, 1, 7, 3, 6, 4]\n",
      "Sorted Array : [0, 1, 3, 4, 6, 7, 8, 9]\n"
     ]
    }
   ],
   "source": [
    "#3.\tPython Program for Iterative Quick Sort\n",
    "def partition(array,low,high):\n",
    "    i = ( low - 1 )\n",
    "    x = array[high]\n",
    " \n",
    "    for j in range(low , high):\n",
    "        if   array[j] <= x:\n",
    " \n",
    "            i = i+1\n",
    "            array[i],array[j] = array[j],array[i]\n",
    " \n",
    "    array[i+1],array[high] = array[high],array[i+1]\n",
    "    return (i+1)\n",
    " \n",
    "\n",
    "def I_QuickSort(array,low,high):\n",
    " \n",
    "    size = high - low + 1\n",
    "    stack = [0] * (size)\n",
    " \n",
    "    top = -1\n",
    " \n",
    "    top = top + 1\n",
    "    stack[top] = low\n",
    "    top = top + 1\n",
    "    stack[top] = high\n",
    " \n",
    "    \n",
    "    while top >= 0:\n",
    " \n",
    "        \n",
    "        high = stack[top]\n",
    "        top = top - 1\n",
    "        low = stack[top]\n",
    "        top = top - 1\n",
    " \n",
    "        \n",
    "        p = partition( array, low, high )\n",
    "\n",
    "        \n",
    "        if p-1 > low:\n",
    "            top = top + 1\n",
    "            stack[top] = low\n",
    "            top = top + 1\n",
    "            stack[top] = p - 1\n",
    "\n",
    "        if p+1 < high:\n",
    "            top = top + 1\n",
    "            stack[top] = p + 1\n",
    "            top = top + 1\n",
    "            stack[top] = high\n",
    "\n",
    "array = [9, 0, 8, 1, 7, 3, 6, 4]\n",
    "n = len(array)\n",
    "print(\"Orignal Array:\", array)\n",
    "I_QuickSort(array, 0, n-1)\n",
    "print (\"Sorted Array :\", array)"
   ]
  },
  {
   "cell_type": "code",
   "execution_count": 14,
   "id": "2380b402",
   "metadata": {},
   "outputs": [
    {
     "name": "stdout",
     "output_type": "stream",
     "text": [
      "Enter the list of numbers: 2 4 1 3 5\n",
      "List after sorting is : [1, 2, 3, 4, 5]\n"
     ]
    }
   ],
   "source": [
    "#4.\tPython Program for Selection Sort\n",
    "def Selection_Sort(array):\n",
    "    for i in range(0, len(array) - 1):\n",
    "        smallest = i\n",
    "        for j in range(i + 1, len(array)):\n",
    "            if array[j] < array[smallest]:\n",
    "                smallest = j\n",
    "        array[i], array[smallest] = array[smallest], array[i]\n",
    "\n",
    "array = input('Enter the list of numbers: ').split()\n",
    "array = [int(x) for x in array]\n",
    "Selection_Sort(array)\n",
    "print('List after sorting is : ', end='')\n",
    "print(array)"
   ]
  },
  {
   "cell_type": "code",
   "execution_count": 16,
   "id": "6a9200b6",
   "metadata": {},
   "outputs": [
    {
     "name": "stdout",
     "output_type": "stream",
     "text": [
      "Sorted array is:\n",
      " 11  12  22  25  34  64  90 "
     ]
    }
   ],
   "source": [
    "#5.\tPython Program for Bubble Sort\n",
    "def bubbleSort(arr):\n",
    "    n = len(arr)\n",
    " \n",
    "    \n",
    "    for i in range(n-1):\n",
    "    \n",
    "        for j in range(0, n-i-1):\n",
    " \n",
    "            \n",
    "            if arr[j] > arr[j + 1] :\n",
    "                arr[j], arr[j + 1] = arr[j + 1], arr[j]\n",
    "\n",
    "arr = [64, 34, 25, 12, 22, 11, 90]\n",
    " \n",
    "bubbleSort(arr)\n",
    " \n",
    "print (\"Sorted array is:\")\n",
    "for i in range(len(arr)):\n",
    "    print (\"% d\" % arr[i],end=\" \")"
   ]
  },
  {
   "cell_type": "code",
   "execution_count": 17,
   "id": "21192193",
   "metadata": {},
   "outputs": [
    {
     "name": "stdout",
     "output_type": "stream",
     "text": [
      "Given array is\n",
      "12 11 13 5 6 7 \n",
      "\n",
      "Sorted array is\n",
      "5 6 7 11 12 13 "
     ]
    }
   ],
   "source": [
    "#6.\tPython Program for Merge Sort\n",
    "def merge(arr, l, m, r):\n",
    "    n1 = m - l + 1\n",
    "    n2 = r - m\n",
    " \n",
    "    # create temp arrays\n",
    "    L = [0] * (n1)\n",
    "    R = [0] * (n2)\n",
    " \n",
    "    # Copy data to temp arrays L[] and R[]\n",
    "    for i in range(0, n1):\n",
    "        L[i] = arr[l + i]\n",
    " \n",
    "    for j in range(0, n2):\n",
    "        R[j] = arr[m + 1 + j]\n",
    " \n",
    "    # Merge the temp arrays back into arr[l..r]\n",
    "    i = 0     # Initial index of first subarray\n",
    "    j = 0     # Initial index of second subarray\n",
    "    k = l     # Initial index of merged subarray\n",
    " \n",
    "    while i < n1 and j < n2:\n",
    "        if L[i] <= R[j]:\n",
    "            arr[k] = L[i]\n",
    "            i += 1\n",
    "        else:\n",
    "            arr[k] = R[j]\n",
    "            j += 1\n",
    "        k += 1\n",
    " \n",
    "    # Copy the remaining elements of L[], if there\n",
    "    # are any\n",
    "    while i < n1:\n",
    "        arr[k] = L[i]\n",
    "        i += 1\n",
    "        k += 1\n",
    " \n",
    "    # Copy the remaining elements of R[], if there\n",
    "    # are any\n",
    "    while j < n2:\n",
    "        arr[k] = R[j]\n",
    "        j += 1\n",
    "        k += 1\n",
    " \n",
    " \n",
    "def mergeSort(arr, l, r):\n",
    "    if l < r:\n",
    " \n",
    "        # Same as (l+r)//2, but avoids overflow for\n",
    "        # large l and h\n",
    "        m = l+(r-l)//2\n",
    " \n",
    "        # Sort first and second halves\n",
    "        mergeSort(arr, l, m)\n",
    "        mergeSort(arr, m+1, r)\n",
    "        merge(arr, l, m, r)\n",
    " \n",
    " \n",
    "arr = [12, 11, 13, 5, 6, 7]\n",
    "n = len(arr)\n",
    "print(\"Given array is\")\n",
    "for i in range(n):\n",
    "    print(\"%d\" % arr[i],end=\" \")\n",
    "\n",
    "mergeSort(arr, 0, n-1)\n",
    "print(\"\\n\\nSorted array is\")\n",
    "for i in range(n):\n",
    "    print(\"%d\" % arr[i],end=\" \")"
   ]
  },
  {
   "cell_type": "code",
   "execution_count": 18,
   "id": "eacc9c42",
   "metadata": {},
   "outputs": [
    {
     "name": "stdout",
     "output_type": "stream",
     "text": [
      "The Original array is:  [4, 2, 3, 1, 6, 5]\n",
      "Array after sorting is:  [1, 2, 3, 4, 5, 6]\n"
     ]
    }
   ],
   "source": [
    "#7.\tPython Program for Iterative Merge Sort\n",
    "def merge(S, temp, From, mid, to):\n",
    " \n",
    "    a = From\n",
    "    b = From\n",
    "    c = mid + 1\n",
    " \n",
    "    while b <= mid and c <= to:\n",
    "        if S[b] < S[c]:\n",
    "            temp[a] = S[b]\n",
    "            b = b + 1\n",
    "        else:\n",
    "            temp[a] = S[c]\n",
    "            c = c + 1\n",
    "        a = a + 1\n",
    " \n",
    "    \n",
    "    while b < len(S) and b <= mid:\n",
    "        temp[a] = S[b]\n",
    "        a = a + 1\n",
    "        b = b + 1\n",
    " \n",
    "     \n",
    "    for b in range(From, to + 1):\n",
    "        S[b] = temp[b]\n",
    " \n",
    " \n",
    "def Merge_Sort(S):\n",
    " \n",
    "    low = 0\n",
    "    high = len(S) - 1\n",
    " \n",
    "    \n",
    "    temp = S.copy()\n",
    " \n",
    "    d = 1\n",
    "    while d <= high - low:\n",
    " \n",
    "        for b in range(low, high, 2*d):\n",
    "            From = b\n",
    "            mid = b + d - 1\n",
    "            to = min(b + 2*d - 1, high)\n",
    "            merge(S, temp, From, mid, to)\n",
    " \n",
    "        d = 2*d\n",
    "\n",
    "if __name__ == '__main__':\n",
    " \n",
    "    S = [4, 2, 3, 1, 6, 5]\n",
    "    print(\"The Original array is: \", S)\n",
    "    Merge_Sort(S)\n",
    "    print(\"Array after sorting is: \", S)\n"
   ]
  },
  {
   "cell_type": "code",
   "execution_count": 19,
   "id": "13bc1fcb",
   "metadata": {},
   "outputs": [
    {
     "name": "stdout",
     "output_type": "stream",
     "text": [
      "The original array is:  [7, 2, 5, 6, 3, 1, 8, 4]\n",
      "Array after sorting is:  [1, 2, 3, 4, 5, 6, 7, 8]\n"
     ]
    }
   ],
   "source": [
    "#8.\tPython Program for Heap Sort\n",
    "def heapify(array, a, b):\n",
    "    largest = b \n",
    "    l = 2 * b + 1\n",
    "    root = 2 * b + 2 \n",
    "\n",
    "    if l < a and array[b] < array[l]:\n",
    "        largest = l\n",
    "\n",
    "    if root < a and array[largest] < array[root]:\n",
    "        largest = root\n",
    "\n",
    "    if largest != b:\n",
    "        array[b], array[largest] = array[largest], array[b]\n",
    "        heapify(array, a, largest)\n",
    "\n",
    "def Heap_Sort(array):\n",
    "    a = len(array)\n",
    "\n",
    "    for b in range(a // 2 - 1, -1, -1):\n",
    "        heapify(array, a, b)\n",
    "\n",
    "    for b in range(a-1, 0, -1):\n",
    "        array[b], array[0] = array[0], array[b] # swap\n",
    "        heapify(array, b, 0)\n",
    "\n",
    "array = [ 7, 2, 5, 6, 3, 1, 8, 4]\n",
    "print(\"The original array is: \", array)\n",
    "Heap_Sort(array)\n",
    "a = len(array)\n",
    "print (\"Array after sorting is: \", array)"
   ]
  },
  {
   "cell_type": "code",
   "execution_count": 20,
   "id": "5500739d",
   "metadata": {},
   "outputs": [
    {
     "name": "stdout",
     "output_type": "stream",
     "text": [
      "Sorted character array is eeeefggkkorss\n"
     ]
    }
   ],
   "source": [
    "#9.\tPython Program for Counting Sort\n",
    "def countSort(arr):\n",
    " \n",
    "    output = [0 for i in range(256)]\n",
    " \n",
    "    \n",
    "    count = [0 for i in range(256)]\n",
    " \n",
    "    \n",
    "    ans = [\"\" for _ in arr]\n",
    " \n",
    "    for i in arr:\n",
    "        count[ord(i)] += 1\n",
    " \n",
    "    \n",
    "    for i in range(256):\n",
    "        count[i] += count[i-1]\n",
    " \n",
    "    for i in range(len(arr)):\n",
    "        output[count[ord(arr[i])]-1] = arr[i]\n",
    "        count[ord(arr[i])] -= 1\n",
    " \n",
    "    \n",
    "    for i in range(len(arr)):\n",
    "        ans[i] = output[i]\n",
    "    return ans\n",
    " \n",
    "arr = \"geeksforgeeks\"\n",
    "ans = countSort(arr)\n",
    "print (\"Sorted character array is %s\"  %(\"\".join(ans)))"
   ]
  },
  {
   "cell_type": "code",
   "execution_count": 27,
   "id": "2bf8672d",
   "metadata": {},
   "outputs": [
    {
     "name": "stdout",
     "output_type": "stream",
     "text": [
      "Sorted Array in Ascending Order:\n",
      "[1, 3, 4, 5, 6, 7, 8, 9]\n"
     ]
    }
   ],
   "source": [
    "#10.Python Program for ShellSort\n",
    "\n",
    "def shellSort(array, n):\n",
    "\n",
    "    interval = n // 2\n",
    "    while interval > 0:\n",
    "        for i in range(interval, n):\n",
    "            temp = array[i]\n",
    "            j = i\n",
    "            while j >= interval and array[j - interval] > temp:\n",
    "                array[j] = array[j - interval]\n",
    "                j -= interval\n",
    "\n",
    "            array[j] = temp\n",
    "        interval //= 2\n",
    "\n",
    "\n",
    "data = [9, 8, 3, 7, 5, 6, 4, 1]\n",
    "size = len(data)\n",
    "shellSort(data, size)\n",
    "print('Sorted Array in Ascending Order:')\n",
    "print(data)"
   ]
  }
 ],
 "metadata": {
  "kernelspec": {
   "display_name": "Python 3 (ipykernel)",
   "language": "python",
   "name": "python3"
  },
  "language_info": {
   "codemirror_mode": {
    "name": "ipython",
    "version": 3
   },
   "file_extension": ".py",
   "mimetype": "text/x-python",
   "name": "python",
   "nbconvert_exporter": "python",
   "pygments_lexer": "ipython3",
   "version": "3.10.1"
  }
 },
 "nbformat": 4,
 "nbformat_minor": 5
}
