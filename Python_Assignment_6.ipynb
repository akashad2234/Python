{
 "cells": [
  {
   "cell_type": "code",
   "execution_count": 1,
   "id": "4cc63f49",
   "metadata": {},
   "outputs": [
    {
     "name": "stdout",
     "output_type": "stream",
     "text": [
      "[10, 10, 10]\n",
      "[10, 10, 10]\n",
      "[10, 10, 10]\n"
     ]
    }
   ],
   "source": [
    "#1.Python program to add two Matrices\n",
    "X = [[1,2,3],\n",
    "    [4 ,5,6],\n",
    "    [7 ,8,9]]\n",
    " \n",
    "Y = [[9,8,7],\n",
    "    [6,5,4],\n",
    "    [3,2,1]]\n",
    " \n",
    "result = [[0,0,0],\n",
    "        [0,0,0],\n",
    "        [0,0,0]]\n",
    " \n",
    "for i in range(len(X)):  \n",
    "    for j in range(len(X[0])):\n",
    "        result[i][j] = X[i][j] + Y[i][j]\n",
    "for r in result:\n",
    "    print(r)"
   ]
  },
  {
   "cell_type": "code",
   "execution_count": 2,
   "id": "27f87c29",
   "metadata": {},
   "outputs": [
    {
     "name": "stdout",
     "output_type": "stream",
     "text": [
      "[9, 16, 21]\n",
      "[24, 25, 24]\n",
      "[21, 16, 9]\n"
     ]
    }
   ],
   "source": [
    "#2.\tPython program to multiply two matrices\n",
    "X = [[1,2,3],\n",
    "    [4 ,5,6],\n",
    "    [7 ,8,9]]\n",
    " \n",
    "Y = [[9,8,7],\n",
    "    [6,5,4],\n",
    "    [3,2,1]]\n",
    " \n",
    "result = [[0,0,0],\n",
    "        [0,0,0],\n",
    "        [0,0,0]]\n",
    " \n",
    "for i in range(len(X)):  \n",
    "    for j in range(len(X[0])):\n",
    "        result[i][j] = X[i][j] * Y[i][j]\n",
    "for r in result:\n",
    "    print(r)"
   ]
  },
  {
   "cell_type": "code",
   "execution_count": 3,
   "id": "356847c9",
   "metadata": {},
   "outputs": [
    {
     "name": "stdout",
     "output_type": "stream",
     "text": [
      "Result: \n",
      "[26, 29, 40]\n",
      "[48, 88, 89]\n",
      "[105, 144, 173]\n"
     ]
    },
    {
     "data": {
      "text/plain": [
       "0"
      ]
     },
     "execution_count": 3,
     "metadata": {},
     "output_type": "execute_result"
    }
   ],
   "source": [
    "#3.\tPython program for Matrix Product\n",
    "def Multiply(A,B):\n",
    "    result=[ [0,0,0],[0,0,0],[0,0,0] ]\n",
    "    #for rows\n",
    "    for i in range(len(A)):\n",
    "        #for columns\n",
    "        for j in range(len(B[0])):\n",
    "            #for rows of matrix B\n",
    "            for k in range(len(B)):\n",
    "                result[i][j] += A[i][k] * B[k][j]\n",
    "\n",
    "    for p in result:\n",
    "        print(p)\n",
    "    return 0\n",
    "\n",
    "A = [ [1, 2, 3],[6, 7, 4], [8, 10, 11] ]\n",
    "B = [[1, 5, 3],[2, 6, 5], [7, 4, 9] ]\n",
    "\n",
    "print(\"Result: \")\n",
    "Multiply(A,B)"
   ]
  },
  {
   "cell_type": "code",
   "execution_count": 9,
   "id": "97fa8a06",
   "metadata": {},
   "outputs": [
    {
     "name": "stdout",
     "output_type": "stream",
     "text": [
      "Subtraction of two matrix\n",
      "[[-3 -3]\n",
      " [-3 -3]]\n",
      "Addition of two matrix\n",
      "[[ 5  7]\n",
      " [ 9 11]]\n"
     ]
    }
   ],
   "source": [
    "#4.\tAdding and Subtracting Matrices in Python\n",
    "import numpy as np\n",
    "  \n",
    "A = np.array([[1, 2], [3, 4]])\n",
    "  \n",
    "B = np.array([[4, 5], [6, 7]])\n",
    "  \n",
    "\n",
    "# subtracting two matrix\n",
    "print(\"Subtraction of two matrix\")\n",
    "print(np.subtract(A, B))\n",
    "\n",
    "# adding two matrix\n",
    "print(\"Addition of two matrix\")\n",
    "print(np.add(A, B))"
   ]
  },
  {
   "cell_type": "code",
   "execution_count": 10,
   "id": "b746da4c",
   "metadata": {},
   "outputs": [
    {
     "name": "stdout",
     "output_type": "stream",
     "text": [
      "[[1, 2, 3], [4, 5, 6]]\n",
      "\n",
      "\n",
      "[[1 4]\n",
      " [2 5]\n",
      " [3 6]]\n"
     ]
    }
   ],
   "source": [
    "#5.Transpose a matrix in Single line in Python\n",
    "import numpy \n",
    "matrix=[[1,2,3],[4,5,6]]\n",
    "print(matrix)\n",
    "print(\"\\n\")\n",
    "print(numpy.transpose(matrix))"
   ]
  },
  {
   "cell_type": "code",
   "execution_count": 13,
   "id": "7d99ee95",
   "metadata": {},
   "outputs": [
    {
     "name": "stdout",
     "output_type": "stream",
     "text": [
      "Enter number:3\n",
      "The created matrix of 3 * 3: \n",
      "[1, 2, 3]\n",
      "[4, 5, 6]\n",
      "[7, 8, 9]\n"
     ]
    }
   ],
   "source": [
    "#6.Python | Matrix creation of n*n\n",
    "n = int(input(\"Enter number:\"))\n",
    "matrix = [list(range(1 + n * i, 1 + n * (i + 1))) for i in range(n)]\n",
    "print(\"The created matrix of {} * {}: \".format(n,n))\n",
    "for m in matrix:\n",
    "    print(m)"
   ]
  },
  {
   "cell_type": "code",
   "execution_count": 16,
   "id": "37c916e5",
   "metadata": {},
   "outputs": [
    {
     "name": "stdout",
     "output_type": "stream",
     "text": [
      "The original list is : [[4, 5, 6], [8, 1, 10], [7, 12, 5]]\n",
      "Enter kth value :2\n",
      "The Kth column of matrix is : [6, 10, 5]\n"
     ]
    }
   ],
   "source": [
    "#7.Python | Get Kth Column of Matrix\n",
    "test_list = [[4, 5, 6], [8, 1, 10], [7, 12, 5]]\n",
    "  \n",
    "print(\"The original list is : \" + str(test_list))\n",
    "  \n",
    "K = int(input(\"Enter kth value :\"))\n",
    "  \n",
    "# Get Kth Column of Matrix\n",
    "res = [sub[K] for sub in test_list]\n",
    "  \n",
    "print(\"The Kth column of matrix is : \" + str(res))"
   ]
  },
  {
   "cell_type": "code",
   "execution_count": 17,
   "id": "dfe1d9fe",
   "metadata": {},
   "outputs": [
    {
     "name": "stdout",
     "output_type": "stream",
     "text": [
      "The original list : [['Gfg', 'good'], ['is', 'for'], ['Best']]\n",
      "List after column Concatenation : ['GfgisBest', 'goodfor']\n"
     ]
    }
   ],
   "source": [
    "#8.Python – Vertical Concatenation in Matrix\n",
    "test_list = [[\"Gfg\", \"good\"], [\"is\", \"for\"], [\"Best\"]]\n",
    "  \n",
    "print(\"The original list : \" + str(test_list))\n",
    "  \n",
    "res = []\n",
    "N = 0\n",
    "while N != len(test_list):\n",
    "    temp = ''\n",
    "    for idx in test_list:\n",
    "          \n",
    "        # checking for valid index / column\n",
    "        try: temp = temp + idx[N]\n",
    "        except IndexError: pass\n",
    "    res.append(temp)\n",
    "    N = N + 1\n",
    "    \n",
    "res = [ele for ele in res if ele]\n",
    "  \n",
    "# printing result \n",
    "print(\"List after column Concatenation : \" + str(res))"
   ]
  },
  {
   "cell_type": "code",
   "execution_count": 23,
   "id": "be251b6b",
   "metadata": {},
   "outputs": [
    {
     "name": "stdout",
     "output_type": "stream",
     "text": [
      "Yes the entered string is palindrome\n"
     ]
    }
   ],
   "source": [
    "#9.Python program to check if a string is palindrome or not\n",
    "def isPalindrome(s):\n",
    "    return s == s[::-1]\n",
    " \n",
    "s = \"malayalam\"\n",
    "ans = isPalindrome(s)\n",
    " \n",
    "if ans:\n",
    "    print(\"Yes the entered string is palindrome\")\n",
    "else:\n",
    "    print(\"No the entered string is not palindrome\")"
   ]
  },
  {
   "cell_type": "code",
   "execution_count": 22,
   "id": "9e54302a",
   "metadata": {},
   "outputs": [
    {
     "name": "stdout",
     "output_type": "stream",
     "text": [
      "The entered string is palindrome\n",
      "The entered string is symmetrical\n"
     ]
    }
   ],
   "source": [
    "#10.Python program to check whether the string is Symmetrical or Palindrome\n",
    "\n",
    "\n",
    "def palindrome(a):\n",
    "\n",
    "    mid = (len(a)-1)//2\n",
    "    start = 0\n",
    "    last = len(a)-1\n",
    "    flag = 0\n",
    "\n",
    "\n",
    "    while(start <= mid):\n",
    "\n",
    "\n",
    "        if (a[start]== a[last]):\n",
    "\n",
    "            start += 1\n",
    "            last -= 1\n",
    "\n",
    "        else:\n",
    "            flag = 1\n",
    "            break;\n",
    "\n",
    "\n",
    "    if flag == 0:\n",
    "        print(\"The entered string is palindrome\")\n",
    "    else:\n",
    "        print(\"The entered string is not palindrome\")\n",
    "\n",
    "\n",
    "def symmetry(a):\n",
    "\n",
    "    n = len(a)\n",
    "    flag = 0\n",
    "\n",
    "\n",
    "    if n%2:\n",
    "        mid = n//2 +1\n",
    "    else:\n",
    "        mid = n//2\n",
    "\n",
    "    start1 = 0\n",
    "    start2 = mid\n",
    "\n",
    "    while(start1 < mid and start2 < n):\n",
    "\n",
    "        if (a[start1]== a[start2]):\n",
    "            start1 = start1 + 1\n",
    "            start2 = start2 + 1\n",
    "        else:\n",
    "            flag = 1\n",
    "            break\n",
    "\n",
    "    if flag == 0:\n",
    "        print(\"The entered string is symmetrical\")\n",
    "    else:\n",
    "        print(\"The entered string is not symmetrical\")\n",
    "\n",
    "string = 'amaama'\n",
    "palindrome(string)\n",
    "symmetry(string)\n"
   ]
  }
 ],
 "metadata": {
  "kernelspec": {
   "display_name": "Python 3 (ipykernel)",
   "language": "python",
   "name": "python3"
  },
  "language_info": {
   "codemirror_mode": {
    "name": "ipython",
    "version": 3
   },
   "file_extension": ".py",
   "mimetype": "text/x-python",
   "name": "python",
   "nbconvert_exporter": "python",
   "pygments_lexer": "ipython3",
   "version": "3.10.1"
  }
 },
 "nbformat": 4,
 "nbformat_minor": 5
}
