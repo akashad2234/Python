{
 "cells": [
  {
   "cell_type": "code",
   "execution_count": 2,
   "id": "463e8e03",
   "metadata": {},
   "outputs": [
    {
     "name": "stdout",
     "output_type": "stream",
     "text": [
      "The original dictionary is : {'gfg': [7, 6, 3], 'is': [2, 10, 3], 'best': [19, 4]}\n",
      "The sorted dictionary : {'best': [4, 19], 'gfg': [3, 6, 7], 'is': [2, 3, 10]}\n"
     ]
    }
   ],
   "source": [
    "#1.\tPython – Sort Dictionary key and values List\n",
    "test_dict = {'gfg': [7, 6, 3], \n",
    "             'is': [2, 10, 3], \n",
    "             'best': [19, 4]}\n",
    "  \n",
    "print(\"The original dictionary is : \" + str(test_dict))\n",
    "  \n",
    "res = dict()\n",
    "for key in sorted(test_dict):\n",
    "    res[key] = sorted(test_dict[key])\n",
    "\n",
    "print(\"The sorted dictionary : \" + str(res)) "
   ]
  },
  {
   "cell_type": "code",
   "execution_count": 3,
   "id": "8d28a44e",
   "metadata": {},
   "outputs": [
    {
     "name": "stdout",
     "output_type": "stream",
     "text": [
      "0091\n",
      "Not Found\n"
     ]
    }
   ],
   "source": [
    "#2.\tHandling missing keys in Python dictionaries\n",
    "country_code = {'India' : '0091',\n",
    "                'Australia' : '0025',\n",
    "                'Nepal' : '00977'}\n",
    " \n",
    "print(country_code.get('India', 'Not Found'))\n",
    " \n",
    "print(country_code.get('Japan', 'Not Found'))"
   ]
  },
  {
   "cell_type": "code",
   "execution_count": 4,
   "id": "692d6e84",
   "metadata": {},
   "outputs": [
    {
     "name": "stdout",
     "output_type": "stream",
     "text": [
      "{(10, 20, 30): 0, (5, 2, 4): 3}\n"
     ]
    }
   ],
   "source": [
    "#3.\tPython dictionary with keys having multiple inputs\n",
    "import random as rn\n",
    " \n",
    "dict = {}\n",
    " \n",
    "x, y, z = 10, 20, 30\n",
    "dict[x, y, z] = x + y - z;\n",
    " \n",
    "x, y, z = 5, 2, 4\n",
    "dict[x, y, z] = x + y - z;\n",
    " \n",
    "print(dict)"
   ]
  },
  {
   "cell_type": "code",
   "execution_count": 5,
   "id": "40f8da90",
   "metadata": {},
   "outputs": [
    {
     "name": "stdout",
     "output_type": "stream",
     "text": [
      "Words:  ['act', 'cat', 'silent', 'listen']\n",
      "Anagram:  act cat silent listen \n"
     ]
    }
   ],
   "source": [
    "#4.\tPrint anagrams together in Python using List and Dictionary\n",
    "def Anagram(d1): \n",
    "      \n",
    "    dict = {} \n",
    "  \n",
    "    # traversal \n",
    "    for val in d1: \n",
    "          \n",
    "        # sorts list\n",
    "        key = ''.join(sorted(val)) \n",
    "          \n",
    "        if key in dict.keys(): \n",
    "            dict[key].append(val) \n",
    "        else: \n",
    "            dict[key] = [] \n",
    "            dict[key].append(val) \n",
    "  \n",
    "    result = \"\" \n",
    "    for key,value in dict.items(): \n",
    "        result = result + ' '.join(value) + ' '\n",
    "  \n",
    "    return result \n",
    "  \n",
    "d1=['act', 'cat', 'silent','listen']\n",
    "print(\"Words: \",d1)\n",
    "print(\"Anagram: \",Anagram(d1))"
   ]
  },
  {
   "cell_type": "code",
   "execution_count": 3,
   "id": "46cef1f6",
   "metadata": {},
   "outputs": [
    {
     "name": "stdout",
     "output_type": "stream",
     "text": [
      "a\n"
     ]
    }
   ],
   "source": [
    "#5.\tK’th Non-repeating Character in Python using List Comprehension and OrderedDict\n",
    "from collections import OrderedDict\n",
    "import itertools\n",
    "def kthRepeating(inp,k):\n",
    "\n",
    "    dict=OrderedDict.fromkeys(inp,0)\n",
    "    for ch in inp:\n",
    "        dict[ch]+=1\n",
    "    nonRepeatDict = [key for (key,value) in dict.items() if value==1]\n",
    "    if len(nonRepeatDict) < k:\n",
    "        return 'no ouput.'\n",
    "    else:\n",
    "        return nonRepeatDict[k-1]\n",
    "\n",
    "if __name__ == \"__main__\":\n",
    "    inp = \"tutorialspoint\"\n",
    "    k = 3\n",
    "    print (kthRepeating(inp, k))"
   ]
  },
  {
   "cell_type": "code",
   "execution_count": 5,
   "id": "e52e35f8",
   "metadata": {},
   "outputs": [
    {
     "name": "stdout",
     "output_type": "stream",
     "text": [
      "No\n"
     ]
    }
   ],
   "source": [
    "#6.\tCheck if binary representations of two numbers are anagram\n",
    "from collections import Counter\n",
    "  \n",
    "def checkAnagram(n1,n2):\n",
    "  \n",
    "    # convert numbers into binary\n",
    "    bin1 = bin(n1)[2:]\n",
    "    bin2 = bin(n2)[2:]\n",
    "  \n",
    "    # append zeros in shorter string\n",
    "    zeros = abs(len(bin1)-len(bin2))\n",
    "    if (len(bin1)>len(bin2)):\n",
    "         bin2 = zeros * '0' + bin2\n",
    "    else:\n",
    "         bin1 = zeros * '0' + bin1\n",
    "  \n",
    "    # convert binary to  dictionary\n",
    "    dict1 = Counter(bin1)\n",
    "    dict2 = Counter(bin2)\n",
    "  \n",
    "    # compare both dictionaries\n",
    "    if dict1 == dict2:\n",
    "         print('Yes')\n",
    "    else:\n",
    "         print('No')\n",
    "\n",
    "n1 = 11\n",
    "n2 = 3\n",
    "checkAnagram(n1,n2)"
   ]
  },
  {
   "cell_type": "code",
   "execution_count": 6,
   "id": "eb541719",
   "metadata": {},
   "outputs": [
    {
     "name": "stdout",
     "output_type": "stream",
     "text": [
      "3\n"
     ]
    }
   ],
   "source": [
    "#7.\tPython Counter to find the size of largest subset of anagram words\n",
    "from collections import Counter\n",
    "  \n",
    "def maxAnagramSize(input):\n",
    "  \n",
    "    input = input.split(\" \")\n",
    "  \n",
    "    for i in range(0,len(input)):\n",
    "         input[i]=''.join(sorted(input[i]))\n",
    "  \n",
    "    \n",
    "    freqDict = Counter(input)\n",
    "  \n",
    "    print (max(freqDict.values()))\n",
    "\n",
    "if __name__ == \"__main__\":\n",
    "    input = 'ant magenta magnate tan gnamate'\n",
    "    maxAnagramSize(input)"
   ]
  },
  {
   "cell_type": "code",
   "execution_count": 8,
   "id": "6b1cf165",
   "metadata": {},
   "outputs": [
    {
     "name": "stdout",
     "output_type": "stream",
     "text": [
      "There are two children playing in the park\n"
     ]
    }
   ],
   "source": [
    "#Python | Remove all duplicates words from a given sentence\n",
    "from collections import Counter \n",
    "def remove_duplicate(s):\n",
    "\n",
    "    s = s.split(\" \")\n",
    "    word_dic = Counter(s)\n",
    "    result = \" \".join(word_dic.keys())\n",
    "    print (result)\n",
    "\n",
    "st = 'There are two children children playing in the park'\n",
    "remove_duplicate(st)"
   ]
  },
  {
   "cell_type": "code",
   "execution_count": 10,
   "id": "599c17d9",
   "metadata": {},
   "outputs": [
    {
     "name": "stdout",
     "output_type": "stream",
     "text": [
      "paizwlc\n"
     ]
    }
   ],
   "source": [
    "#9.\tPython Dictionary to find mirror characters in a string\n",
    "def mirrorChars(input,k):\n",
    " \n",
    "    # create dictionary\n",
    "    original = 'abcdefghijklmnopqrstuvwxyz'\n",
    "    reverse = 'zyxwvutsrqponmlkjihgfedcba'\n",
    "    dictChars = dict(zip(original,reverse))\n",
    " \n",
    "    # separate out string after length k to change\n",
    "    # characters in mirror\n",
    "    prefix = input[0:k-1]\n",
    "    suffix = input[k-1:]\n",
    "    mirror = ''\n",
    " \n",
    "    # change into mirror\n",
    "    for i in range(0,len(suffix)):\n",
    "         mirror = mirror + dictChars[suffix[i]]\n",
    " \n",
    "    # concat prefix and mirrored part\n",
    "    print (prefix+mirror)\n",
    "    \n",
    "if __name__ == \"__main__\":\n",
    "    input = 'paradox'\n",
    "    k = 3\n",
    "    mirrorChars(input,k)\n"
   ]
  },
  {
   "cell_type": "code",
   "execution_count": 13,
   "id": "a7ab8956",
   "metadata": {},
   "outputs": [
    {
     "name": "stdout",
     "output_type": "stream",
     "text": [
      "{1: 4, 3: 4, 2: 5, 6: 2, 5: 1, 4: 3}\n"
     ]
    }
   ],
   "source": [
    "#10.\tCounting the frequencies in a list using dictionary in Python\n",
    "def CountFreq(li):\n",
    "    freq = {}\n",
    "    for item in li:\n",
    "        if (item in freq):\n",
    "            freq[item] += 1\n",
    "        else:\n",
    "            freq[item] = 1\n",
    "    print(freq) \n",
    "li =[1, 1, 3, 2, 6, 5, 3, 1, 3, 3, 1, 4, 6, 4, 4, 2, 2, 2, 2]\n",
    "CountFreq(li)"
   ]
  }
 ],
 "metadata": {
  "kernelspec": {
   "display_name": "Python 3 (ipykernel)",
   "language": "python",
   "name": "python3"
  },
  "language_info": {
   "codemirror_mode": {
    "name": "ipython",
    "version": 3
   },
   "file_extension": ".py",
   "mimetype": "text/x-python",
   "name": "python",
   "nbconvert_exporter": "python",
   "pygments_lexer": "ipython3",
   "version": "3.10.1"
  }
 },
 "nbformat": 4,
 "nbformat_minor": 5
}
