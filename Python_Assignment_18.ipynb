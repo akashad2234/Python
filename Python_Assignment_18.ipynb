{
 "cells": [
  {
   "cell_type": "code",
   "execution_count": 2,
   "id": "38136773",
   "metadata": {},
   "outputs": [
    {
     "name": "stdout",
     "output_type": "stream",
     "text": [
      "Valid input\n"
     ]
    }
   ],
   "source": [
    "#1.\tPython – Check whether a string starts and ends with the same character or not\n",
    "import re\n",
    "string='pop'\n",
    "expression = r'^[a-z]$|^([a-z]).*\\1$'\n",
    "if(re.search(expression,string)):\n",
    "    print(\"Valid input\")\n",
    "else:\n",
    "    print(\"Invalid input\")\n"
   ]
  },
  {
   "cell_type": "code",
   "execution_count": 3,
   "id": "8a58ac73",
   "metadata": {},
   "outputs": [
    {
     "name": "stdout",
     "output_type": "stream",
     "text": [
      "Yes\n",
      "Yes\n",
      "No\n"
     ]
    }
   ],
   "source": [
    "#2.\tPython regex to find sequences of one upper case letter followed by lower case letters\n",
    "import re\n",
    "  \n",
    "def match(text):\n",
    "          \n",
    "        \n",
    "        pattern = '[A-Z]+[a-z]+$'\n",
    "          \n",
    "        if re.search(pattern, text):\n",
    "                return('Yes')\n",
    "        else:\n",
    "                return('No')\n",
    "\n",
    "print(match(\"Geeks\"))\n",
    "print(match(\"geeksforGeeks\"))\n",
    "print(match(\"geeks\"))"
   ]
  },
  {
   "cell_type": "code",
   "execution_count": 5,
   "id": "ac1423c7",
   "metadata": {},
   "outputs": [
    {
     "name": "stdout",
     "output_type": "stream",
     "text": [
      "There are two children playing in the park\n"
     ]
    }
   ],
   "source": [
    "#3.\tPython Program to Remove duplicate words from Sentence\n",
    "from collections import Counter \n",
    "def remove_duplicate(s):\n",
    "\n",
    "    s = s.split(\" \")\n",
    "    word_dic = Counter(s)\n",
    "    result = \" \".join(word_dic.keys())\n",
    "    print (result)\n",
    "\n",
    "st = 'There are two children children playing in the park'\n",
    "remove_duplicate(st)"
   ]
  },
  {
   "cell_type": "code",
   "execution_count": 6,
   "id": "2d21574f",
   "metadata": {},
   "outputs": [
    {
     "name": "stdout",
     "output_type": "stream",
     "text": [
      "initial string :  123abcjw:, .@! eiw\n",
      "final string 123abcjweiw\n"
     ]
    }
   ],
   "source": [
    "#4.\tPython | Remove all characters except letters and numbers\n",
    "import re\n",
    "  \n",
    "ini_string = \"123abcjw:, .@! eiw\"\n",
    "  \n",
    "print (\"initial string : \", ini_string)\n",
    "  \n",
    "result = re.sub('[\\W_]+', '', ini_string)\n",
    "  \n",
    "print (\"final string\", result)"
   ]
  },
  {
   "cell_type": "code",
   "execution_count": 7,
   "id": "ca7cb522",
   "metadata": {},
   "outputs": [
    {
     "name": "stdout",
     "output_type": "stream",
     "text": [
      "Discard\n",
      "Accept\n",
      "Discard\n",
      "Accept\n"
     ]
    }
   ],
   "source": [
    "#5.\tPython Regex | Program to accept string ending with alphanumeric character\n",
    "import re\n",
    " \n",
    "regex = '[a-zA-z0-9]$'\n",
    "     \n",
    "def check(string):\n",
    " \n",
    "     \n",
    "    if(re.search(regex, string)):\n",
    "        print(\"Accept\")\n",
    "         \n",
    "    else:\n",
    "        print(\"Discard\")\n",
    "\n",
    "if __name__ == '__main__' :\n",
    "     \n",
    "    string = \"ankirai@\"\n",
    "     \n",
    "    check(string)\n",
    " \n",
    "    string = \"ankitrai326\"\n",
    "    check(string)\n",
    " \n",
    "    string = \"ankit.\"\n",
    "    check(string)\n",
    " \n",
    "    string = \"geeksforgeeks\"\n",
    "    check(string)"
   ]
  },
  {
   "cell_type": "code",
   "execution_count": 8,
   "id": "89c72a0f",
   "metadata": {},
   "outputs": [
    {
     "name": "stdout",
     "output_type": "stream",
     "text": [
      "Valid\n",
      "Invalid\n",
      "Invalid\n"
     ]
    }
   ],
   "source": [
    "#6.\tPython Regex – Program to accept string starting with vowel\n",
    "import re\n",
    " \n",
    "\n",
    "regex = '^[aeiouAEIOU][A-Za-z0-9_]*'\n",
    "     \n",
    "\n",
    "def check(string):\n",
    " \n",
    "     \n",
    "    if(re.search(regex, string)):\n",
    "        print(\"Valid\")\n",
    "         \n",
    "    else:\n",
    "        print(\"Invalid\")\n",
    "\n",
    "if __name__ == '__main__' :\n",
    "     \n",
    "    string = \"ankit\"\n",
    "     \n",
    "    check(string)\n",
    " \n",
    "    string = \"geeks\"\n",
    "    check(string)\n",
    " \n",
    "    string = \"sandeep\"\n",
    "    check(string)"
   ]
  },
  {
   "cell_type": "code",
   "execution_count": 11,
   "id": "1d893eb9",
   "metadata": {},
   "outputs": [
    {
     "name": "stdout",
     "output_type": "stream",
     "text": [
      "string starts with the given substring\n",
      "string doesn't start with the given substring\n"
     ]
    }
   ],
   "source": [
    "#7.\tPython Program to check if a string starts with a substring using regex\n",
    "\n",
    "import re\n",
    "   \n",
    "def find(string, sample) :\n",
    "    \n",
    "  \n",
    "  if (sample in string):\n",
    "  \n",
    "      y = \"^\" + sample\n",
    "  \n",
    "      x = re.search(y, string)\n",
    "  \n",
    "      if x :\n",
    "          print(\"string starts with the given substring\")\n",
    "  \n",
    "      else :\n",
    "          print(\"string doesn't start with the given substring\")\n",
    "  \n",
    "  else :\n",
    "        print(\"entered string isn't a substring\")\n",
    "  \n",
    "  \n",
    "# Driver code\n",
    "string = \"seeks  makes learning fun\"  \n",
    "sample = \"seeks\"\n",
    "  \n",
    "find(string, sample)\n",
    "  \n",
    "sample = \"makes\"\n",
    "  \n",
    "find(string, sample)"
   ]
  },
  {
   "cell_type": "code",
   "execution_count": 15,
   "id": "39a52c69",
   "metadata": {},
   "outputs": [
    {
     "name": "stdout",
     "output_type": "stream",
     "text": [
      "Yes\n"
     ]
    }
   ],
   "source": [
    "#8.\tPython Program to Check if an URL is valid or not using Regular Expression\n",
    "import re\n",
    " \n",
    "\n",
    "def isValidURL(str):\n",
    " \n",
    "    \n",
    "    regex = (\"((http|https)://)(www.)?\" +\n",
    "             \"[a-zA-Z0-9@:%._\\\\+~#?&//=]\" +\n",
    "             \"{2,256}\\\\.[a-z]\" +\n",
    "             \"{2,6}\\\\b([-a-zA-Z0-9@:%\" +\n",
    "             \"._\\\\+~#?&//=]*)\")\n",
    "     \n",
    "    \n",
    "    p = re.compile(regex)\n",
    " \n",
    "    \n",
    "    if (str == None):\n",
    "        return False\n",
    " \n",
    "    \n",
    "    if(re.search(p, str)):\n",
    "        return True\n",
    "    else:\n",
    "        return False\n",
    "\n",
    "url = \"https://www.google.org\"\n",
    " \n",
    "if(isValidURL(url) == True):\n",
    "    print(\"Yes\")\n",
    "else:\n",
    "    print(\"No\")"
   ]
  },
  {
   "cell_type": "code",
   "execution_count": 16,
   "id": "b14ef340",
   "metadata": {},
   "outputs": [
    {
     "name": "stdout",
     "output_type": "stream",
     "text": [
      "['https']\n",
      "['google.org']\n"
     ]
    }
   ],
   "source": [
    "#9.\tParsing and Processing URL using Python – Regex\n",
    "import re  \n",
    "  \n",
    "s = 'https://www.google.org/'\n",
    "  \n",
    "obj1 = re.findall('(\\w+)://',\n",
    "                  s)\n",
    "print(obj1)\n",
    "\n",
    "obj2 = re.findall('://www.([\\w\\-\\.]+)', \n",
    "                  s)\n",
    "print(obj2)"
   ]
  },
  {
   "cell_type": "code",
   "execution_count": 18,
   "id": "df886008",
   "metadata": {},
   "outputs": [
    {
     "name": "stdout",
     "output_type": "stream",
     "text": [
      "Valid Ip address\n",
      "Valid Ip address\n",
      "Invalid Ip address\n"
     ]
    }
   ],
   "source": [
    "#10.Python Program to validate an IP address using ReGex\n",
    "import re\n",
    "\n",
    "regex = \"^((25[0-5]|2[0-4][0-9]|1[0-9][0-9]|[1-9]?[0-9])\\.){3}(25[0-5]|2[0-4][0-9]|1[0-9][0-9]|[1-9]?[0-9])$\"\n",
    " \n",
    "def check(Ip):\n",
    " \n",
    "    \n",
    "    if(re.search(regex, Ip)):\n",
    "        print(\"Valid Ip address\")\n",
    "         \n",
    "    else:\n",
    "        print(\"Invalid Ip address\")\n",
    "\n",
    "if __name__ == '__main__' :\n",
    "     \n",
    "    Ip = \"192.168.0.1\"\n",
    "     \n",
    "    check(Ip)\n",
    " \n",
    "    Ip = \"110.234.52.124\"\n",
    "    check(Ip)\n",
    " \n",
    "    Ip = \"366.1.2.2\"\n",
    "    check(Ip)"
   ]
  }
 ],
 "metadata": {
  "kernelspec": {
   "display_name": "Python 3 (ipykernel)",
   "language": "python",
   "name": "python3"
  },
  "language_info": {
   "codemirror_mode": {
    "name": "ipython",
    "version": 3
   },
   "file_extension": ".py",
   "mimetype": "text/x-python",
   "name": "python",
   "nbconvert_exporter": "python",
   "pygments_lexer": "ipython3",
   "version": "3.10.1"
  }
 },
 "nbformat": 4,
 "nbformat_minor": 5
}
