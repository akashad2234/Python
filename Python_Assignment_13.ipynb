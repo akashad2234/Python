{
 "cells": [
  {
   "cell_type": "code",
   "execution_count": 1,
   "id": "b6870ee0",
   "metadata": {},
   "outputs": [
    {
     "name": "stdout",
     "output_type": "stream",
     "text": [
      "The joined list is: \n",
      "[(1, 2, 3, 4), (5, 6), (7, 8)]\n"
     ]
    }
   ],
   "source": [
    "#1.\tPython – Join Tuples if similar initial element\n",
    "List = [(1, 2), (1, 3), (1, 4), (5, 6), (7, 8)]\n",
    "\n",
    "result = []\n",
    "for sub in List:\n",
    "    if result and result[-1][0] == sub[0]:\n",
    "        result[-1].extend(sub[1:])\n",
    "    else:\n",
    "        result.append([ele for ele in sub])\n",
    "result = list(map(tuple, result))\n",
    "\n",
    "print(\"The joined list is: \" )\n",
    "print(result)"
   ]
  },
  {
   "cell_type": "code",
   "execution_count": 2,
   "id": "0cf5e75c",
   "metadata": {},
   "outputs": [
    {
     "name": "stdout",
     "output_type": "stream",
     "text": [
      "Digits Extracted:  [2, 5, 1, 9, 3]\n"
     ]
    }
   ],
   "source": [
    "#2.\tPython – Extract digits from Tuple list\n",
    "import re\n",
    "List = [(25, 13), (22, 19)]\n",
    "temp = re.sub(r'[\\[\\]\\(\\), ]', '', str(List))\n",
    "result =  [int(i) for i in set(temp)]\n",
    "print(\"Digits Extracted: \",result)"
   ]
  },
  {
   "cell_type": "code",
   "execution_count": 4,
   "id": "d9470145",
   "metadata": {},
   "outputs": [
    {
     "name": "stdout",
     "output_type": "stream",
     "text": [
      "The resultant tuple : [(1, 3), (1, 4), (2, 3), (2, 4), (3, 1), (3, 2), (4, 1), (4, 2)]\n"
     ]
    }
   ],
   "source": [
    "#3.\tPython – All pair combinations of 2 tuples\n",
    "from itertools import chain, product \n",
    "tuple1 = (1, 2)\n",
    "tuple2 = (3, 4) \n",
    "result = list(chain(product(tuple1, tuple2), product(tuple2, tuple1))) \n",
    "print(\"The resultant tuple : \" + str(result))"
   ]
  },
  {
   "cell_type": "code",
   "execution_count": 5,
   "id": "94854c54",
   "metadata": {},
   "outputs": [
    {
     "name": "stdout",
     "output_type": "stream",
     "text": [
      "Resultant list : [(12, 13, 14)]\n"
     ]
    }
   ],
   "source": [
    "#4.\tPython – Remove Tuples of Length K\n",
    "List =  [(12, 13, 14), (14, 15), (16, 17), (18, 19)]\n",
    "\n",
    "K = 2\n",
    "result = [a for a in List if len(a) != K]\n",
    "print(\"Resultant list : \" + str(result))"
   ]
  },
  {
   "cell_type": "code",
   "execution_count": 6,
   "id": "d0286ca3",
   "metadata": {},
   "outputs": [
    {
     "name": "stdout",
     "output_type": "stream",
     "text": [
      "Sorted Tuple List: [(100, 3), (200, 6), (300, 9), (400, 12)]\n"
     ]
    }
   ],
   "source": [
    "#5.\tSort a list of tuples by second Item\n",
    "\n",
    "tuple = [(200, 6), (100, 3), (400, 12), (300, 9)]\n",
    "\n",
    "def Sort(tuple): \n",
    "    tuple.sort(key = lambda a: a[1]) \n",
    "    return tuple \n",
    "\n",
    "print(\"Sorted Tuple List:\" ,Sort(tuple))"
   ]
  },
  {
   "cell_type": "code",
   "execution_count": 11,
   "id": "c114f435",
   "metadata": {},
   "outputs": [
    {
     "name": "stdout",
     "output_type": "stream",
     "text": [
      "The ordered tuple list is : \n",
      "[('Will', 91), ('Mark', 34), ('Rob', 23)]\n"
     ]
    }
   ],
   "source": [
    "#6.\tPython program to Order Tuples using external List\n",
    "my_list = [('Mark', 34), ('Will', 91), ('Rob', 23)]\n",
    "\n",
    "ordered_list = ['Will', 'Mark', 'Rob']\n",
    "temp = dict(my_list)\n",
    "my_result = [(key, temp[key]) for key in ordered_list]\n",
    "print(\"The ordered tuple list is : \")\n",
    "print(my_result)"
   ]
  },
  {
   "cell_type": "code",
   "execution_count": 2,
   "id": "bc1efd21",
   "metadata": {},
   "outputs": [
    {
     "name": "stdout",
     "output_type": "stream",
     "text": [
      "The tuple of list : ([4, 9, 1], [5, 6])\n",
      "Tuple after flattening : (4, 9, 1, 5, 6)\n"
     ]
    }
   ],
   "source": [
    "#7.\tPython – Flatten tuple of List to tuple\n",
    "listTup = ([4, 9, 1], [5 ,6])\n",
    "print(\"The tuple of list : \" + str(listTup))\n",
    "\n",
    "flatTup = tuple(sum(listTup, []))\n",
    "\n",
    "print(\"Tuple after flattening : \" + str(flatTup))"
   ]
  },
  {
   "cell_type": "code",
   "execution_count": 3,
   "id": "63acd6cc",
   "metadata": {},
   "outputs": [
    {
     "name": "stdout",
     "output_type": "stream",
     "text": [
      "The converted dictionary is : \n",
      "[{'key': 6, 'value': 'Will', 'id': 13}, {'key': 2, 'value': 'Mark', 'id': 15}, {'key': 9, 'value': 'Rob', 'id': 12}]\n"
     ]
    }
   ],
   "source": [
    "#8.\tPython – Convert Nested Tuple to Custom Key Dictionary\n",
    "my_tuple = ((6, 'Will', 13), (2, 'Mark', 15), (9, 'Rob', 12))\n",
    "\n",
    "my_result = [{'key': sub[0], 'value': sub[1], 'id': sub[2]}\n",
    "   for sub in my_tuple]\n",
    "\n",
    "print(\"The converted dictionary is : \")\n",
    "print(my_result)"
   ]
  },
  {
   "cell_type": "code",
   "execution_count": 5,
   "id": "74344f26",
   "metadata": {},
   "outputs": [
    {
     "name": "stdout",
     "output_type": "stream",
     "text": [
      "Element is present at index 3\n"
     ]
    }
   ],
   "source": [
    "#9.\tPython Program for Binary Search (Recursive and Iterative)\n",
    "def binary_search(arr, low, high, x):\n",
    " \n",
    "   \n",
    "    if high >= low:\n",
    " \n",
    "        mid = (high + low) // 2\n",
    " \n",
    "        \n",
    "        if arr[mid] == x:\n",
    "            return mid\n",
    " \n",
    "        \n",
    "        elif arr[mid] > x:\n",
    "            return binary_search(arr, low, mid - 1, x)\n",
    " \n",
    "        \n",
    "        else:\n",
    "            return binary_search(arr, mid + 1, high, x)\n",
    " \n",
    "    else:\n",
    "        \n",
    "        return -1\n",
    "\n",
    "arr = [ 2, 3, 4, 10, 40 ]\n",
    "x = 10\n",
    " \n",
    "result = binary_search(arr, 0, len(arr)-1, x)\n",
    " \n",
    "if result != -1:\n",
    "    print(\"Element is present at index\", str(result))\n",
    "else:\n",
    "    print(\"Element is not present in array\")"
   ]
  },
  {
   "cell_type": "code",
   "execution_count": 6,
   "id": "38224755",
   "metadata": {},
   "outputs": [
    {
     "name": "stdout",
     "output_type": "stream",
     "text": [
      "element found at index 6\n"
     ]
    }
   ],
   "source": [
    "#10.\tPython Program for Linear Search\n",
    "def linearsearch(arr, x):\n",
    "    for i in range(len(arr)):\n",
    "        if arr[i] == x:\n",
    "            return i\n",
    "    return -1\n",
    "arr = ['t','u','t','o','r','i','a','l']\n",
    "x = 'a'\n",
    "print(\"element found at index \"+str(linearsearch(arr,x)))"
   ]
  },
  {
   "cell_type": "code",
   "execution_count": 7,
   "id": "2ff89c84",
   "metadata": {},
   "outputs": [
    {
     "name": "stdout",
     "output_type": "stream",
     "text": [
      "Sorted array is:\n",
      "5\n",
      "6\n",
      "11\n",
      "12\n",
      "13\n"
     ]
    }
   ],
   "source": [
    "#11.\tPython Program for Insertion Sort\n",
    "def insertionSort(arr):\n",
    "  \n",
    "    for i in range(1, len(arr)):\n",
    "  \n",
    "        key = arr[i]\n",
    "  \n",
    "      \n",
    "        j = i-1\n",
    "        while j >=0 and key < arr[j] :\n",
    "                arr[j+1] = arr[j]\n",
    "                j -= 1\n",
    "        arr[j+1] = key\n",
    "  \n",
    "  \n",
    "arr = [12, 11, 13, 5, 6]\n",
    "insertionSort(arr)\n",
    "print (\"Sorted array is:\")\n",
    "for i in range(len(arr)):\n",
    "    print (\"%d\" %arr[i])"
   ]
  }
 ],
 "metadata": {
  "kernelspec": {
   "display_name": "Python 3 (ipykernel)",
   "language": "python",
   "name": "python3"
  },
  "language_info": {
   "codemirror_mode": {
    "name": "ipython",
    "version": 3
   },
   "file_extension": ".py",
   "mimetype": "text/x-python",
   "name": "python",
   "nbconvert_exporter": "python",
   "pygments_lexer": "ipython3",
   "version": "3.10.1"
  }
 },
 "nbformat": 4,
 "nbformat_minor": 5
}
