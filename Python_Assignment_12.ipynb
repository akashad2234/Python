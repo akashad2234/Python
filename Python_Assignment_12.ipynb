{
 "cells": [
  {
   "cell_type": "code",
   "execution_count": 3,
   "id": "f3a1c724",
   "metadata": {},
   "outputs": [
    {
     "name": "stdout",
     "output_type": "stream",
     "text": [
      "{'Key 1': 1, 'Key 2': 2, 'Key 3': 3, 'Key 4': 4, 'Key 5': 5}\n"
     ]
    }
   ],
   "source": [
    "#1.\tPython | Convert a list of Tuples into Dictionary\n",
    "tuples = (('Key 1', 1), ('Key 2', 2), ('Key 3', 3), ('Key 4', 4), ('Key 5', 5))\n",
    "\n",
    "result = dict(tuples)\n",
    "\n",
    "print(result)"
   ]
  },
  {
   "cell_type": "code",
   "execution_count": 5,
   "id": "d8005eb8",
   "metadata": {},
   "outputs": [
    {
     "name": "stdout",
     "output_type": "stream",
     "text": [
      "Possible\n"
     ]
    }
   ],
   "source": [
    "#2.\tPython counter and dictionary intersection example (Make a string using deletion and rearrangement)\n",
    "from collections import Counter\n",
    "  \n",
    "def makeString(str1,str2):\n",
    "  \n",
    "   \n",
    "    dict1 = Counter(str1)\n",
    "    dict2 = Counter(str2)\n",
    "   \n",
    "    result = dict1 & dict2\n",
    "  \n",
    "    return result == dict1\n",
    "  \n",
    "if __name__ == \"__main__\":\n",
    "    str1 = 'ABHISHEKsinGH'\n",
    "    str2 = 'gfhfBHkooIHnfndSHEKsiAnG'\n",
    "    if (makeString(str1,str2)==True):\n",
    "        print(\"Possible\")\n",
    "        \n",
    "    else:\n",
    "        print(\"Not Possible\")"
   ]
  },
  {
   "cell_type": "code",
   "execution_count": 25,
   "id": "1fb30127",
   "metadata": {},
   "outputs": [
    {
     "name": "stdout",
     "output_type": "stream",
     "text": [
      "The string is :\n",
      "xxxyyyzzzzzz\n",
      "The frequencies are not same\n"
     ]
    }
   ],
   "source": [
    "#3.\tPython dictionary, set and counter to check if frequencies can become same\n",
    "from collections import Counter\n",
    "def check_all_same(my_input):\n",
    "    my_dict = Counter(my_input)\n",
    "    input_2 = list(set(my_dict.values()))\n",
    "    if len(input_2)>2:\n",
    "        print('The frequencies are not same')\n",
    "    elif len (input_2)==2 and input_2[1]-input_2[0]>1:\n",
    "        print('The frequencies are not same')\n",
    "    else:\n",
    "        print('The frequencies are same')\n",
    "\n",
    "my_str = 'xxxyyyzzzzzz'\n",
    "print(\"The string is :\")\n",
    "print(my_str)\n",
    "check_all_same(my_str)"
   ]
  },
  {
   "cell_type": "code",
   "execution_count": 26,
   "id": "a436bd71",
   "metadata": {},
   "outputs": [
    {
     "name": "stdout",
     "output_type": "stream",
     "text": [
      "aaa :  Word is ordered\n",
      "aah :  Word is ordered\n",
      "aahs :  Word is ordered\n",
      "aal :  Word is ordered\n",
      "aals :  Word is ordered\n",
      "aam :  Word is ordered\n",
      "aaru :  Word is ordered\n",
      "aas :  Word is ordered\n"
     ]
    }
   ],
   "source": [
    "#4.\tScraping And Finding Ordered Words In A Dictionary using Python\n",
    "import requests \n",
    "def scrapeWords(): \n",
    " \n",
    "  scrape_url = \"https://raw.githubusercontent.com/dwyl/english-words/master/words_alpha.txt\"\n",
    "  scrapeData = requests.get(scrape_url) \n",
    "  listofwords = scrapeData.content \n",
    "  listofwords = listofwords.decode(\"utf-8\").split() \n",
    "  return listofwords \n",
    "def isOrdered():  \n",
    "  collection = scrapeWords() \n",
    "  collection = collection[:100] \n",
    "  word = '' \n",
    "  for word in collection: \n",
    "    result = 'Word is ordered'\n",
    "    i = 0\n",
    "    l = len(word) - 1\n",
    "    if (len(word) < 3):  \n",
    "      continue\n",
    "    while i < l:     \n",
    "      if (ord(word[i]) > ord(word[i+1])): \n",
    "        result = 'Word is not ordered'\n",
    "        break\n",
    "      else: \n",
    "        i += 1 \n",
    "    if (result == 'Word is ordered'): \n",
    "      print(word,': ',result) \n",
    "if __name__ == '__main__': \n",
    "  isOrdered()"
   ]
  },
  {
   "cell_type": "code",
   "execution_count": 27,
   "id": "606e4d63",
   "metadata": {},
   "outputs": [
    {
     "name": "stdout",
     "output_type": "stream",
     "text": [
      "bat\n",
      "goal\n",
      "get\n",
      "got\n"
     ]
    }
   ],
   "source": [
    "#5.\tPossible Words using given characters in Python\n",
    "def Countchar(word):\n",
    "    dict = {}\n",
    "    for i in word:\n",
    "        dict[i] = dict.get(i, 0) + 1\n",
    "    return dict\n",
    "def find_words(word_list, charSet):\n",
    "    for word in word_list:\n",
    "        flag = 1\n",
    "        chars = Countchar(word)\n",
    "        for key in chars:\n",
    "            if key not in charSet:\n",
    "                flag = 0\n",
    "            else:\n",
    "                if charSet.count(key) != chars[key]:\n",
    "                    flag = 0\n",
    "        if flag == 1:\n",
    "            print(word)\n",
    "\n",
    "word_list = ['mat', 'boy', 'bat', 'goal', 'get', 'got', 'orange']\n",
    "charSet = ['e', 'o', 'b', 'a', 'g', 'l', 't']\n",
    "find_words(word_list, charSet)"
   ]
  },
  {
   "cell_type": "code",
   "execution_count": 29,
   "id": "bce0bebd",
   "metadata": {},
   "outputs": [
    {
     "name": "stdout",
     "output_type": "stream",
     "text": [
      "The keys mapped to [5, 10] are : ['gfg', 'best']\n"
     ]
    }
   ],
   "source": [
    "#6.\tPython – Keys associated with Values in Dictionary\n",
    "test_dict = {'gfg' : [4, 5], 'is' : [8], 'best' : [10, 12]}\n",
    "    \n",
    "val_list = [5, 10]\n",
    "  \n",
    "temp = {}\n",
    "for key, vals in test_dict.items():\n",
    "    for val in vals:\n",
    "        temp[val] = key\n",
    "res = [temp[ele] for ele in val_list]\n",
    "  \n",
    "print(\"The keys mapped to \" + str(val_list) + \" are : \" + str(res)) "
   ]
  },
  {
   "cell_type": "code",
   "execution_count": 30,
   "id": "62314bbc",
   "metadata": {},
   "outputs": [
    {
     "name": "stdout",
     "output_type": "stream",
     "text": [
      "Size of tuple1:  72 bytes\n",
      "Size of tuple2:  64 bytes\n",
      "Size of tuple3:  72 bytes\n"
     ]
    }
   ],
   "source": [
    "#7.\tPython program to Find the size of a Tuple\n",
    "import sys\n",
    "tup1= (\"Studytonight\", 1, 2, 3)\n",
    "tup2= (\"Python\", \"Java\", \"C++\")\n",
    "tup3= ((1, 2), (4, 6), (7, 2), (10, 9))\n",
    "\n",
    "print(\"Size of tuple1: \", sys.getsizeof(tup1), \"bytes\")\n",
    "print(\"Size of tuple2: \", sys.getsizeof(tup2), \"bytes\")\n",
    "print(\"Size of tuple3: \", sys.getsizeof(tup3), \"bytes\")"
   ]
  },
  {
   "cell_type": "code",
   "execution_count": 32,
   "id": "c3404e77",
   "metadata": {},
   "outputs": [
    {
     "name": "stdout",
     "output_type": "stream",
     "text": [
      "Max and Min K elements :  (2, 5, 13, 23)\n"
     ]
    }
   ],
   "source": [
    "#8.\tPython – Maximum and Minimum K elements in Tuple\n",
    "def Findel(tup,K):\n",
    "    result = []\n",
    "    test_tup = list(tup)\n",
    "    temp = sorted(tup)\n",
    "    for i, val in enumerate(temp):\n",
    "        if i < K or i >= len(temp) - K:\n",
    "            result.append(val)\n",
    "    result = tuple(result)\n",
    "    # printing result \n",
    "    print(\"Max and Min K elements : \",result)\n",
    "\n",
    "tup = (13, 10, 23, 2, 5, 6, 12)\n",
    "K = 2\n",
    "Findel(tup,K)"
   ]
  },
  {
   "cell_type": "code",
   "execution_count": 33,
   "id": "210ff56a",
   "metadata": {},
   "outputs": [
    {
     "name": "stdout",
     "output_type": "stream",
     "text": [
      "[(3, 27), (4, 64), (1, 1), (2, 8)]\n"
     ]
    }
   ],
   "source": [
    "#9.\tCreate a list of tuples from given list having number and its cube in each tuple\n",
    "\n",
    "def cubeoflist(li):\n",
    "    result=[(num, num**3) for num in li]\n",
    "    return result\n",
    "\n",
    "li = [3, 4, 1, 2]\n",
    "print(cubeoflist(li))"
   ]
  },
  {
   "cell_type": "code",
   "execution_count": 34,
   "id": "1835b661",
   "metadata": {},
   "outputs": [
    {
     "name": "stdout",
     "output_type": "stream",
     "text": [
      "The list after addition is : \n",
      "[3, 6, 9, 45, 66, 11, 14, 21]\n"
     ]
    }
   ],
   "source": [
    "#10.Python – Adding Tuple to List and vice – versa\n",
    "my_list = [3, 6, 9, 45, 66]\n",
    "\n",
    "my_tup = (11, 14, 21)\n",
    "\n",
    "my_list += my_tup\n",
    "\n",
    "print(\"The list after addition is : \" )\n",
    "print(my_list)"
   ]
  },
  {
   "cell_type": "code",
   "execution_count": 41,
   "id": "226c98a9",
   "metadata": {},
   "outputs": [
    {
     "name": "stdout",
     "output_type": "stream",
     "text": [
      "The value of K has been initialized to : 2\n",
      "The tuple nearest to Kth index element is :  (21, 35)\n"
     ]
    }
   ],
   "source": [
    "#11.\tPython – Closest Pair to Kth index element in Tuple\n",
    "my_list = [(5, 6), (66, 76), (21, 35), (90, 8), (9, 0)]\n",
    "\n",
    "\n",
    "my_tuple = (17, 23)\n",
    "\n",
    "K = 2\n",
    "print(\"The value of K has been initialized to :\",K)\n",
    "\n",
    "min_diff, my_result = 999999999, None\n",
    "for idx, val in enumerate(my_list):\n",
    "    diff = abs(my_tuple[K - 1] - val[K - 1])\n",
    "    if diff < min_diff:\n",
    "        min_diff, my_result = diff, idx\n",
    "\n",
    "print(\"The tuple nearest to Kth index element is : \",my_list[my_result])\n"
   ]
  }
 ],
 "metadata": {
  "kernelspec": {
   "display_name": "Python 3 (ipykernel)",
   "language": "python",
   "name": "python3"
  },
  "language_info": {
   "codemirror_mode": {
    "name": "ipython",
    "version": 3
   },
   "file_extension": ".py",
   "mimetype": "text/x-python",
   "name": "python",
   "nbconvert_exporter": "python",
   "pygments_lexer": "ipython3",
   "version": "3.10.1"
  }
 },
 "nbformat": 4,
 "nbformat_minor": 5
}
