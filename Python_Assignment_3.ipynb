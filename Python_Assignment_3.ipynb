{
 "cells": [
  {
   "cell_type": "code",
   "execution_count": 4,
   "id": "9af0b5d6",
   "metadata": {},
   "outputs": [
    {
     "name": "stdout",
     "output_type": "stream",
     "text": [
      "Output is  2\n"
     ]
    }
   ],
   "source": [
    "#1.Python Program for Find reminder of array multiplication divided by n\n",
    "def remainder(arr,length,k):\n",
    "\n",
    "    multi = 1\n",
    "\n",
    "    for i in range(0,length):\n",
    "\n",
    "        multi = (multi * (arr[i] % k)) % k\n",
    "\n",
    "    return multi % k\n",
    "\n",
    "arr = [101, 1, 5, 2]\n",
    "length = len(arr)\n",
    "\n",
    "k = 3\n",
    "\n",
    "print(\"Output is \", remainder(arr, length, k))"
   ]
  },
  {
   "cell_type": "code",
   "execution_count": 5,
   "id": "4fd8dc5b",
   "metadata": {},
   "outputs": [
    {
     "name": "stdout",
     "output_type": "stream",
     "text": [
      "True\n"
     ]
    }
   ],
   "source": [
    "#2.Python Program to check if given array is Monotonic\n",
    "def isMonotonic(A):\n",
    "    return (all(A[i] <= A[i + 1] for i in range(len(A) - 1)) or\n",
    "      all(A[i] >= A[i + 1] for i in range(len(A) - 1)))\n",
    "# main\n",
    "A = [1,2,3,4,7,8]\n",
    "print(isMonotonic(A))"
   ]
  },
  {
   "cell_type": "code",
   "execution_count": 15,
   "id": "a8df9272",
   "metadata": {},
   "outputs": [
    {
     "name": "stdout",
     "output_type": "stream",
     "text": [
      "Enter number of elements: 6\n",
      "1\n",
      "7\n",
      "3\n",
      "90\n",
      "23\n",
      "4\n",
      "List after Swapping :  [4, 7, 3, 90, 23, 1]\n"
     ]
    }
   ],
   "source": [
    "#3.Python program to interchange first and last elements in a list\n",
    "\n",
    "myList = []\n",
    "length = int(input(\"Enter number of elements: \"))\n",
    "for i in range(0, length):\n",
    "    val = int(input())\n",
    "    myList.append(val)\n",
    "\n",
    "# Swapping first and last element\n",
    "temp = myList[0]\n",
    "myList[0] = myList[length - 1]\n",
    "myList[length - 1] = temp\n",
    "\n",
    "print(\"List after Swapping : \", myList)"
   ]
  },
  {
   "cell_type": "code",
   "execution_count": 14,
   "id": "c5d257e5",
   "metadata": {},
   "outputs": [
    {
     "name": "stdout",
     "output_type": "stream",
     "text": [
      "Enter number of elements: 5\n",
      "10\n",
      "20\n",
      "30\n",
      "40\n",
      "50\n",
      "Enter indexes to be swapped \n",
      "index 1: 2\n",
      "index 2: 4\n",
      "Initial List:  [10, 20, 30, 40, 50]\n",
      "List after Swapping:  [10, 20, 50, 40, 30]\n"
     ]
    }
   ],
   "source": [
    "#4.Python program to swap two elements in a list\n",
    "\n",
    "myList = []\n",
    "length = int(input(\"Enter number of elements: \"))\n",
    "for i in range(0, length):\n",
    "    val = int(input())\n",
    "    myList.append(val)\n",
    "\n",
    "print(\"Enter indexes to be swapped \")\n",
    "index1 = int(input(\"index 1: \"))\n",
    "index2 = int(input(\"index 2: \"))\n",
    "\n",
    "print(\"Initial List: \", myList)\n",
    "# Swapping given elements\n",
    "myList[index1], myList[index2] = myList[index2], myList[index1]\n",
    "\n",
    "print(\"List after Swapping: \", myList)\n"
   ]
  },
  {
   "cell_type": "code",
   "execution_count": 22,
   "id": "8495841a",
   "metadata": {},
   "outputs": [
    {
     "name": "stdout",
     "output_type": "stream",
     "text": [
      "The list is : ['Hello', 'Akash', 1, 2, 3]\n",
      "Length of list using naive method is : 5\n"
     ]
    }
   ],
   "source": [
    "#5.write a program to find length of list\n",
    "\n",
    "ListName = [ \"Hello\", \"Akash\", 1,2,3 ]\n",
    "print (\"The list is : \" + str(ListName))\n",
    "counter = 0\n",
    "for i in ListName:\n",
    "        counter = counter + 1\n",
    "print (\"Length of list using naive method is : \" + str(counter))"
   ]
  },
  {
   "cell_type": "code",
   "execution_count": 25,
   "id": "c01dad3e",
   "metadata": {},
   "outputs": [
    {
     "name": "stdout",
     "output_type": "stream",
     "text": [
      "Check if 34 is in [9, 2, 34, 2, 5, 9, 16]\n",
      "True\n"
     ]
    }
   ],
   "source": [
    "#6.write a program to check if element exists in list\n",
    "def check(list,element):\n",
    "    if element in list:\n",
    "        return True\n",
    "    else:\n",
    "        return False\n",
    "\n",
    "li=[9, 2, 34, 2, 5, 9, 16]\n",
    "element= 34\n",
    "\n",
    "print(\"Check if\",element,\"is in\",li)\n",
    "print(check(li,element))"
   ]
  },
  {
   "cell_type": "code",
   "execution_count": 27,
   "id": "3151be16",
   "metadata": {},
   "outputs": [
    {
     "name": "stdout",
     "output_type": "stream",
     "text": [
      "List before clear(): [2, 3, 5, 7, 9, 11]\n",
      "List after clear(): []\n"
     ]
    }
   ],
   "source": [
    "#7.write a program to clear a list in Python\n",
    "\n",
    "prime_numbers = [2, 3, 5, 7, 9, 11]\n",
    "print('List before clear():', prime_numbers)\n",
    "# remove all elements\n",
    "prime_numbers.clear()\n",
    "print('List after clear():', prime_numbers)"
   ]
  },
  {
   "cell_type": "code",
   "execution_count": 28,
   "id": "73562514",
   "metadata": {},
   "outputs": [
    {
     "name": "stdout",
     "output_type": "stream",
     "text": [
      "Reversed List: [7, 5, 3, 2]\n"
     ]
    }
   ],
   "source": [
    "#8.write a program to Reversing a List\n",
    "prime_numbers = [2, 3, 5, 7]\n",
    "\n",
    "# reverse the order of list elements\n",
    "prime_numbers.reverse()\n",
    "print('Reversed List:', prime_numbers)"
   ]
  },
  {
   "cell_type": "code",
   "execution_count": 33,
   "id": "23af066d",
   "metadata": {},
   "outputs": [
    {
     "name": "stdout",
     "output_type": "stream",
     "text": [
      "Sum of all elements in given list:  74\n"
     ]
    }
   ],
   "source": [
    "#9.write a program to find sum of elements in list\n",
    "\n",
    "list1 = [11, 5, 17, 18, 23]\n",
    "total = 0 \n",
    "for ele in range(0, len(list1)):\n",
    "         total = total + list1[ele]\n",
    "print(\"Sum of all elements in given list: \", total)"
   ]
  },
  {
   "cell_type": "code",
   "execution_count": 34,
   "id": "f4564634",
   "metadata": {},
   "outputs": [
    {
     "name": "stdout",
     "output_type": "stream",
     "text": [
      "Mul of all elements in given list:  40\n"
     ]
    }
   ],
   "source": [
    "#10.write a program to Multiply all numbers in the list\n",
    "\n",
    "list1 = [5,4,2]\n",
    "total = 1\n",
    "for ele in range(0, len(list1)):\n",
    "         total = total * list1[ele]\n",
    "print(\"Mul of all elements in given list: \", total)"
   ]
  }
 ],
 "metadata": {
  "kernelspec": {
   "display_name": "Python 3 (ipykernel)",
   "language": "python",
   "name": "python3"
  },
  "language_info": {
   "codemirror_mode": {
    "name": "ipython",
    "version": 3
   },
   "file_extension": ".py",
   "mimetype": "text/x-python",
   "name": "python",
   "nbconvert_exporter": "python",
   "pygments_lexer": "ipython3",
   "version": "3.10.1"
  }
 },
 "nbformat": 4,
 "nbformat_minor": 5
}
